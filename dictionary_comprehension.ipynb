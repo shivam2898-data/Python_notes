{
  "nbformat": 4,
  "nbformat_minor": 0,
  "metadata": {
    "colab": {
      "provenance": [],
      "authorship_tag": "ABX9TyOnXyGwW13Cdmi3YSswPZHe",
      "include_colab_link": true
    },
    "kernelspec": {
      "name": "python3",
      "display_name": "Python 3"
    },
    "language_info": {
      "name": "python"
    }
  },
  "cells": [
    {
      "cell_type": "markdown",
      "metadata": {
        "id": "view-in-github",
        "colab_type": "text"
      },
      "source": [
        "<a href=\"https://colab.research.google.com/github/shivam2898-data/Python_notes/blob/main/dictionary_comprehension.ipynb\" target=\"_parent\"><img src=\"https://colab.research.google.com/assets/colab-badge.svg\" alt=\"Open In Colab\"/></a>"
      ]
    },
    {
      "cell_type": "code",
      "execution_count": null,
      "metadata": {
        "id": "pODt0XtNWkpG"
      },
      "outputs": [],
      "source": [
        "#dictionary comprehension\n",
        "# dictionary comprehensions in python offer a concise way to create\n",
        "# dictionary from iterable.\n",
        "# similar to list comprehensions, they alloe you to\n",
        "# construct dictionaries in a single line, with an optional conditional for filtering\n",
        "\n",
        "# syntax:\n",
        "# {key_expression: value_expresson for item in iterable if condition}\n"
      ]
    },
    {
      "cell_type": "markdown",
      "source": [
        "## create adictionary of squares"
      ],
      "metadata": {
        "id": "aWAk4LqGkoQw"
      }
    },
    {
      "cell_type": "code",
      "source": [
        "square_dict={x:x**2 for x in range(1,8)}\n",
        "print(square_dict)"
      ],
      "metadata": {
        "colab": {
          "base_uri": "https://localhost:8080/"
        },
        "id": "EuNToGg-Xj4N",
        "outputId": "e5b1149b-d297-4d5d-932a-e8146b9533ca"
      },
      "execution_count": null,
      "outputs": [
        {
          "output_type": "stream",
          "name": "stdout",
          "text": [
            "{1: 1, 2: 4, 3: 9, 4: 16, 5: 25, 6: 36, 7: 49}\n"
          ]
        }
      ]
    },
    {
      "cell_type": "markdown",
      "source": [
        "## Filter even numbers"
      ],
      "metadata": {
        "id": "VNUqfjIgkgUR"
      }
    },
    {
      "cell_type": "code",
      "source": [
        "evens_dict={x:x**2 for x in range(10)if x%2==0}\n",
        "print(evens_dict)"
      ],
      "metadata": {
        "colab": {
          "base_uri": "https://localhost:8080/"
        },
        "id": "TakF8-c-Xu3K",
        "outputId": "1e7f1683-73cb-40ea-a301-3f1146883e85"
      },
      "execution_count": null,
      "outputs": [
        {
          "output_type": "stream",
          "name": "stdout",
          "text": [
            "{0: 0, 2: 4, 4: 16, 6: 36, 8: 64}\n"
          ]
        }
      ]
    },
    {
      "cell_type": "markdown",
      "source": [
        "## reverse a dictionary"
      ],
      "metadata": {
        "id": "yu7jgXnhZm2S"
      }
    },
    {
      "cell_type": "code",
      "source": [
        "\n",
        "original={'a':1,'b':2,'c':3}\n",
        "reversed_dict={v:k for k,v in original.items()}\n",
        "print(reversed_dict)"
      ],
      "metadata": {
        "colab": {
          "base_uri": "https://localhost:8080/"
        },
        "id": "1uhLIn2cX5ns",
        "outputId": "76d8ec36-7184-42ab-af5c-6850015a01ef"
      },
      "execution_count": null,
      "outputs": [
        {
          "output_type": "stream",
          "name": "stdout",
          "text": [
            "{1: 'a', 2: 'b', 3: 'c'}\n"
          ]
        }
      ]
    },
    {
      "cell_type": "markdown",
      "source": [
        "#convert list to dictionary with lengths\n"
      ],
      "metadata": {
        "id": "ITLd0y7WYw4Q"
      }
    },
    {
      "cell_type": "code",
      "source": [
        "words=['apple','banana','cherry']\n",
        "lenght_dict={word: len(word) for word in words}\n",
        "print(lenght_dict)"
      ],
      "metadata": {
        "colab": {
          "base_uri": "https://localhost:8080/"
        },
        "id": "SmpauFQ-YWg2",
        "outputId": "74d53fd0-2064-4aba-8846-8f1dc8940665"
      },
      "execution_count": null,
      "outputs": [
        {
          "output_type": "stream",
          "name": "stdout",
          "text": [
            "{'apple': 5, 'banana': 6, 'cherry': 6}\n"
          ]
        }
      ]
    },
    {
      "cell_type": "markdown",
      "source": [
        "## dictionary of conditional values"
      ],
      "metadata": {
        "id": "kuQ62M8mYvic"
      }
    },
    {
      "cell_type": "code",
      "source": [
        "even_odd_dict={x:('even'if x%2==0 else 'odd')for x in range(1,6)}\n",
        "print(even_odd_dict)"
      ],
      "metadata": {
        "colab": {
          "base_uri": "https://localhost:8080/"
        },
        "id": "mJ185P29YsC-",
        "outputId": "92448355-e480-4e32-9b92-956798230d64"
      },
      "execution_count": null,
      "outputs": [
        {
          "output_type": "stream",
          "name": "stdout",
          "text": [
            "{1: 'odd', 2: 'even', 3: 'odd', 4: 'even', 5: 'odd'}\n"
          ]
        }
      ]
    },
    {
      "cell_type": "code",
      "source": [],
      "metadata": {
        "id": "DW5xJIYOZitk"
      },
      "execution_count": null,
      "outputs": []
    }
  ]
}