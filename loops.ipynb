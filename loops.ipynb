{
  "nbformat": 4,
  "nbformat_minor": 0,
  "metadata": {
    "colab": {
      "provenance": [],
      "authorship_tag": "ABX9TyPGmgyqKKjgSkG5QmqT8aiE",
      "include_colab_link": true
    },
    "kernelspec": {
      "name": "python3",
      "display_name": "Python 3"
    },
    "language_info": {
      "name": "python"
    }
  },
  "cells": [
    {
      "cell_type": "markdown",
      "metadata": {
        "id": "view-in-github",
        "colab_type": "text"
      },
      "source": [
        "<a href=\"https://colab.research.google.com/github/shivam2898-data/Python_notes/blob/main/loops.ipynb\" target=\"_parent\"><img src=\"https://colab.research.google.com/assets/colab-badge.svg\" alt=\"Open In Colab\"/></a>"
      ]
    },
    {
      "cell_type": "code",
      "execution_count": null,
      "metadata": {
        "colab": {
          "base_uri": "https://localhost:8080/"
        },
        "id": "F24I9aKt8Dpv",
        "outputId": "8a1f96fa-2a2c-4799-9b93-6d22add371dd"
      },
      "outputs": [
        {
          "output_type": "stream",
          "name": "stdout",
          "text": [
            "enter your number :8\n",
            "8X1=8\n",
            "8X2=16\n",
            "8X3=24\n",
            "8X4=32\n",
            "8X5=40\n",
            "8X6=48\n",
            "8X7=56\n",
            "8X8=64\n",
            "8X9=72\n",
            "8X10=80\n"
          ]
        }
      ],
      "source": [
        "#table using while loop\n",
        "n=int(input(\"enter your number :\"))\n",
        "i=1\n",
        "while(i<=10):\n",
        "  print(f\"{n}X{i}={n*i}\")\n",
        "  i=i+1"
      ]
    },
    {
      "cell_type": "code",
      "source": [
        "#reverse table using while loop\n",
        "n=int(input(\"enter a numbe :\"))\n",
        "i=10\n",
        "while(i>=1):\n",
        "  print(f\"{n}x{i}={n*i}\")\n",
        "  i=i-1"
      ],
      "metadata": {
        "colab": {
          "base_uri": "https://localhost:8080/"
        },
        "id": "5AYgPkE89yxS",
        "outputId": "79b26080-cede-47a4-eeba-b79113d21620"
      },
      "execution_count": null,
      "outputs": [
        {
          "output_type": "stream",
          "name": "stdout",
          "text": [
            "enter a numbe :8\n",
            "8x10=80\n",
            "8x9=72\n",
            "8x8=64\n",
            "8x7=56\n",
            "8x6=48\n",
            "8x5=40\n",
            "8x4=32\n",
            "8x3=24\n",
            "8x2=16\n",
            "8x1=8\n"
          ]
        }
      ]
    },
    {
      "cell_type": "code",
      "source": [
        "#reverse table using for loop\n",
        "n=int(input(\"enter a number :\"))\n",
        "for i in range(10,0,-1) :\n",
        "  print(f\"{n}x{i}={n*i}\")\n"
      ],
      "metadata": {
        "colab": {
          "base_uri": "https://localhost:8080/"
        },
        "id": "J9x-vc6j-eau",
        "outputId": "efabbac9-003c-4fdf-958e-916245d1072b"
      },
      "execution_count": null,
      "outputs": [
        {
          "output_type": "stream",
          "name": "stdout",
          "text": [
            "enter a number :8\n",
            "8x10=80\n",
            "8x9=72\n",
            "8x8=64\n",
            "8x7=56\n",
            "8x6=48\n",
            "8x5=40\n",
            "8x4=32\n",
            "8x3=24\n",
            "8x2=16\n",
            "8x1=8\n"
          ]
        }
      ]
    },
    {
      "cell_type": "code",
      "source": [
        "# table using for loop\n",
        "n=int(input(\"enter a number :\"))\n",
        "for i in range(1,11) :\n",
        "  print(f\"{n}x{i}={n*i}\")\n"
      ],
      "metadata": {
        "colab": {
          "base_uri": "https://localhost:8080/"
        },
        "id": "_dT80Hs6_27w",
        "outputId": "ce1330c3-c423-4b6c-c11e-8a2b71a10dd8"
      },
      "execution_count": null,
      "outputs": [
        {
          "output_type": "stream",
          "name": "stdout",
          "text": [
            "enter a number :8\n",
            "8x1=8\n",
            "8x2=16\n",
            "8x3=24\n",
            "8x4=32\n",
            "8x5=40\n",
            "8x6=48\n",
            "8x7=56\n",
            "8x8=64\n",
            "8x9=72\n",
            "8x10=80\n"
          ]
        }
      ]
    },
    {
      "cell_type": "code",
      "source": [
        "#factorial using for loop\n",
        "n=int(input(\"enter a number :\"))\n",
        "fact=1\n",
        "for i in range(1,n+1):\n",
        "  fact=fact*i\n",
        "print(f\"{fact}\")"
      ],
      "metadata": {
        "colab": {
          "base_uri": "https://localhost:8080/"
        },
        "id": "U_nn_NtH_24S",
        "outputId": "cafc45be-12d3-4a76-95f3-a7b6f4b8f67e"
      },
      "execution_count": null,
      "outputs": [
        {
          "output_type": "stream",
          "name": "stdout",
          "text": [
            "enter a number :5\n",
            "120\n"
          ]
        }
      ]
    },
    {
      "cell_type": "code",
      "source": [
        "#sum of N numbers using for loop\n",
        "n=int(input(\"enter a number :\"))\n",
        "sum=0\n",
        "for i in range(n+1):\n",
        "  sum=sum+i\n",
        "print(f\"{sum}\")"
      ],
      "metadata": {
        "colab": {
          "base_uri": "https://localhost:8080/"
        },
        "id": "SDSC6QF8Bsn_",
        "outputId": "f053f8c1-024c-4eee-b6cd-03095e77fe54"
      },
      "execution_count": null,
      "outputs": [
        {
          "output_type": "stream",
          "name": "stdout",
          "text": [
            "enter a number :5\n",
            "15\n"
          ]
        }
      ]
    },
    {
      "cell_type": "code",
      "source": [
        "#check prime or not\n",
        "n=int(input(\"enter a number :\"))\n",
        "count=0\n",
        "for i in range(2,n):\n",
        "  if(n%i==0):\n",
        "    count=count+1\n",
        "if(count>0):\n",
        "     print(\"not prime\")\n",
        "else:\n",
        "     print(\"prime\")"
      ],
      "metadata": {
        "colab": {
          "base_uri": "https://localhost:8080/"
        },
        "id": "1q_pRMh-CGY6",
        "outputId": "5d064257-94bc-40de-8d50-b71fa59520b0"
      },
      "execution_count": null,
      "outputs": [
        {
          "output_type": "stream",
          "name": "stdout",
          "text": [
            "enter a number :7\n",
            "prime\n"
          ]
        }
      ]
    },
    {
      "cell_type": "code",
      "source": [
        "#even number\n",
        "n=int(input(\"enter a number :\"))\n",
        "for i in range(n+1):\n",
        "  if(i%2==0):\n",
        "    print(f\"{i}\")"
      ],
      "metadata": {
        "colab": {
          "base_uri": "https://localhost:8080/"
        },
        "id": "Q0ZFKya3EcCw",
        "outputId": "a8175de7-ec89-43e3-bacf-a534eb300c97"
      },
      "execution_count": null,
      "outputs": [
        {
          "output_type": "stream",
          "name": "stdout",
          "text": [
            "enter a number :20\n",
            "0\n",
            "2\n",
            "4\n",
            "6\n",
            "8\n",
            "10\n",
            "12\n",
            "14\n",
            "16\n",
            "18\n",
            "20\n"
          ]
        }
      ]
    },
    {
      "cell_type": "code",
      "source": [
        "n=int(input(\"enter a number :\"))\n",
        "for n in range(2,n+1):\n",
        "  if(n%1==0):\n",
        "    print(f\"{i}\")\n",
        "    n=n/i\n",
        "  else:\n",
        "    i=i+1\n"
      ],
      "metadata": {
        "id": "SFcQaSH9J9ac"
      },
      "execution_count": null,
      "outputs": []
    }
  ]
}