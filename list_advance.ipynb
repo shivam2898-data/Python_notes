{
  "nbformat": 4,
  "nbformat_minor": 0,
  "metadata": {
    "colab": {
      "provenance": [],
      "authorship_tag": "ABX9TyNaZJDdJkakyZgCvABLZcRl",
      "include_colab_link": true
    },
    "kernelspec": {
      "name": "python3",
      "display_name": "Python 3"
    },
    "language_info": {
      "name": "python"
    }
  },
  "cells": [
    {
      "cell_type": "markdown",
      "metadata": {
        "id": "view-in-github",
        "colab_type": "text"
      },
      "source": [
        "<a href=\"https://colab.research.google.com/github/shivam2898-data/Python_notes/blob/main/list_advance.ipynb\" target=\"_parent\"><img src=\"https://colab.research.google.com/assets/colab-badge.svg\" alt=\"Open In Colab\"/></a>"
      ]
    },
    {
      "cell_type": "code",
      "execution_count": null,
      "metadata": {
        "colab": {
          "base_uri": "https://localhost:8080/"
        },
        "id": "p0pBNoNgWCSU",
        "outputId": "b0ed155e-874b-47b1-88ed-2b40e0c4475f"
      },
      "outputs": [
        {
          "output_type": "stream",
          "name": "stdout",
          "text": [
            "[10, 66, 78, 92]\n",
            "[23, 45, 89]\n"
          ]
        }
      ],
      "source": [
        "#1 You have a list of numbers. Separate even and odd numbers into two different lists.\n",
        "numbers = [10, 23, 45, 66, 78, 89, 92]\n",
        "even=list(filter(lambda x: x%2==0,numbers))\n",
        "odd=list(filter(lambda x:x%2!=0,numbers))\n",
        "print(even)\n",
        "print(odd)"
      ]
    },
    {
      "cell_type": "code",
      "source": [
        "#2 Given a list of numbers, find the largest and smallest number in the list.\n",
        "n= [5, 12, 8, 3, 20, 15]\n",
        "print(\"maxium no.is: \",max(n))\n",
        "print(\"miniume no.is: \",min(n))\n"
      ],
      "metadata": {
        "colab": {
          "base_uri": "https://localhost:8080/"
        },
        "id": "pAIaP3CDW6Ik",
        "outputId": "4a0d5584-3325-4e6f-c7fd-7e0d42ad3e5c"
      },
      "execution_count": null,
      "outputs": [
        {
          "output_type": "stream",
          "name": "stdout",
          "text": [
            "maxium no.is:  20\n",
            "miniume no.is:  3\n"
          ]
        }
      ]
    },
    {
      "cell_type": "code",
      "source": [
        "#3 Find the sum of all elements in a given list\n",
        "numbers = [4, 7, 1, 9, 3]\n",
        "sum=0\n",
        "for i in numbers:\n",
        "  sum=sum+i\n",
        "print(sum)\n"
      ],
      "metadata": {
        "colab": {
          "base_uri": "https://localhost:8080/"
        },
        "id": "8syOe2LxZCJ5",
        "outputId": "03716f28-7536-44c5-b1fa-e15de6dc0a45"
      },
      "execution_count": null,
      "outputs": [
        {
          "output_type": "stream",
          "name": "stdout",
          "text": [
            "24\n"
          ]
        }
      ]
    },
    {
      "cell_type": "code",
      "source": [
        "#4 Given a list, reverse it manually.\n",
        "numbers = [1, 2, 3, 4, 5]\n",
        "b=numbers[-1::-1]\n",
        "print(b)\n"
      ],
      "metadata": {
        "colab": {
          "base_uri": "https://localhost:8080/"
        },
        "id": "ddL5vPKYZiNd",
        "outputId": "ecee27b0-1bd2-4b27-ca0f-8d5798e83798"
      },
      "execution_count": null,
      "outputs": [
        {
          "output_type": "stream",
          "name": "stdout",
          "text": [
            "[5, 4, 3, 2, 1]\n"
          ]
        }
      ]
    },
    {
      "cell_type": "code",
      "source": [
        "#Count how many times each element appears in the list.\n",
        "n= [2, 3, 4, 2, 3, 5, 2]\n",
        "print(\"2 is appears: \",n.count(2))\n",
        "print(\"3 is appears: \",n.count(3))\n",
        "print(\"4 is appears: \",n.count(4))\n",
        "print(\"5 is appears: \",n.count(5))\n",
        "\n"
      ],
      "metadata": {
        "colab": {
          "base_uri": "https://localhost:8080/"
        },
        "id": "Vij32QoRamZn",
        "outputId": "dffee54c-bd71-466f-a7d9-0a8afdcb10ad"
      },
      "execution_count": null,
      "outputs": [
        {
          "output_type": "stream",
          "name": "stdout",
          "text": [
            "2 is appears:  3\n",
            "3 is appears:  2\n",
            "4 is appears:  1\n",
            "5 is appears:  1\n"
          ]
        }
      ]
    },
    {
      "cell_type": "code",
      "source": [
        "#Given a list of numbers, count how many are positive, negative, and zero.\n",
        "numbers = [3, -1, 0, 4, -2, 7, 0, -6]\n",
        "count_positive=0\n",
        "count_negative=0\n",
        "count_zero=0\n",
        "for i in numbers:\n",
        "  if(i>0):\n",
        "    count_positive+=1\n",
        "  elif(i<0):\n",
        "    count_negative+=1\n",
        "  elif(i==0):\n",
        "    count_zero+=1\n",
        "print(\"positive :\",count_positive)\n",
        "print(\"negative : \",count_negative)\n",
        "print(\"zero: \",count_zero)"
      ],
      "metadata": {
        "id": "EW2YEiamGq3g"
      },
      "execution_count": null,
      "outputs": []
    },
    {
      "cell_type": "code",
      "source": [
        "#Given a list with duplicate elements, remove duplicates without using set().\n",
        "numbers = [2, 4, 6, 8, 4, 2, 10, 6]\n",
        "b=set(numbers)\n",
        "print(b)"
      ],
      "metadata": {
        "colab": {
          "base_uri": "https://localhost:8080/"
        },
        "id": "UpZShXdzdXip",
        "outputId": "bbb1a314-5569-4e15-f6d8-568bf5200416"
      },
      "execution_count": null,
      "outputs": [
        {
          "output_type": "stream",
          "name": "stdout",
          "text": [
            "{2, 4, 6, 8, 10}\n"
          ]
        }
      ]
    },
    {
      "cell_type": "code",
      "source": [
        "#Given a list with duplicate elements, remove duplicates without using set().\n",
        "numbers = [2, 4, 6, 8, 4, 2, 10, 6]\n",
        "b=[]\n",
        "for i in numbers:\n",
        "  if i not in b:\n",
        "    b.append(i)\n",
        "print(b)\n"
      ],
      "metadata": {
        "colab": {
          "base_uri": "https://localhost:8080/"
        },
        "id": "iHF-T1GIMWyX",
        "outputId": "c8ea2055-cc4b-4bc7-9170-445a3fed63ae"
      },
      "execution_count": null,
      "outputs": [
        {
          "output_type": "stream",
          "name": "stdout",
          "text": [
            "[2, 4, 6, 8, 10]\n"
          ]
        }
      ]
    },
    {
      "cell_type": "code",
      "source": [
        "#Check whether a given list is sorted in ascending order.\n",
        "numbers = [2, 5, 7, 10, 15]\n",
        "b=sorted(numbers)\n",
        "if(b==numbers):\n",
        "  print(\"list is sorted\")\n",
        "else:\n",
        "  print(\"not sorted\")\n"
      ],
      "metadata": {
        "colab": {
          "base_uri": "https://localhost:8080/"
        },
        "id": "e9UIN7vGe1UA",
        "outputId": "478926ec-ea02-4719-bf6a-00b0e6bac5c4"
      },
      "execution_count": null,
      "outputs": [
        {
          "output_type": "stream",
          "name": "stdout",
          "text": [
            "list is sorted\n"
          ]
        }
      ]
    },
    {
      "cell_type": "code",
      "source": [
        "numbers = [1, 3, 5, 3, 7, 9, 1, 5]\n",
        "b=set(numbers)\n",
        "for i in b:\n",
        "  if(i==b):\n",
        "    print(i,end=\" \")\n"
      ],
      "metadata": {
        "id": "OvoJZE9tb09T"
      },
      "execution_count": null,
      "outputs": []
    },
    {
      "cell_type": "code",
      "source": [
        "n= [4, 8, 12, 5, 18, 9]\n",
        "b=max(n)\n",
        "for i in n:\n",
        "  if(i>b):\n",
        "   print(i)"
      ],
      "metadata": {
        "id": "mwfzudBwfZl0"
      },
      "execution_count": null,
      "outputs": []
    },
    {
      "cell_type": "code",
      "source": [
        "#Find the second largest number in a given list.\n",
        "numbers = [4, 8, 12, 5, 18, 9]\n",
        "numbers.sort()\n",
        "print(numbers[-2])\n"
      ],
      "metadata": {
        "colab": {
          "base_uri": "https://localhost:8080/"
        },
        "id": "jyFIT0i9KZMD",
        "outputId": "9d4bfd09-2fd9-469a-aa90-da99fa4f1def"
      },
      "execution_count": null,
      "outputs": [
        {
          "output_type": "stream",
          "name": "stdout",
          "text": [
            "12\n"
          ]
        }
      ]
    },
    {
      "cell_type": "code",
      "source": [
        "a=[1, 2, 3, 4, 5]\n",
        "def rot_lst(a,steps):\n",
        "  steps=steps%len(a)\n",
        "  return a[-steps:]+ a[:-steps]\n",
        "print(rot_lst(a,2))\n"
      ],
      "metadata": {
        "colab": {
          "base_uri": "https://localhost:8080/"
        },
        "id": "ZQ-Ueo2gFrTJ",
        "outputId": "266b1d7c-2a4d-417d-e5fa-b96aecb654e1"
      },
      "execution_count": null,
      "outputs": [
        {
          "output_type": "stream",
          "name": "stdout",
          "text": [
            "[4, 5, 1, 2, 3]\n"
          ]
        }
      ]
    }
  ]
}