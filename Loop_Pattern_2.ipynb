{
  "cells": [
    {
      "cell_type": "markdown",
      "metadata": {
        "id": "view-in-github",
        "colab_type": "text"
      },
      "source": [
        "<a href=\"https://colab.research.google.com/github/shivam2898-data/Python_notes/blob/main/Loop_Pattern_2.ipynb\" target=\"_parent\"><img src=\"https://colab.research.google.com/assets/colab-badge.svg\" alt=\"Open In Colab\"/></a>"
      ]
    },
    {
      "cell_type": "code",
      "execution_count": null,
      "metadata": {
        "colab": {
          "base_uri": "https://localhost:8080/"
        },
        "id": "JIRT8E0K5I8y",
        "outputId": "c9fe8d11-53fd-4c0c-b546-add40298cd42"
      },
      "outputs": [
        {
          "name": "stdout",
          "output_type": "stream",
          "text": [
            "* * * * *  \n",
            "* * * * *  \n",
            "* * * * *  \n",
            "* * * * *  \n",
            "* * * * *  \n"
          ]
        }
      ],
      "source": [
        "n=5\n",
        "for i in range(n):\n",
        "  for j in range(n):\n",
        "    print(\"*\",end=\" \")\n",
        "  print(\" \")"
      ]
    },
    {
      "cell_type": "code",
      "execution_count": null,
      "metadata": {
        "colab": {
          "base_uri": "https://localhost:8080/"
        },
        "id": "ox2ZomjW5XXi",
        "outputId": "cd2ea235-eb29-4218-ffaf-d2f1d7ce650e"
      },
      "outputs": [
        {
          "name": "stdout",
          "output_type": "stream",
          "text": [
            "*  \n",
            "* *  \n",
            "* * *  \n",
            "* * * *  \n",
            "* * * * *  \n"
          ]
        }
      ],
      "source": [
        "n=5\n",
        "for i in range(n):\n",
        "  for j in range(i+1):\n",
        "    print(\"*\",end=\" \")\n",
        "  print(\" \")"
      ]
    },
    {
      "cell_type": "code",
      "execution_count": null,
      "metadata": {
        "colab": {
          "base_uri": "https://localhost:8080/"
        },
        "id": "GYlF2hi655bK",
        "outputId": "2c780a73-994c-45fb-c33b-b7d7be1cccc6"
      },
      "outputs": [
        {
          "name": "stdout",
          "output_type": "stream",
          "text": [
            "* * * * *  \n",
            "* * * *  \n",
            "* * *  \n",
            "* *  \n",
            "*  \n"
          ]
        }
      ],
      "source": [
        "n=5\n",
        "for i in range(n):\n",
        "  for j in range(i,n):\n",
        "    print(\"*\",end=\" \")\n",
        "  print(\" \")"
      ]
    },
    {
      "cell_type": "code",
      "execution_count": null,
      "metadata": {
        "colab": {
          "base_uri": "https://localhost:8080/"
        },
        "id": "CWnYSY5U6NVz",
        "outputId": "2d36b897-836f-465f-c1a8-7ca1ed0015f2"
      },
      "outputs": [
        {
          "name": "stdout",
          "output_type": "stream",
          "text": [
            "          *  \n",
            "        * *  \n",
            "      * * *  \n",
            "    * * * *  \n",
            "  * * * * *  \n"
          ]
        }
      ],
      "source": [
        "n=5\n",
        "for i in range(n):\n",
        "  for j in range(i,n):\n",
        "    print(\" \",end=\" \")\n",
        "  for j in range(i+1):\n",
        "    print(\"*\",end=\" \")\n",
        "  print(\" \")"
      ]
    },
    {
      "cell_type": "code",
      "execution_count": null,
      "metadata": {
        "colab": {
          "base_uri": "https://localhost:8080/"
        },
        "id": "s1shTOwB6RXq",
        "outputId": "c6ca111b-c584-43d7-c7d7-8e4ccc3758d6"
      },
      "outputs": [
        {
          "name": "stdout",
          "output_type": "stream",
          "text": [
            "  * * * * *  \n",
            "    * * * *  \n",
            "      * * *  \n",
            "        * *  \n",
            "          *  \n"
          ]
        }
      ],
      "source": [
        "n=5\n",
        "for i in range(n):\n",
        "  for j in range(i+1):\n",
        "    print(\" \",end=\" \")\n",
        "  for j in range(i,n):\n",
        "    print(\"*\",end=\" \")\n",
        "  print(\" \")"
      ]
    },
    {
      "cell_type": "code",
      "execution_count": null,
      "metadata": {
        "colab": {
          "base_uri": "https://localhost:8080/"
        },
        "id": "tWZ09Sqs7sES",
        "outputId": "1a298eb1-475b-4d3e-f808-9dd4e0c9a389"
      },
      "outputs": [
        {
          "name": "stdout",
          "output_type": "stream",
          "text": [
            "          *  \n",
            "        * * *  \n",
            "      * * * * *  \n",
            "    * * * * * * *  \n",
            "  * * * * * * * * *  \n"
          ]
        }
      ],
      "source": [
        "n=5\n",
        "for i in range(n):\n",
        "  for j in range(i,n):\n",
        "    print(\" \",end=\" \")\n",
        "  for j in range(i+1):\n",
        "    print(\"*\",end=\" \")\n",
        "  for j in range(i):\n",
        "    print(\"*\",end=\" \")\n",
        "  print(\" \")\n"
      ]
    },
    {
      "cell_type": "code",
      "execution_count": null,
      "metadata": {
        "colab": {
          "base_uri": "https://localhost:8080/"
        },
        "id": "LSdWW9fb8Grq",
        "outputId": "f09b909d-e1bf-4827-a713-41d2f6b1cd79"
      },
      "outputs": [
        {
          "name": "stdout",
          "output_type": "stream",
          "text": [
            "  * * * * * * * * *  \n",
            "    * * * * * * *  \n",
            "      * * * * *  \n",
            "        * * *  \n",
            "          *  \n"
          ]
        }
      ],
      "source": [
        "n=5\n",
        "for i in range(n):\n",
        "  for j in range(i+1):\n",
        "    print(\" \",end=\" \")\n",
        "  for j in range(i,n):\n",
        "    print(\"*\",end=\" \")\n",
        "\n",
        "  for j in range(i,n-1):\n",
        "    print(\"*\",end=\" \")\n",
        "  print(\" \")"
      ]
    },
    {
      "cell_type": "code",
      "execution_count": null,
      "metadata": {
        "colab": {
          "base_uri": "https://localhost:8080/"
        },
        "id": "fYrCZBdl9BeB",
        "outputId": "12bc05de-923e-4a06-e28f-006f6da13047"
      },
      "outputs": [
        {
          "name": "stdout",
          "output_type": "stream",
          "text": [
            "          *  \n",
            "        * * *  \n",
            "      * * * * *  \n",
            "    * * * * * * *  \n",
            "  * * * * * * * * *  \n",
            "    * * * * * * *  \n",
            "      * * * * *  \n",
            "        * * *  \n",
            "          *  \n"
          ]
        }
      ],
      "source": [
        "n=5\n",
        "for i in range(n-1):\n",
        "  for j in range(i,n):\n",
        "    print(\" \",end=\" \")\n",
        "  for j in range(i+1):\n",
        "    print(\"*\",end=\" \")\n",
        "  for j in range(i):\n",
        "    print(\"*\",end=\" \")\n",
        "  print(\" \")\n",
        "\n",
        "for i in range(n):\n",
        "  for j in range(i+1):\n",
        "    print(\" \",end=\" \")\n",
        "  for j in range(i,n):\n",
        "    print(\"*\",end=\" \")\n",
        "\n",
        "  for j in range(i,n-1):\n",
        "    print(\"*\",end=\" \")\n",
        "  print(\" \")\n"
      ]
    },
    {
      "cell_type": "code",
      "execution_count": null,
      "metadata": {
        "colab": {
          "base_uri": "https://localhost:8080/"
        },
        "id": "wj87NSJa9iqh",
        "outputId": "84caf1d4-9b16-4663-fb65-d9ebfd3f033d"
      },
      "outputs": [
        {
          "name": "stdout",
          "output_type": "stream",
          "text": [
            "* * * * * * *  \n",
            "* * *   * * *  \n",
            "* *       * *  \n",
            "*           *  \n"
          ]
        }
      ],
      "source": [
        "for i in range(1,5):\n",
        "  for  j in range(1,8):\n",
        "    if j<=5-i or j>=3+i:\n",
        "      print(\"*\",end=\" \")\n",
        "    else:\n",
        "      print(\" \",end=\" \")\n",
        "  print(\" \")\n"
      ]
    },
    {
      "cell_type": "code",
      "execution_count": null,
      "metadata": {
        "colab": {
          "base_uri": "https://localhost:8080/"
        },
        "id": "odhITpZXEe1Y",
        "outputId": "147af499-ade0-4837-c13c-4ae3e83861a8"
      },
      "outputs": [
        {
          "name": "stdout",
          "output_type": "stream",
          "text": [
            "0 \n",
            "1 1 \n",
            "2 2 2 \n",
            "3 3 3 3 \n",
            "4 4 4 4 4 \n"
          ]
        }
      ],
      "source": [
        "n=5\n",
        "for i in range(n):\n",
        "  for j in range(i+1):\n",
        "    print(i,end=\" \")\n",
        "  print()\n"
      ]
    },
    {
      "cell_type": "code",
      "execution_count": null,
      "metadata": {
        "colab": {
          "base_uri": "https://localhost:8080/"
        },
        "id": "T31W-DNZIZOR",
        "outputId": "58acc911-d065-4793-e2c0-3c043aca5c76"
      },
      "outputs": [
        {
          "name": "stdout",
          "output_type": "stream",
          "text": [
            "1  \n",
            "2 2  \n",
            "3 3 3  \n",
            "4 4 4 4  \n",
            "5 5 5 5 5  \n"
          ]
        }
      ],
      "source": [
        "n=5\n",
        "for i in range(n):\n",
        "  for j in range(i+1):\n",
        "    print(i+1,end=\" \")\n",
        "  print(\" \")"
      ]
    },
    {
      "cell_type": "code",
      "execution_count": null,
      "metadata": {
        "colab": {
          "base_uri": "https://localhost:8080/"
        },
        "id": "QtJrFBWAMc-c",
        "outputId": "663a70fe-ad9f-4b4d-e954-01a24522fb86"
      },
      "outputs": [
        {
          "name": "stdout",
          "output_type": "stream",
          "text": [
            "  1 1 1 1 1 \n",
            "    2 2 2 2 \n",
            "      3 3 3 \n",
            "        4 4 \n",
            "          5 \n"
          ]
        }
      ],
      "source": [
        "n=5\n",
        "for i in range(n):\n",
        "  for j in range(i+1):\n",
        "    print(\" \",end=\" \")\n",
        "  for j in range(i,n):\n",
        "    print(i+1,end=\" \")\n",
        "  print()\n"
      ]
    },
    {
      "cell_type": "code",
      "execution_count": null,
      "metadata": {
        "colab": {
          "base_uri": "https://localhost:8080/"
        },
        "id": "6xnp7YXPPfG3",
        "outputId": "c8138a7d-5361-4bb9-a55a-f413504069a6"
      },
      "outputs": [
        {
          "name": "stdout",
          "output_type": "stream",
          "text": [
            "          1 \n",
            "        2 2 2 \n",
            "      3 3 3 3 3 \n",
            "    4 4 4 4 4 4 4 \n",
            "  5 5 5 5 5 5 5 5 5 \n"
          ]
        }
      ],
      "source": [
        "n=5\n",
        "for i in range(n):\n",
        "  for j in range(i,n):\n",
        "    print(\" \",end=\" \")\n",
        "  for j in range(i+1):\n",
        "    print(i+1,end=\" \")\n",
        "\n",
        "  for j in range(i):\n",
        "    print(i+1,end=\" \")\n",
        "\n",
        "  print()"
      ]
    },
    {
      "cell_type": "code",
      "execution_count": null,
      "metadata": {
        "colab": {
          "base_uri": "https://localhost:8080/"
        },
        "id": "8Y8Js33oSL0E",
        "outputId": "363924b9-407f-4c8c-bfa0-15d52aa98e68"
      },
      "outputs": [
        {
          "name": "stdout",
          "output_type": "stream",
          "text": [
            "  1 1 1 1 1 1 1 1 1 \n",
            "    2 2 2 2 2 2 2 \n",
            "      3 3 3 3 3 \n",
            "        4 4 4 \n",
            "          5 \n"
          ]
        }
      ],
      "source": [
        "n=5\n",
        "for i in range(n):\n",
        "  for j in range(i+1):\n",
        "    print(\" \",end=\" \")\n",
        "  for j in range(i,n):\n",
        "    print(i+1,end=\" \")\n",
        "\n",
        "  for j in range(i,n-1):\n",
        "    print(i+1,end=\" \")\n",
        "  print()"
      ]
    },
    {
      "cell_type": "code",
      "execution_count": null,
      "metadata": {
        "colab": {
          "base_uri": "https://localhost:8080/"
        },
        "id": "D_05Z2iNT6Hn",
        "outputId": "49a952bb-ae87-421a-b870-89c0c9674a9b"
      },
      "outputs": [
        {
          "name": "stdout",
          "output_type": "stream",
          "text": [
            "  * * * * * \n",
            "    * * * * * \n",
            "      * * * * * \n",
            "        * * * * * \n",
            "          * * * * * \n"
          ]
        }
      ],
      "source": [
        "n=5\n",
        "for i in range(n):\n",
        "  for j in range(i+1):\n",
        "    print(\" \",end=\" \")\n",
        "  for j in range(i,n):\n",
        "    print(\"*\",end=\" \")\n",
        "\n",
        "  for j in range(i):\n",
        "    print(\"*\",end=\" \")\n",
        "  print( )"
      ]
    },
    {
      "cell_type": "code",
      "execution_count": null,
      "metadata": {
        "colab": {
          "base_uri": "https://localhost:8080/"
        },
        "id": "A9LDR4L4XlfF",
        "outputId": "4d8ebd99-e616-4720-f1f0-100cd7110f3c"
      },
      "outputs": [
        {
          "name": "stdout",
          "output_type": "stream",
          "text": [
            "5  \n",
            "4 4  \n",
            "3 3 3  \n",
            "2 2 2 2  \n",
            "1 1 1 1 1  \n"
          ]
        }
      ],
      "source": [
        "n=5\n",
        "for i in range(n):\n",
        "  for j in range(i+1):\n",
        "    print(n-i,end=\" \")\n",
        "  print(\" \")"
      ]
    },
    {
      "cell_type": "code",
      "execution_count": null,
      "metadata": {
        "colab": {
          "base_uri": "https://localhost:8080/"
        },
        "id": "6s_P5nYaaGbK",
        "outputId": "a2d219b0-df3a-4978-f7d9-3e8c28492be0"
      },
      "outputs": [
        {
          "name": "stdout",
          "output_type": "stream",
          "text": [
            "  5 5 5 5 5 \n",
            "    4 4 4 4 \n",
            "      3 3 3 \n",
            "        2 2 \n",
            "          1 \n"
          ]
        }
      ],
      "source": [
        "n=5\n",
        "\n",
        "for i in range(n):\n",
        "  for j in range(i+1):\n",
        "    print(\" \",end=\" \")\n",
        "  for j in range(i,n):\n",
        "    print(n-i,end=\" \")\n",
        "\n",
        "  print()"
      ]
    },
    {
      "cell_type": "code",
      "execution_count": null,
      "metadata": {
        "colab": {
          "base_uri": "https://localhost:8080/"
        },
        "id": "DdyyIg45iGA2",
        "outputId": "1bd0adb4-2480-4b77-84c2-69b844e46a35"
      },
      "outputs": [
        {
          "name": "stdout",
          "output_type": "stream",
          "text": [
            "          5 \n",
            "        4 4 4 \n",
            "      3 3 3 3 3 \n",
            "    2 2 2 2 2 2 2 \n",
            "  1 1 1 1 1 1 1 1 1 \n"
          ]
        }
      ],
      "source": [
        "n=5\n",
        "for i in range(n):\n",
        "  for j in range(i,n):\n",
        "    print(\" \",end=\" \")\n",
        "  for j in range(i+1):\n",
        "    print(n-i,end=\" \")\n",
        "\n",
        "  for j in range(i):\n",
        "    print(n-i,end=\" \")\n",
        "  print()"
      ]
    },
    {
      "cell_type": "code",
      "execution_count": null,
      "metadata": {
        "colab": {
          "base_uri": "https://localhost:8080/"
        },
        "id": "7YQ5UVR_kYj8",
        "outputId": "2d1db481-d31a-40d7-e568-0a40442923c9"
      },
      "outputs": [
        {
          "name": "stdout",
          "output_type": "stream",
          "text": [
            "  5 5 5 5 5 5 5 5 5 \n",
            "    4 4 4 4 4 4 4 \n",
            "      3 3 3 3 3 \n",
            "        2 2 2 \n",
            "          1 \n"
          ]
        }
      ],
      "source": [
        "n=5\n",
        "for i in range(n):\n",
        "  for j in range(i+1):\n",
        "    print(\" \",end=\" \")\n",
        "  for j in range(i,n):\n",
        "    print(n-i,end=\" \")\n",
        "\n",
        "  for j in range(i,n-1):\n",
        "    print(n-i,end=\" \")\n",
        "  print()\n"
      ]
    },
    {
      "cell_type": "code",
      "execution_count": null,
      "metadata": {
        "colab": {
          "base_uri": "https://localhost:8080/"
        },
        "id": "thMaoOAVp3tk",
        "outputId": "1e102ef7-3f67-4380-badc-156696e4a114"
      },
      "outputs": [
        {
          "name": "stdout",
          "output_type": "stream",
          "text": [
            "           *  \n",
            "         *   *  \n",
            "       *   *   *  \n",
            "     *   *   *   *  \n",
            "   *   *   *   *   *  \n"
          ]
        }
      ],
      "source": [
        "n = 5\n",
        "for i in range(n):\n",
        "  for j in range(i,n):\n",
        "    print(\" \",end=\" \")\n",
        "  for j in range(i+1):\n",
        "    print(\" * \",end=\" \")\n",
        "  print()"
      ]
    },
    {
      "cell_type": "code",
      "execution_count": null,
      "metadata": {
        "colab": {
          "base_uri": "https://localhost:8080/"
        },
        "id": "toxg-tmEs9kT",
        "outputId": "19b6f84f-b563-46f8-df9f-f74b027fe309"
      },
      "outputs": [
        {
          "name": "stdout",
          "output_type": "stream",
          "text": [
            "           *  \n",
            "         *   *  \n",
            "       *   *   *  \n",
            "     *   *   *   *  \n",
            "   *   *   *   *   *  \n"
          ]
        }
      ],
      "source": [
        "n = 5\n",
        "\n",
        "for i in range(n):\n",
        "  for j in range(i,n):\n",
        "    print(\" \",end=\" \")\n",
        "  for j in range(i+1):\n",
        "    print(\" * \",end=\" \")\n",
        "  print()"
      ]
    },
    {
      "cell_type": "code",
      "execution_count": null,
      "metadata": {
        "colab": {
          "base_uri": "https://localhost:8080/"
        },
        "id": "jfoAhEB8uC1F",
        "outputId": "854f7b0b-e712-4bab-c2ca-70c1d8ebdd16"
      },
      "outputs": [
        {
          "name": "stdout",
          "output_type": "stream",
          "text": [
            "          1  \n",
            "        2  3  \n",
            "      4  5  6  \n",
            "    7  8  9  10  \n",
            "  11  12  13  14  15  \n"
          ]
        }
      ],
      "source": [
        "n = 5\n",
        "num = 1\n",
        "for i in range(n):\n",
        "  for j in range(i,n):\n",
        "    print(\" \",end=\" \")\n",
        "  for j in range(i+1):\n",
        "    print(num,end=\"  \")\n",
        "    num+=1\n",
        "  print()"
      ]
    },
    {
      "cell_type": "code",
      "execution_count": null,
      "metadata": {
        "colab": {
          "base_uri": "https://localhost:8080/"
        },
        "id": "z2fLWVVuvbB2",
        "outputId": "80a8eaeb-f8d6-459f-b946-fa4d1bb44471"
      },
      "outputs": [
        {
          "name": "stdout",
          "output_type": "stream",
          "text": [
            "          1 \n",
            "        2 2 2 \n",
            "      3 3 3 3 3 \n",
            "    4 4 4 4 4 4 4 \n",
            "  5 5 5 5 5 5 5 5 5 \n"
          ]
        }
      ],
      "source": [
        "n=5\n",
        "\n",
        "for i in range(n):\n",
        "  for j in range(i,n):\n",
        "    print(\" \",end=\" \")\n",
        "  for j in range(i+1):\n",
        "    print(i+1,end=\" \")\n",
        "\n",
        "  for j in range(i):\n",
        "    print(i+1,end=\" \")\n",
        "\n",
        "  print()"
      ]
    },
    {
      "cell_type": "code",
      "execution_count": null,
      "metadata": {
        "colab": {
          "base_uri": "https://localhost:8080/"
        },
        "id": "rz675eDqx4A6",
        "outputId": "62c7aab3-0806-4555-c682-5dcda879c04d"
      },
      "outputs": [
        {
          "name": "stdout",
          "output_type": "stream",
          "text": [
            "0 \n",
            "2 2 \n",
            "4 4 4 \n",
            "6 6 6 6 \n",
            "8 8 8 8 8 \n"
          ]
        }
      ],
      "source": [
        "n=5\n",
        "for i in range(n):\n",
        "  for j in range(i+1):\n",
        "    print(i+i,end=\" \")\n",
        "  print()"
      ]
    },
    {
      "cell_type": "code",
      "execution_count": null,
      "metadata": {
        "colab": {
          "base_uri": "https://localhost:8080/"
        },
        "id": "RUQ6NyUI9zh2",
        "outputId": "4024a06f-1292-416c-c5fa-3de79bbb5709"
      },
      "outputs": [
        {
          "name": "stdout",
          "output_type": "stream",
          "text": [
            "0 \n",
            "2 2 \n",
            "4 4 4 \n",
            "6 6 6 6 \n",
            "8 8 8 8 8 \n"
          ]
        }
      ],
      "source": [
        "n=5\n",
        "num=0\n",
        "for i in range(n):\n",
        "  for j in range(i+1):\n",
        "    print(num,end=\" \")\n",
        "  num+=2\n",
        "  print()"
      ]
    },
    {
      "cell_type": "code",
      "execution_count": null,
      "metadata": {
        "colab": {
          "base_uri": "https://localhost:8080/"
        },
        "id": "FW5zl4eK-N1b",
        "outputId": "05251dbd-1272-41bb-e8d0-43826255834b"
      },
      "outputs": [
        {
          "name": "stdout",
          "output_type": "stream",
          "text": [
            "1 \n",
            "2 2 \n",
            "1 1 1 \n",
            "2 2 2 2 \n",
            "1 1 1 1 1 \n"
          ]
        }
      ],
      "source": [
        "n=5\n",
        "for i in range(n):\n",
        "  for j in range(i+1):\n",
        "    if i%2==0:\n",
        "      print(\"1\",end=\" \")\n",
        "    else:\n",
        "      print(\"2\",end=\" \")\n",
        "  print()"
      ]
    },
    {
      "cell_type": "code",
      "execution_count": null,
      "metadata": {
        "colab": {
          "base_uri": "https://localhost:8080/"
        },
        "id": "Uv4Bnaj5AnJN",
        "outputId": "ae8fe182-0997-4bca-ffb2-937a9304d3d1"
      },
      "outputs": [
        {
          "name": "stdout",
          "output_type": "stream",
          "text": [
            "A \n",
            "B B \n",
            "A A A \n",
            "B B B B \n",
            "A A A A A \n"
          ]
        }
      ],
      "source": [
        "n=5\n",
        "for i in range(n):\n",
        "  for j in range(i+1):\n",
        "    if i%2==0:\n",
        "      print(\"A\",end=\" \")\n",
        "    else:\n",
        "      print(\"B\",end=\" \")\n",
        "  print()"
      ]
    },
    {
      "cell_type": "code",
      "execution_count": null,
      "metadata": {
        "colab": {
          "base_uri": "https://localhost:8080/"
        },
        "id": "RYWBoJiHA4-j",
        "outputId": "02eba164-ff92-4126-c50a-19b73055257b"
      },
      "outputs": [
        {
          "name": "stdout",
          "output_type": "stream",
          "text": [
            "          # \n",
            "        $ $ $ \n",
            "      # # # # # \n",
            "    $ $ $ $ $ $ $ \n",
            "  # # # # # # # # # \n"
          ]
        }
      ],
      "source": [
        "n=5\n",
        "for i in range(n):\n",
        "  for j in range(i,n):\n",
        "    print(\" \",end=\" \")\n",
        "  for j in range(i+1):\n",
        "    if i%2==0:\n",
        "      print(\"#\",end=\" \")\n",
        "    else:\n",
        "      print(\"$\",end=\" \")\n",
        "\n",
        "  for j in range(i):\n",
        "    if i%2==0:\n",
        "      print(\"#\",end=\" \")\n",
        "    else:\n",
        "      print(\"$\",end=\" \")\n",
        "  print()"
      ]
    },
    {
      "cell_type": "code",
      "execution_count": null,
      "metadata": {
        "colab": {
          "base_uri": "https://localhost:8080/"
        },
        "id": "_qfca9ncB5b9",
        "outputId": "590e85dd-df22-41ce-f87d-59044d2312e2"
      },
      "outputs": [
        {
          "name": "stdout",
          "output_type": "stream",
          "text": [
            "  1 1 1 1 1 1 1 1 1 \n",
            "    0 0 0 0 0 0 0 \n",
            "      1 1 1 1 1 \n",
            "        0 0 0 \n",
            "          1 \n"
          ]
        }
      ],
      "source": [
        "n=5\n",
        "for i in range(n):\n",
        "  for j in range(i+1):\n",
        "    print(\" \",end=\" \")\n",
        "  for j in range(i,n):\n",
        "    if i%2==0:\n",
        "      print(\"1\",end=\" \")\n",
        "    else:\n",
        "      print(\"0\",end=\" \")\n",
        "\n",
        "  for j in range(i,n-1):\n",
        "    if i%2==0:\n",
        "      print(\"1\",end=\" \")\n",
        "    else:\n",
        "      print(\"0\",end=\" \")\n",
        "  print()"
      ]
    },
    {
      "cell_type": "code",
      "execution_count": null,
      "metadata": {
        "colab": {
          "base_uri": "https://localhost:8080/"
        },
        "id": "Cx7Hjn0xC7Ob",
        "outputId": "add3d8b2-6c61-4f4f-af31-1ecbfc6efc85"
      },
      "outputs": [
        {
          "name": "stdout",
          "output_type": "stream",
          "text": [
            "          1 \n",
            "        2 2 2 \n",
            "      3 3 3 3 3 \n",
            "    4 4 4 4 4 4 4 \n",
            "  5 5 5 5 5 5 5 5 5 \n",
            "    6 6 6 6 6 6 6 \n",
            "      7 7 7 7 7 \n",
            "        8 8 8 \n",
            "          9 \n"
          ]
        }
      ],
      "source": [
        "n=5\n",
        "for i in range(n-1):\n",
        "  for j in range(i,n):\n",
        "    print(\" \",end=\" \")\n",
        "  for j in range(i+1):\n",
        "    print(i+1,end=\" \")\n",
        "  for j in range(i):\n",
        "    print(i+1,end=\" \")\n",
        "  print()\n",
        "\n",
        "for i in range(n):\n",
        "  for j in range (i+1):\n",
        "    print(\" \",end=\" \")\n",
        "  for j in range(i,n):\n",
        "    print(n+i,end=\" \")\n",
        "  for j in range(i,n-1):\n",
        "    print(n+i,end=\" \")\n",
        "  print()"
      ]
    },
    {
      "cell_type": "code",
      "execution_count": null,
      "metadata": {
        "colab": {
          "base_uri": "https://localhost:8080/"
        },
        "id": "gmKcv1XjGE5K",
        "outputId": "a0bab6ce-cc7a-435b-e286-5aded469bb3f"
      },
      "outputs": [
        {
          "name": "stdout",
          "output_type": "stream",
          "text": [
            "1 \n",
            "1 2 \n",
            "1 2 3 \n",
            "1 2 3 4 \n",
            "1 2 3 4 5 \n"
          ]
        }
      ],
      "source": [
        "n=5\n",
        "for i in range(n):\n",
        "  for j in range(i+1):\n",
        "    print(j+1,end=\" \")\n",
        "  print()"
      ]
    },
    {
      "cell_type": "code",
      "execution_count": null,
      "metadata": {
        "colab": {
          "base_uri": "https://localhost:8080/"
        },
        "id": "9lKFX2dFKfZC",
        "outputId": "e88745b0-989d-437c-c1e9-8e7f2d7ffc79"
      },
      "outputs": [
        {
          "name": "stdout",
          "output_type": "stream",
          "text": [
            "1 \n",
            "1 2 \n",
            "1 2 3 \n",
            "1 2 3 4 \n",
            "1 2 3 4 5 \n"
          ]
        }
      ],
      "source": [
        "n=5\n",
        "for i in range(n):\n",
        "  num=1\n",
        "  for j in range(i+1):\n",
        "    print(num,end=\" \")\n",
        "    num+=1\n",
        "  print()"
      ]
    },
    {
      "cell_type": "code",
      "execution_count": null,
      "metadata": {
        "colab": {
          "base_uri": "https://localhost:8080/"
        },
        "id": "_Hx6u3-4MA_Q",
        "outputId": "985ba8ec-0e7c-4b59-e11b-f54bbdeadf28"
      },
      "outputs": [
        {
          "name": "stdout",
          "output_type": "stream",
          "text": [
            "  1 2 3 4 5 \n",
            "    2 3 4 5 \n",
            "      3 4 5 \n",
            "        4 5 \n",
            "          5 \n"
          ]
        }
      ],
      "source": [
        "n=5\n",
        "for i in range(5):\n",
        "  for j in range(i+1):\n",
        "    print(\" \",end=\" \")\n",
        "  for j in range(i,n):\n",
        "    print(j+1,end=\" \")\n",
        "  print()"
      ]
    },
    {
      "cell_type": "code",
      "execution_count": null,
      "metadata": {
        "colab": {
          "base_uri": "https://localhost:8080/"
        },
        "id": "alSipKspnC7y",
        "outputId": "db14bd76-7548-4f49-a2ae-c9fd1db6d3db"
      },
      "outputs": [
        {
          "name": "stdout",
          "output_type": "stream",
          "text": [
            "  1 2 3 4 5 \n",
            "    1 2 3 4 \n",
            "      1 2 3 \n",
            "        1 2 \n",
            "          1 \n"
          ]
        }
      ],
      "source": [
        "n=5\n",
        "for i in range(5):\n",
        "  num=1\n",
        "  for j in range(i+1):\n",
        "    print(\" \",end=\" \")\n",
        "  for j in range(i,n):\n",
        "    print(num,end=\" \")\n",
        "    num+=1\n",
        "  print()"
      ]
    },
    {
      "cell_type": "code",
      "source": [
        "n=5\n",
        "for i in range(5):\n",
        "  num=1\n",
        "  for j in range(i,n):\n",
        "    print(\" \",end=\" \")\n",
        "  for j in range(i+1):\n",
        "    print(num,end=\" \")\n",
        "    num+=1\n",
        "  for j in range(i):\n",
        "    print(num,end=\" \")\n",
        "    num+=1\n",
        "  print()"
      ],
      "metadata": {
        "colab": {
          "base_uri": "https://localhost:8080/"
        },
        "id": "Q4zeFQOxch7E",
        "outputId": "13a243b2-c4d4-4bff-8911-bf4ac15aa49d"
      },
      "execution_count": null,
      "outputs": [
        {
          "output_type": "stream",
          "name": "stdout",
          "text": [
            "          1 \n",
            "        1 2 3 \n",
            "      1 2 3 4 5 \n",
            "    1 2 3 4 5 6 7 \n",
            "  1 2 3 4 5 6 7 8 9 \n"
          ]
        }
      ]
    },
    {
      "cell_type": "code",
      "execution_count": null,
      "metadata": {
        "colab": {
          "base_uri": "https://localhost:8080/"
        },
        "id": "HJajJaLYpdqf",
        "outputId": "bf59989f-93e2-498a-bfbf-f1c38b3acf29"
      },
      "outputs": [
        {
          "name": "stdout",
          "output_type": "stream",
          "text": [
            "          1 \n",
            "        1 2 3 \n",
            "      1 2 3 4 5 \n",
            "    1 2 3 4 5 6 7 \n",
            "  1 2 3 4 5 6 7 8 9 \n",
            "    1 2 3 4 5 6 7 \n",
            "      1 2 3 4 5 \n",
            "        1 2 3 \n",
            "          1 \n"
          ]
        }
      ],
      "source": [
        "n=5\n",
        "for i in range(n-1):\n",
        "  num=1\n",
        "  for j in range(i,n):\n",
        "    print(\" \",end=\" \")\n",
        "  for j in range(i+1):\n",
        "    print(num,end=\" \")\n",
        "    num+=1\n",
        "  for j in range(i):\n",
        "    print(num,end=\" \")\n",
        "    num+=1\n",
        "  print()\n",
        "\n",
        "for i in range(n):\n",
        "  num2=1\n",
        "  for j in range (i+1):\n",
        "    print(\" \",end=\" \")\n",
        "  for j in range(i,n):\n",
        "    print(num2,end=\" \")\n",
        "    num2+=1\n",
        "  for j in range(i,n-1):\n",
        "    print(num2,end=\" \")\n",
        "    num2+=1\n",
        "  print()\n"
      ]
    },
    {
      "cell_type": "code",
      "execution_count": null,
      "metadata": {
        "colab": {
          "base_uri": "https://localhost:8080/"
        },
        "id": "Cjjli6kJ44dt",
        "outputId": "2b918a23-86bd-44fc-eedc-c41d2a2228ef"
      },
      "outputs": [
        {
          "name": "stdout",
          "output_type": "stream",
          "text": [
            "1 \n",
            "1 2 \n",
            "1 2 3 \n",
            "1 2 3 4 \n",
            "1 2 3 4 5 \n",
            "1 2 3 4 \n",
            "1 2 3 \n",
            "1 2 \n",
            "1 \n"
          ]
        }
      ],
      "source": [
        "n=5\n",
        "for i in range(n-1):\n",
        "  p=1\n",
        "  for j in range(i+1):\n",
        "    print(p,end=\" \")\n",
        "    p+=1\n",
        "\n",
        "  print()\n",
        "for i in range(n):\n",
        "  q=1\n",
        "  for j in range(i,n):\n",
        "    print(q,end=\" \")\n",
        "    q+=1\n",
        "  print()"
      ]
    },
    {
      "cell_type": "code",
      "execution_count": null,
      "metadata": {
        "colab": {
          "base_uri": "https://localhost:8080/"
        },
        "id": "afZnrIDqBiBC",
        "outputId": "2692320f-d36a-47d2-bd57-64630610e514"
      },
      "outputs": [
        {
          "name": "stdout",
          "output_type": "stream",
          "text": [
            "          1 \n",
            "        1 2 \n",
            "      1 2 3 \n",
            "    1 2 3 4 \n",
            "  1 2 3 4 5 \n",
            "    1 2 3 4 \n",
            "      1 2 3 \n",
            "        1 2 \n",
            "          1 \n"
          ]
        }
      ],
      "source": [
        "n=5\n",
        "for i in range(n-1):\n",
        "  p=1\n",
        "  for j in range(i,n):\n",
        "    print(\" \",end=\" \")\n",
        "  for j in range(i+1):\n",
        "    print(p,end=\" \")\n",
        "    p+=1\n",
        "  print()\n",
        "\n",
        "for i in range(n):\n",
        "  q=1\n",
        "  for j in range(i+1):\n",
        "    print(\" \",end=\" \")\n",
        "  for j in range(i,n):\n",
        "    print(q,end=\" \")\n",
        "    q+=1\n",
        "  print()"
      ]
    },
    {
      "cell_type": "code",
      "execution_count": null,
      "metadata": {
        "colab": {
          "base_uri": "https://localhost:8080/"
        },
        "id": "lVUjhYlECt0k",
        "outputId": "48e9112b-26f6-41dc-b723-a11e8657bd20"
      },
      "outputs": [
        {
          "name": "stdout",
          "output_type": "stream",
          "text": [
            "1                 1 \n",
            "1 2             1 2 \n",
            "1 2 3         1 2 3 \n",
            "1 2 3 4     1 2 3 4 \n",
            "1 2 3 4 5 1 2 3 4 5 \n",
            "1 2 3 4     1 2 3 4 \n",
            "1 2 3         1 2 3 \n",
            "1 2             1 2 \n",
            "1                 1 \n"
          ]
        }
      ],
      "source": [
        "n = 5\n",
        "for i in range(n-1):\n",
        "    p=1\n",
        "    for j in range(i+1):\n",
        "        print(p, end=\" \")\n",
        "        p+=1\n",
        "    for k in range(n-i-1):\n",
        "        print(\" \", end=\" \")\n",
        "    q=1\n",
        "    for j in range(n-i-1):\n",
        "        print(\" \", end=\" \")\n",
        "    for j in range(i+1):\n",
        "        print(q, end=\" \")\n",
        "        q+=1\n",
        "    print()\n",
        "\n",
        "# --------------------------------------------------------------------------\n",
        "for i in range(n):\n",
        "    r=1\n",
        "    for j in range(n-i):\n",
        "        print(r, end=\" \")\n",
        "        r+=1\n",
        "    for j in range(i):\n",
        "        print(\" \", end=\" \")\n",
        "    s=1\n",
        "    for j in range(i):\n",
        "      print(\" \",end=\" \")\n",
        "    for j in range(i,n):\n",
        "      print(s,end=\" \")\n",
        "      s+=1\n",
        "    print()"
      ]
    },
    {
      "cell_type": "code",
      "execution_count": null,
      "metadata": {
        "colab": {
          "base_uri": "https://localhost:8080/"
        },
        "id": "uw9XKWB3DN-j",
        "outputId": "4132183a-0d74-4b66-8551-1c0be4aaf9ca"
      },
      "outputs": [
        {
          "name": "stdout",
          "output_type": "stream",
          "text": [
            "*                 * \n",
            "* *             * * \n",
            "* * *         * * * \n",
            "* * * *     * * * * \n",
            "* * * * * * * * * * \n"
          ]
        }
      ],
      "source": [
        "n = 5\n",
        "for i in range(n):\n",
        "\n",
        "    for j in range(i+1):\n",
        "        print(\"*\", end=\" \")\n",
        "    for j in range(n-i-1):\n",
        "        print(\" \", end=\" \")\n",
        "\n",
        "    for j in range(i,n-1):\n",
        "        print(\" \", end=\" \")\n",
        "    for j in range(i+1):\n",
        "        print(\"*\", end=\" \")\n",
        "\n",
        "    print()"
      ]
    },
    {
      "cell_type": "code",
      "execution_count": null,
      "metadata": {
        "colab": {
          "base_uri": "https://localhost:8080/"
        },
        "id": "1TBqokXysvAC",
        "outputId": "478e284b-9dbd-4996-8f59-40cffb46027e"
      },
      "outputs": [
        {
          "name": "stdout",
          "output_type": "stream",
          "text": [
            "* * * * * * * * * * \n",
            "* * * *     * * * * \n",
            "* * *         * * * \n",
            "* *             * * \n",
            "*                 * \n"
          ]
        }
      ],
      "source": [
        "n=5\n",
        "for i in range(n):\n",
        "    for j in range(n-i):\n",
        "        print(\"*\", end=\" \")\n",
        "    for j in range(i):\n",
        "        print(\" \", end=\" \")\n",
        "\n",
        "    for j in range(i):\n",
        "      print(\" \",end=\" \")\n",
        "    for j in range(i,n):\n",
        "      print(\"*\",end=\" \")\n",
        "\n",
        "    print()"
      ]
    },
    {
      "cell_type": "code",
      "execution_count": null,
      "metadata": {
        "colab": {
          "base_uri": "https://localhost:8080/"
        },
        "id": "a6uiSBqFtZ2y",
        "outputId": "dd6b19ad-7696-4d2b-e3ec-9dbf8471f556"
      },
      "outputs": [
        {
          "name": "stdout",
          "output_type": "stream",
          "text": [
            "* $ $ $ $ # # # # * \n",
            "* * $ $ $ # # # * * \n",
            "* * * $ $ # # * * * \n",
            "* * * * $ # * * * * \n",
            "* * * * * * * * * * \n"
          ]
        }
      ],
      "source": [
        "n=5\n",
        "for i in range(n):\n",
        "  for j in range(i+1):\n",
        "    print(\"*\",end=\" \")\n",
        "  for j in range(n-i-1):\n",
        "    print(\"$\",end=\" \")\n",
        "\n",
        "  for j in range(i,n-1):\n",
        "    print(\"#\",end=\" \")\n",
        "  for j in range(i+1):\n",
        "    print(\"*\",end=\" \")\n",
        "\n",
        "\n",
        "\n",
        "  print()\n"
      ]
    },
    {
      "cell_type": "code",
      "execution_count": null,
      "metadata": {
        "colab": {
          "base_uri": "https://localhost:8080/"
        },
        "id": "tHN_zkEv0sxV",
        "outputId": "621c6541-189f-42f8-bcb3-c0fab4238893"
      },
      "outputs": [
        {
          "name": "stdout",
          "output_type": "stream",
          "text": [
            "* * * * * * * * * * \n",
            "* * * *     * * * * \n",
            "* * *         * * * \n",
            "* *             * * \n",
            "*                 * \n"
          ]
        }
      ],
      "source": [
        "n=5\n",
        "for i in range(n):\n",
        "  for j in range(i,n):\n",
        "    print(\"*\",end=\" \")\n",
        "  for j in range(i):\n",
        "    print(\" \",end=\" \")\n",
        "\n",
        "\n",
        "\n",
        "  for j in range(i):\n",
        "      print( \" \",end=\" \")\n",
        "  for j in range(i,n):\n",
        "      print(\"*\",end=\" \")\n",
        "  print()"
      ]
    },
    {
      "cell_type": "code",
      "execution_count": null,
      "metadata": {
        "colab": {
          "base_uri": "https://localhost:8080/"
        },
        "id": "gMnjGk5Zknrb",
        "outputId": "1104057b-35c0-46d2-c4be-cf1d6b3acac9"
      },
      "outputs": [
        {
          "name": "stdout",
          "output_type": "stream",
          "text": [
            "*       * \n",
            "*       * \n",
            "*       * \n",
            "*       * \n",
            "*       * \n"
          ]
        }
      ],
      "source": [
        "n=5\n",
        "for i in range(n):\n",
        "  for j in range(n):\n",
        "    if j==0 or j==n-1:\n",
        "      print(\"*\",end=\" \")\n",
        "    else:\n",
        "      print(\" \",end=\" \")\n",
        "  print()"
      ]
    },
    {
      "cell_type": "code",
      "execution_count": null,
      "metadata": {
        "colab": {
          "base_uri": "https://localhost:8080/"
        },
        "id": "RyatzIKBwDXw",
        "outputId": "3b1eeade-638a-4e3a-fccb-07347642fc9e"
      },
      "outputs": [
        {
          "name": "stdout",
          "output_type": "stream",
          "text": [
            "    *     \n",
            "    *     \n",
            "* * * * * \n",
            "    *     \n",
            "    *     \n"
          ]
        }
      ],
      "source": [
        " n=5\n",
        " for i in range(n):\n",
        "  for j in range(n):\n",
        "    if i==n//2 or j==n//2:\n",
        "      print(\"*\",end=\" \")\n",
        "    else:\n",
        "      print(\" \",end=\" \")\n",
        "  print()"
      ]
    },
    {
      "cell_type": "code",
      "execution_count": null,
      "metadata": {
        "colab": {
          "base_uri": "https://localhost:8080/"
        },
        "id": "AnF2DOD9b-a0",
        "outputId": "796a38fb-1f2f-433f-8f39-14f3bfdb36c6"
      },
      "outputs": [
        {
          "name": "stdout",
          "output_type": "stream",
          "text": [
            "*       * \n",
            "  *   *   \n",
            "    *     \n",
            "  *   *   \n",
            "*       * \n"
          ]
        }
      ],
      "source": [
        "n=5\n",
        "for i in range(n):\n",
        "  for j in range(n):\n",
        "    if i==j or i+j==n-1:\n",
        "      print(\"*\",end=\" \")\n",
        "    else:\n",
        "      print(\" \",end=\" \")\n",
        "  print()"
      ]
    },
    {
      "cell_type": "code",
      "execution_count": null,
      "metadata": {
        "colab": {
          "base_uri": "https://localhost:8080/"
        },
        "id": "y4i5pBy3ce36",
        "outputId": "3f6a2af8-7130-42da-9f9e-7bb4242ba55f"
      },
      "outputs": [
        {
          "name": "stdout",
          "output_type": "stream",
          "text": [
            "* * * * * \n",
            "*       * \n",
            "*       * \n",
            "*       * \n",
            "* * * * * \n"
          ]
        }
      ],
      "source": [
        "n=5\n",
        "for i in range(n):\n",
        "  for j in range(n):\n",
        "    if i==0 or j==0 or i==n-1 or j==n-1:\n",
        "      print(\"*\",end=\" \")\n",
        "    else:\n",
        "      print(\" \",end=\" \")\n",
        "  print()"
      ]
    },
    {
      "cell_type": "code",
      "execution_count": null,
      "metadata": {
        "colab": {
          "base_uri": "https://localhost:8080/"
        },
        "id": "o0MIN9iKc-Fh",
        "outputId": "611ec7e9-3b34-45e6-b2ba-02a287fa9d68"
      },
      "outputs": [
        {
          "name": "stdout",
          "output_type": "stream",
          "text": [
            "* \n",
            "* * \n",
            "*   * \n",
            "*     * \n",
            "* * * * * \n"
          ]
        }
      ],
      "source": [
        "n=5\n",
        "for i in range(n):\n",
        "  for j in range(i+1):\n",
        "    if j==0 or i==n-1 or i==j:\n",
        "      print(\"*\",end=\" \")\n",
        "    else:\n",
        "      print(\" \",end=\" \")\n",
        "  print()"
      ]
    },
    {
      "cell_type": "code",
      "execution_count": null,
      "metadata": {
        "colab": {
          "base_uri": "https://localhost:8080/"
        },
        "id": "rR0PyNKWiP_8",
        "outputId": "1b6d229c-765b-40f3-bd54-dfd3a9256404"
      },
      "outputs": [
        {
          "name": "stdout",
          "output_type": "stream",
          "text": [
            "*         \n",
            "* *       \n",
            "*   *     \n",
            "*     *   \n",
            "* * * * * \n"
          ]
        }
      ],
      "source": [
        "n=5\n",
        "for i in range(n):\n",
        "  for j in range(n):\n",
        "    if j==0 or i==n-1 or i==j:\n",
        "      print(\"*\",end=\" \")\n",
        "    else:\n",
        "      print(\" \",end=\" \")\n",
        "  print()"
      ]
    },
    {
      "cell_type": "code",
      "execution_count": null,
      "metadata": {
        "colab": {
          "base_uri": "https://localhost:8080/"
        },
        "id": "_o0fsAQgdy-S",
        "outputId": "e5190516-cddb-44ed-aa61-03fc99a26ad8"
      },
      "outputs": [
        {
          "name": "stdout",
          "output_type": "stream",
          "text": [
            "* * * * * \n",
            "*     * \n",
            "*   * \n",
            "* * \n",
            "* \n"
          ]
        }
      ],
      "source": [
        "n=5\n",
        "for i in range(n):\n",
        "  for j in range(i,n):\n",
        "    if i==0 or j==i or j==n-1:\n",
        "      print(\"*\",end=\" \")\n",
        "    else:\n",
        "      print(\" \",end=\" \")\n",
        "  print()"
      ]
    },
    {
      "cell_type": "code",
      "execution_count": null,
      "metadata": {
        "colab": {
          "base_uri": "https://localhost:8080/"
        },
        "id": "oj8duzJCiUGV",
        "outputId": "4bd8370d-4912-4c37-802c-db13c9bccd25"
      },
      "outputs": [
        {
          "name": "stdout",
          "output_type": "stream",
          "text": [
            "* * * * * \n",
            "*     *   \n",
            "*   *     \n",
            "* *       \n",
            "*         \n"
          ]
        }
      ],
      "source": [
        "n=5\n",
        "for i in range(n):\n",
        "  for j in range(n):\n",
        "    if i==0 or j==0 or i+j==n-1:\n",
        "      print(\"*\",end=\" \")\n",
        "    else:\n",
        "      print(\" \",end=\" \")\n",
        "  print()"
      ]
    },
    {
      "cell_type": "code",
      "execution_count": null,
      "metadata": {
        "colab": {
          "base_uri": "https://localhost:8080/"
        },
        "id": "YIpThccdeb7h",
        "outputId": "3b43d259-bf20-4646-933b-584205ecfb01"
      },
      "outputs": [
        {
          "name": "stdout",
          "output_type": "stream",
          "text": [
            "          *  \n",
            "        *   *  \n",
            "      *       *  \n",
            "    *           *  \n",
            "  * * * * * * * * *  \n"
          ]
        }
      ],
      "source": [
        "n=5\n",
        "for i in range(n):\n",
        "  for j in range(i,n):\n",
        "    print(\" \",end=\" \")\n",
        "  for j in range(i):\n",
        "    if i==n-1 or j==0:\n",
        "      print(\"*\",end=\" \")\n",
        "    else:\n",
        "      print(\" \",end=\" \")\n",
        "\n",
        "  for j in range(i+1):\n",
        "    if i==n-1 or j==i:\n",
        "      print(\"*\",end=\" \")\n",
        "    else:\n",
        "      print(\" \",end=\" \")\n",
        "  print(\" \")"
      ]
    },
    {
      "cell_type": "code",
      "execution_count": null,
      "metadata": {
        "colab": {
          "base_uri": "https://localhost:8080/"
        },
        "id": "FYpMvYMXgG6x",
        "outputId": "61cc8ac8-4b2f-4e05-c0ad-3dc961d5c7f4"
      },
      "outputs": [
        {
          "name": "stdout",
          "output_type": "stream",
          "text": [
            "          *  \n",
            "        *   *  \n",
            "      *       *  \n",
            "    *           *  \n",
            "  *               * \n",
            "    *           * \n",
            "      *       * \n",
            "        *   * \n",
            "          * \n"
          ]
        }
      ],
      "source": [
        "n=5\n",
        "for i in range(n-1):\n",
        "  for j in range(i,n):\n",
        "    print(\" \",end=\" \")\n",
        "  for j in range(i):\n",
        "    if i==n-1 or j==0:\n",
        "      print(\"*\",end=\" \")\n",
        "    else:\n",
        "      print(\" \",end=\" \")\n",
        "\n",
        "  for j in range(i+1):\n",
        "    if i==n-1 or j==i:\n",
        "      print(\"*\",end=\" \")\n",
        "    else:\n",
        "      print(\" \",end=\" \")\n",
        "  print(\" \")\n",
        "\n",
        "n=5\n",
        "for i in range(n):\n",
        "  for j in range(i+1):\n",
        "    print(\" \",end=\" \")\n",
        "  for j in range(i,n):\n",
        "    if j==i:\n",
        "      print(\"*\",end=\" \")\n",
        "    else:\n",
        "      print(\" \",end=\" \")\n",
        "\n",
        "  for j in range(i,n-1):\n",
        "    if j==n-2:\n",
        "      print(\"*\",end=\" \")\n",
        "    else:\n",
        "      print(\" \",end=\" \")\n",
        "  print()"
      ]
    },
    {
      "cell_type": "code",
      "execution_count": null,
      "metadata": {
        "colab": {
          "base_uri": "https://localhost:8080/"
        },
        "id": "mrthKSH8kU4S",
        "outputId": "c2e60af1-442d-4341-85cf-81f244f7aa63"
      },
      "outputs": [
        {
          "name": "stdout",
          "output_type": "stream",
          "text": [
            "enter the number :153\n",
            "Armstrong number\n"
          ]
        }
      ],
      "source": [
        "n=int(input(\"enter the number :\"))\n",
        "m=n\n",
        "sum=0\n",
        "while m!=0:\n",
        "  digit=m%10\n",
        "  sum =sum+digit**3\n",
        "  m=m//10\n",
        "if sum == n:\n",
        "  print(\"Armstrong number\")\n",
        "else :\n",
        "  print(\"Its not Armstrong number \")"
      ]
    },
    {
      "cell_type": "code",
      "execution_count": null,
      "metadata": {
        "colab": {
          "base_uri": "https://localhost:8080/"
        },
        "id": "xPvsSsZVegph",
        "outputId": "4ec92551-3585-4079-e16f-3a81378ff88e"
      },
      "outputs": [
        {
          "name": "stdout",
          "output_type": "stream",
          "text": [
            "u\n",
            "a\n"
          ]
        }
      ],
      "source": [
        "str = \"suraj\"\n",
        "vowels = \"AEIOUaeiou\"\n",
        "\n",
        "for char in str:\n",
        "    if char in vowels:\n",
        "        print(char)\n"
      ]
    },
    {
      "cell_type": "code",
      "execution_count": null,
      "metadata": {
        "colab": {
          "base_uri": "https://localhost:8080/"
        },
        "id": "YQBDmL-fk1I-",
        "outputId": "4293e3ad-df61-479e-c0cd-77672faa652a"
      },
      "outputs": [
        {
          "name": "stdout",
          "output_type": "stream",
          "text": [
            "['u', 'a']\n"
          ]
        }
      ],
      "source": [
        "str_input = \"suraj\"\n",
        "vowels = \"AEIOUaeiou\"\n",
        "vowel_list = []\n",
        "\n",
        "for char in str_input:\n",
        "    if char in vowels:\n",
        "        vowel_list.append(char)\n",
        "\n",
        "print(vowel_list)  # This will print a list of found vowels\n"
      ]
    },
    {
      "cell_type": "code",
      "execution_count": null,
      "metadata": {
        "id": "WFA2nKm4z4j3"
      },
      "outputs": [],
      "source": []
    },
    {
      "cell_type": "code",
      "execution_count": null,
      "metadata": {
        "colab": {
          "base_uri": "https://localhost:8080/"
        },
        "id": "sl0bYRvAlzAV",
        "outputId": "4e7351da-ff68-4955-d942-6286364bbd84"
      },
      "outputs": [
        {
          "name": "stdout",
          "output_type": "stream",
          "text": [
            "apple is red\n",
            "banana is yellow\n",
            "cherry is green\n"
          ]
        }
      ],
      "source": [
        "fruits=[\"apple\",\"banana\",\"cherry\"]\n",
        "colors=[\"red\",\"yellow\",\"green\"]\n",
        "\n",
        "for fruit,color in zip(fruits,colors):\n",
        "  print(fruit,\"is\",color)"
      ]
    },
    {
      "cell_type": "code",
      "execution_count": null,
      "metadata": {
        "colab": {
          "base_uri": "https://localhost:8080/"
        },
        "id": "BqVljyjVngyq",
        "outputId": "b8bca719-9dd8-4682-b280-a0c1dfb1a713"
      },
      "outputs": [
        {
          "name": "stdout",
          "output_type": "stream",
          "text": [
            "[10, 25, 30, 40, 50]\n"
          ]
        }
      ],
      "source": [
        "# Define a list\n",
        "my_list = [10, 20, 30, 40, 50]\n",
        "\n",
        "# Update the second element (index 1)\n",
        "my_list[1] = 25\n",
        "\n",
        "print(my_list)\n"
      ]
    },
    {
      "cell_type": "code",
      "execution_count": null,
      "metadata": {
        "colab": {
          "base_uri": "https://localhost:8080/"
        },
        "id": "MHBTn30ErLr2",
        "outputId": "ff8dfa91-2036-4cc3-bffa-8dd78c3ce075"
      },
      "outputs": [
        {
          "name": "stdout",
          "output_type": "stream",
          "text": [
            "[10, 25, 30, 40, 50]\n"
          ]
        }
      ],
      "source": [
        "list=my_list.copy()\n",
        "print(list)"
      ]
    },
    {
      "cell_type": "code",
      "execution_count": null,
      "metadata": {
        "colab": {
          "base_uri": "https://localhost:8080/"
        },
        "id": "sz5TtbWVrYAW",
        "outputId": "a75d2db3-2844-4236-e2f7-fd905c4127fc"
      },
      "outputs": [
        {
          "name": "stdout",
          "output_type": "stream",
          "text": [
            "[10, 25, 30, 40]\n"
          ]
        }
      ],
      "source": [
        "list.pop()\n",
        "print(list)"
      ]
    },
    {
      "cell_type": "code",
      "execution_count": null,
      "metadata": {
        "colab": {
          "base_uri": "https://localhost:8080/"
        },
        "id": "gw3bxYVQrlPR",
        "outputId": "4a48fe44-7ce7-433d-82b3-e6eac0f1fd56"
      },
      "outputs": [
        {
          "name": "stdout",
          "output_type": "stream",
          "text": [
            "[10, 25, 40]\n"
          ]
        }
      ],
      "source": [
        "list.pop(2)\n",
        "print(list)"
      ]
    },
    {
      "cell_type": "code",
      "execution_count": null,
      "metadata": {
        "colab": {
          "base_uri": "https://localhost:8080/"
        },
        "id": "NvKUbocAro6H",
        "outputId": "cfef6d90-9f4d-43ce-c92d-612317ca1620"
      },
      "outputs": [
        {
          "name": "stdout",
          "output_type": "stream",
          "text": [
            "[0, 4, 5, 10, 25, 30, 60]\n"
          ]
        }
      ],
      "source": [
        "list=[10,30,25,4,5,0,60]\n",
        "list.sort()\n",
        "print(list)"
      ]
    },
    {
      "cell_type": "code",
      "execution_count": null,
      "metadata": {
        "colab": {
          "base_uri": "https://localhost:8080/"
        },
        "id": "FOJv1d9Mr2e_",
        "outputId": "9df46185-33f3-4db1-d227-1536b471b7b6"
      },
      "outputs": [
        {
          "name": "stdout",
          "output_type": "stream",
          "text": [
            "[60, 30, 25, 10, 5, 4, 0]\n"
          ]
        }
      ],
      "source": [
        "list.sort(reverse=True)\n",
        "print(list)"
      ]
    },
    {
      "cell_type": "code",
      "execution_count": null,
      "metadata": {
        "colab": {
          "base_uri": "https://localhost:8080/"
        },
        "id": "HxeDiT00r_I-",
        "outputId": "1f70d6b6-e176-40c9-e155-5f6b2ed71918"
      },
      "outputs": [
        {
          "name": "stdout",
          "output_type": "stream",
          "text": [
            "[60, 30, 25, 10, 5, 4, 0, 50]\n"
          ]
        }
      ],
      "source": [
        "list.append(50)\n",
        "print(list)"
      ]
    },
    {
      "cell_type": "code",
      "execution_count": null,
      "metadata": {
        "colab": {
          "base_uri": "https://localhost:8080/"
        },
        "id": "G3VjSuGdsSP_",
        "outputId": "e4f614d4-53d7-4315-d55a-0d9ed5d71ecf"
      },
      "outputs": [
        {
          "name": "stdout",
          "output_type": "stream",
          "text": [
            "[60, 30, 25, 10, 5, 4, 0, 50, 10, 40]\n"
          ]
        }
      ],
      "source": [
        "list2=[10,40]\n",
        "list.extend(list2)\n",
        "print(list)"
      ]
    },
    {
      "cell_type": "code",
      "execution_count": null,
      "metadata": {
        "colab": {
          "base_uri": "https://localhost:8080/"
        },
        "id": "VQDqdHDFseoe",
        "outputId": "874e397a-7d7b-4207-d26c-9647bb8c7d44"
      },
      "outputs": [
        {
          "name": "stdout",
          "output_type": "stream",
          "text": [
            "{'Name': 'Suraj', 'Age': 20, 'course': 'Data Science'}\n",
            "dict_keys(['Name', 'Age', 'course'])\n",
            "dict_values(['Suraj', 20, 'Data Science'])\n"
          ]
        }
      ],
      "source": [
        "dict={\"Name\":\"Suraj\",\"Age\":20,\"course\":\"Data Science\"}\n",
        "print(dict)\n",
        "print(dict.keys())\n",
        "print(dict.values())"
      ]
    },
    {
      "cell_type": "code",
      "execution_count": null,
      "metadata": {
        "colab": {
          "base_uri": "https://localhost:8080/"
        },
        "id": "Xe4fSlESwH6T",
        "outputId": "59e450aa-f871-4bc5-d9ae-638fe9105441"
      },
      "outputs": [
        {
          "name": "stdout",
          "output_type": "stream",
          "text": [
            "{'Name': 'Suraj', 'Age': 20, 'course': 'Java'}\n"
          ]
        }
      ],
      "source": [
        "dict[\"course\"]=\"Java\"\n",
        "print(dict)"
      ]
    },
    {
      "cell_type": "code",
      "execution_count": null,
      "metadata": {
        "colab": {
          "base_uri": "https://localhost:8080/"
        },
        "id": "IzYBdqO8wh_8",
        "outputId": "ba533ba6-7a8d-4c97-972e-fdffebcf8693"
      },
      "outputs": [
        {
          "name": "stdout",
          "output_type": "stream",
          "text": [
            "{'Name': 'Suraj', 'Age': 20, 'course': 'Java', 'Add': 'Japuir'}\n"
          ]
        }
      ],
      "source": [
        "dict[\"Add\"]=\"Japuir\"\n",
        "print(dict)"
      ]
    },
    {
      "cell_type": "code",
      "execution_count": null,
      "metadata": {
        "colab": {
          "base_uri": "https://localhost:8080/"
        },
        "id": "bPxgWkLQwsFD",
        "outputId": "42a11ea5-c6e4-42dd-daf3-3cde7b5d61c7"
      },
      "outputs": [
        {
          "name": "stdout",
          "output_type": "stream",
          "text": [
            "Enter a number :5\n",
            "Factorial of a 5 is :  120\n"
          ]
        }
      ],
      "source": [
        "n=int(input(\"Enter a number :\"))\n",
        "fact=1\n",
        "\n",
        "for i in range(1,n+1):\n",
        "  fact=fact*i\n",
        "print(f\"Factorial of a {n} is : \",fact)"
      ]
    },
    {
      "cell_type": "code",
      "execution_count": null,
      "metadata": {
        "colab": {
          "base_uri": "https://localhost:8080/"
        },
        "id": "bnMJ70fYyfTK",
        "outputId": "04620c1c-ff44-4203-972d-a51b4047d0c8"
      },
      "outputs": [
        {
          "name": "stdout",
          "output_type": "stream",
          "text": [
            "D \n",
            "E E \n",
            "F   F \n",
            "G     G \n",
            "H H H H H \n"
          ]
        }
      ],
      "source": [
        "n=5\n",
        "p=68\n",
        "for i in range(n):\n",
        "  for j in range(i+1):\n",
        "    if j==0 or i==n-1 or i==j:\n",
        "      print(chr(p),end=\" \")\n",
        "    else:\n",
        "      print(\" \",end=\" \")\n",
        "  p+=1\n",
        "  print()"
      ]
    },
    {
      "cell_type": "code",
      "execution_count": null,
      "metadata": {
        "colab": {
          "background_save": true
        },
        "id": "8B2k9s68KrYF",
        "outputId": "8b9933bb-83f1-4337-d377-40ead2907928"
      },
      "outputs": [
        {
          "name": "stdout",
          "output_type": "stream",
          "text": [
            "1 \n",
            "2 2 \n",
            "3 3 3 \n",
            "4 4 4 4 \n",
            "5 5 5 5 5 \n"
          ]
        }
      ],
      "source": [
        "n=5\n",
        "for i in range(n):\n",
        "  for j in range(i+1):\n",
        "    print(i+1,end=\" \")\n",
        "  print()"
      ]
    },
    {
      "cell_type": "code",
      "execution_count": null,
      "metadata": {
        "id": "YHjrNzy8N2V_",
        "colab": {
          "base_uri": "https://localhost:8080/"
        },
        "outputId": "6583d36c-3e51-4816-c995-32c3f1a03aec"
      },
      "outputs": [
        {
          "output_type": "stream",
          "name": "stdout",
          "text": [
            "E  \n",
            "D E  \n",
            "C D E  \n",
            "B C D E  \n",
            "A B C D E  \n"
          ]
        }
      ],
      "source": [
        "n=5\n",
        "k=69\n",
        "for i in range(n):\n",
        "  p=k\n",
        "  for j in range(i+1):\n",
        "    print(chr(p),end=\" \")\n",
        "    p+=1\n",
        "  k-=1\n",
        "  print(\" \")"
      ]
    },
    {
      "cell_type": "code",
      "source": [
        "n=int(input(\"Enter the number : \"))\n",
        "a,b=0,1\n",
        "for i in range(1,n+1):\n",
        "  print(a,end=\" \")\n",
        "  a,b=b,a+b"
      ],
      "metadata": {
        "id": "AKZ54oRQ2J3d",
        "colab": {
          "base_uri": "https://localhost:8080/"
        },
        "outputId": "87cf5828-34f0-445d-f13d-908259fecf99"
      },
      "execution_count": null,
      "outputs": [
        {
          "output_type": "stream",
          "name": "stdout",
          "text": [
            "Enter the number : 5\n",
            "0 1 1 2 3 "
          ]
        }
      ]
    },
    {
      "cell_type": "code",
      "source": [
        "s=\"suraj\"\n",
        "list=[]\n",
        "for char in s:\n",
        "  list.append(char)\n",
        "print(list)\n"
      ],
      "metadata": {
        "colab": {
          "base_uri": "https://localhost:8080/"
        },
        "id": "OkpqvYOTGyH3",
        "outputId": "82f0fb5a-3328-4d1e-ceaf-8941f4970dfc"
      },
      "execution_count": null,
      "outputs": [
        {
          "output_type": "stream",
          "name": "stdout",
          "text": [
            "['s', 'u', 'r', 'a', 'j']\n"
          ]
        }
      ]
    },
    {
      "cell_type": "code",
      "source": [
        "n=input(\"Enter a string \")\n",
        "count=0\n",
        "a=n.split()\n",
        "for i in a:\n",
        "  count+=1\n",
        "print(count)\n"
      ],
      "metadata": {
        "id": "gUBlf8r1RKXO",
        "colab": {
          "base_uri": "https://localhost:8080/"
        },
        "outputId": "65978044-ab16-467e-f8d5-dee42b4093fa"
      },
      "execution_count": null,
      "outputs": [
        {
          "output_type": "stream",
          "name": "stdout",
          "text": [
            "Enter a string sura kumar \n",
            "2\n"
          ]
        }
      ]
    },
    {
      "cell_type": "code",
      "source": [
        "str=\"suraj singh chandravanshi\"\n",
        "longest_word=''\n",
        "length=0\n",
        "a=str.split()\n",
        "for word in a:\n",
        "  if len(word)>length:\n",
        "    longest_word=word\n",
        "    length=len(word)\n",
        "print(longest_word)\n",
        "print(length)\n"
      ],
      "metadata": {
        "colab": {
          "base_uri": "https://localhost:8080/"
        },
        "id": "irNnq6thLZUn",
        "outputId": "b7ab48ab-7215-4e4f-c59b-4a0900bd180f"
      },
      "execution_count": null,
      "outputs": [
        {
          "output_type": "stream",
          "name": "stdout",
          "text": [
            "chandravanshi\n",
            "13\n"
          ]
        }
      ]
    },
    {
      "cell_type": "code",
      "source": [
        "n=int(input(\"Enter the number :\"))\n",
        "m=n\n",
        "sum=0\n",
        "while m!=0:\n",
        "  rem=m%10\n",
        "  sum=sum+rem**3\n",
        "  m=m//10\n",
        "if sum==n:\n",
        "  print(\"Armstrong number\")\n",
        "else:\n",
        "  print(\" Not armstrong number\")"
      ],
      "metadata": {
        "colab": {
          "base_uri": "https://localhost:8080/"
        },
        "id": "piFKFv3eOEau",
        "outputId": "346cf614-f335-42e4-dd93-e24effaa3ece"
      },
      "execution_count": null,
      "outputs": [
        {
          "output_type": "stream",
          "name": "stdout",
          "text": [
            "Enter the number :153\n",
            "Armstrong number\n"
          ]
        }
      ]
    },
    {
      "cell_type": "code",
      "source": [
        "n=int(input(\"Enter the number to print table :\"))\n",
        "\n",
        "for i in range(1,11):\n",
        "  print(f\"{n} x {i} :\",i*n)"
      ],
      "metadata": {
        "colab": {
          "base_uri": "https://localhost:8080/"
        },
        "id": "WtRBVI-VTjfJ",
        "outputId": "ba1ebcc0-3f6f-4daa-a28e-064dc499ed24"
      },
      "execution_count": null,
      "outputs": [
        {
          "output_type": "stream",
          "name": "stdout",
          "text": [
            "Enter the number to print table :2\n",
            "2 x 1 : 2\n",
            "2 x 2 : 4\n",
            "2 x 3 : 6\n",
            "2 x 4 : 8\n",
            "2 x 5 : 10\n",
            "2 x 6 : 12\n",
            "2 x 7 : 14\n",
            "2 x 8 : 16\n",
            "2 x 9 : 18\n",
            "2 x 10 : 20\n"
          ]
        }
      ]
    },
    {
      "cell_type": "code",
      "source": [
        "n=5\n",
        "for i in range(n):\n",
        "  for j in range(i,n):\n",
        "    print(\" \",end=\" \")\n",
        "  for j in range(i+1):\n",
        "    print(\"*\",end=\" \")\n",
        "  print()"
      ],
      "metadata": {
        "colab": {
          "base_uri": "https://localhost:8080/"
        },
        "id": "py3hiKvbZGne",
        "outputId": "fe9b7df7-55fc-4bf7-ab7d-61b2bf0a5349"
      },
      "execution_count": null,
      "outputs": [
        {
          "output_type": "stream",
          "name": "stdout",
          "text": [
            "          * \n",
            "        * * \n",
            "      * * * \n",
            "    * * * * \n",
            "  * * * * * \n"
          ]
        }
      ]
    },
    {
      "cell_type": "code",
      "source": [
        "n=5\n",
        "for i in range(n):\n",
        "  for j in range(n):\n",
        "    if i==n-1  or i+j==n-1 or j==n-1:\n",
        "      print(\"*\",end=\" \")\n",
        "    else:\n",
        "      print(\" \",end=\" \")\n",
        "  print()\n"
      ],
      "metadata": {
        "colab": {
          "base_uri": "https://localhost:8080/"
        },
        "id": "rtOBCzc9a-xh",
        "outputId": "36e0a587-db87-4443-b59d-0f8cc7b4cb0b"
      },
      "execution_count": null,
      "outputs": [
        {
          "output_type": "stream",
          "name": "stdout",
          "text": [
            "        * \n",
            "      * * \n",
            "    *   * \n",
            "  *     * \n",
            "* * * * * \n"
          ]
        }
      ]
    },
    {
      "cell_type": "code",
      "source": [
        "n=5\n",
        "for i in range(n):\n",
        "  for j in range(i,n):\n",
        "    print(\" \",end=\" \")\n",
        "  for j in range(i+1):\n",
        "    if i==n-1 or j==n-1:\n",
        "      print(\"*\",end=\" \")\n",
        "    else:\n",
        "      print(\" \",end=\" \")\n",
        "  print()"
      ],
      "metadata": {
        "colab": {
          "base_uri": "https://localhost:8080/"
        },
        "id": "tdlXn2jTcmKz",
        "outputId": "e1fd410d-4a00-4b54-c27b-10a3efcc6142"
      },
      "execution_count": null,
      "outputs": [
        {
          "output_type": "stream",
          "name": "stdout",
          "text": [
            "            \n",
            "            \n",
            "            \n",
            "            \n",
            "  * * * * * \n"
          ]
        }
      ]
    },
    {
      "cell_type": "code",
      "source": [],
      "metadata": {
        "id": "VfXeW2iefLs_"
      },
      "execution_count": null,
      "outputs": []
    }
  ],
  "metadata": {
    "colab": {
      "provenance": [],
      "include_colab_link": true
    },
    "kernelspec": {
      "display_name": "Python 3",
      "name": "python3"
    },
    "language_info": {
      "name": "python"
    }
  },
  "nbformat": 4,
  "nbformat_minor": 0
}