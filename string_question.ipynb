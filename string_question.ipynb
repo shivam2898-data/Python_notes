{
  "nbformat": 4,
  "nbformat_minor": 0,
  "metadata": {
    "colab": {
      "provenance": [],
      "authorship_tag": "ABX9TyPhz3TF49MJhxgrpO+DW3OR",
      "include_colab_link": true
    },
    "kernelspec": {
      "name": "python3",
      "display_name": "Python 3"
    },
    "language_info": {
      "name": "python"
    }
  },
  "cells": [
    {
      "cell_type": "markdown",
      "metadata": {
        "id": "view-in-github",
        "colab_type": "text"
      },
      "source": [
        "<a href=\"https://colab.research.google.com/github/shivam2898-data/Python_notes/blob/main/string_question.ipynb\" target=\"_parent\"><img src=\"https://colab.research.google.com/assets/colab-badge.svg\" alt=\"Open In Colab\"/></a>"
      ]
    },
    {
      "cell_type": "code",
      "execution_count": null,
      "metadata": {
        "colab": {
          "base_uri": "https://localhost:8080/"
        },
        "id": "hCpHqlC8Q9da",
        "outputId": "54ab1977-2d3b-4f2a-a945-6d98eb2fadd7"
      },
      "outputs": [
        {
          "output_type": "stream",
          "name": "stdout",
          "text": [
            "olleh\n"
          ]
        }
      ],
      "source": [
        "s=\"hello\"\n",
        "a=s[-1: :-1]\n",
        "print(a)"
      ]
    },
    {
      "cell_type": "code",
      "source": [
        "s=\"programming\"\n",
        "a=s[3:7]\n",
        "print(a)"
      ],
      "metadata": {
        "colab": {
          "base_uri": "https://localhost:8080/"
        },
        "id": "iZzj6Q5jRXQd",
        "outputId": "baf1cd05-bd21-45b3-a2b6-d4b69b7b4b15"
      },
      "execution_count": null,
      "outputs": [
        {
          "output_type": "stream",
          "name": "stdout",
          "text": [
            "gram\n"
          ]
        }
      ]
    },
    {
      "cell_type": "code",
      "source": [
        "s=\"banana\"\n",
        "print(s.count(\"a\"))"
      ],
      "metadata": {
        "colab": {
          "base_uri": "https://localhost:8080/"
        },
        "id": "DvGXCsnLRscx",
        "outputId": "079b9344-7ed9-417b-a3e3-0ff54d746f20"
      },
      "execution_count": null,
      "outputs": [
        {
          "output_type": "stream",
          "name": "stdout",
          "text": [
            "3\n"
          ]
        }
      ]
    },
    {
      "cell_type": "code",
      "source": [
        "s=\"hello world\"\n",
        "print(s.upper())"
      ],
      "metadata": {
        "colab": {
          "base_uri": "https://localhost:8080/"
        },
        "id": "ARQ8gy0GR3Da",
        "outputId": "1e607d49-03ab-4462-f0f1-9189592e19be"
      },
      "execution_count": null,
      "outputs": [
        {
          "output_type": "stream",
          "name": "stdout",
          "text": [
            "HELLO WORLD\n"
          ]
        }
      ]
    },
    {
      "cell_type": "code",
      "source": [
        "s=\"hello world\"\n",
        "print(s.endswith(\"hello\"))"
      ],
      "metadata": {
        "colab": {
          "base_uri": "https://localhost:8080/"
        },
        "id": "mHlLVR65SDkf",
        "outputId": "2bbacebb-f4f4-401c-c6f2-d53bb19761f4"
      },
      "execution_count": null,
      "outputs": [
        {
          "output_type": "stream",
          "name": "stdout",
          "text": [
            "False\n"
          ]
        }
      ]
    },
    {
      "cell_type": "code",
      "source": [
        "s=\"apple,banana,cherry\"\n",
        "print(s.split(\",\"))"
      ],
      "metadata": {
        "colab": {
          "base_uri": "https://localhost:8080/"
        },
        "id": "PvYu6RkFSTNy",
        "outputId": "f50b22b6-5c3e-472a-a203-2f6b4ed01f6b"
      },
      "execution_count": null,
      "outputs": [
        {
          "output_type": "stream",
          "name": "stdout",
          "text": [
            "['apple', 'banana', 'cherry']\n"
          ]
        }
      ]
    },
    {
      "cell_type": "code",
      "source": [
        "s=\"abc123\"\n",
        "print(s.isalnum())"
      ],
      "metadata": {
        "colab": {
          "base_uri": "https://localhost:8080/"
        },
        "id": "O3RDLgtDShvx",
        "outputId": "f07804e7-1326-4b1b-e84d-5e7cd874b064"
      },
      "execution_count": null,
      "outputs": [
        {
          "output_type": "stream",
          "name": "stdout",
          "text": [
            "True\n"
          ]
        }
      ]
    },
    {
      "cell_type": "code",
      "source": [
        "s=\"hello world\"\n",
        "print(s.index(\"o\"))"
      ],
      "metadata": {
        "colab": {
          "base_uri": "https://localhost:8080/"
        },
        "id": "MBRGUrxHS12E",
        "outputId": "3542ce5f-b965-42ff-a888-e16a77279e1b"
      },
      "execution_count": null,
      "outputs": [
        {
          "output_type": "stream",
          "name": "stdout",
          "text": [
            "4\n"
          ]
        }
      ]
    },
    {
      "cell_type": "code",
      "source": [
        "s=\"  hello world   \"\n",
        "print(s.strip())"
      ],
      "metadata": {
        "colab": {
          "base_uri": "https://localhost:8080/"
        },
        "id": "iWbISQ0LTCer",
        "outputId": "fb9a35aa-7fe2-409f-a095-d992e77757a1"
      },
      "execution_count": null,
      "outputs": [
        {
          "output_type": "stream",
          "name": "stdout",
          "text": [
            "hello world\n"
          ]
        }
      ]
    },
    {
      "cell_type": "code",
      "source": [
        "s=\"python\",\"is\",\"fun\"\n",
        "print(\",\".join(s))"
      ],
      "metadata": {
        "colab": {
          "base_uri": "https://localhost:8080/"
        },
        "id": "TOqHsXP6TOGI",
        "outputId": "fef7d92e-1832-4a1b-e75e-960ab5de3f0c"
      },
      "execution_count": null,
      "outputs": [
        {
          "output_type": "stream",
          "name": "stdout",
          "text": [
            "python,is,fun\n"
          ]
        }
      ]
    },
    {
      "cell_type": "code",
      "source": [
        "s=\"python is awesome and fun\"\n",
        "max_length=0\n",
        "current_length=0\n",
        "for char in s:\n",
        "  if char !=' ':\n",
        "    current_length +=1\n",
        "  else:\n",
        "    if current_length>max_length:\n",
        "       max_length=current_length\n",
        "    current_length=0\n",
        "if current_length>max_length:\n",
        "   max_length=current_length\n",
        "print(max_length)\n",
        "\n",
        "\n"
      ],
      "metadata": {
        "id": "unOk3uU6VhCI",
        "colab": {
          "base_uri": "https://localhost:8080/"
        },
        "outputId": "4659f684-3954-4f58-f9b0-4c8c9145e7a0"
      },
      "execution_count": null,
      "outputs": [
        {
          "output_type": "stream",
          "name": "stdout",
          "text": [
            "7\n"
          ]
        }
      ]
    },
    {
      "cell_type": "code",
      "source": [
        "s=\"purshottam is an awesome teacher \"\n",
        "ml=0\n",
        "cl=0\n",
        "for char in s:\n",
        "  if char!=' ':\n",
        "    cl+=1\n",
        "  else:\n",
        "    if cl>ml:\n",
        "      ml=cl\n",
        "    cl=0\n",
        "if cl>ml:\n",
        "  ml=cl\n",
        "print(ml)"
      ],
      "metadata": {
        "colab": {
          "base_uri": "https://localhost:8080/"
        },
        "id": "JQeNlDCahrQU",
        "outputId": "2809b690-55a1-48d8-8c71-0a050fa9d37a"
      },
      "execution_count": null,
      "outputs": [
        {
          "output_type": "stream",
          "name": "stdout",
          "text": [
            "10\n"
          ]
        }
      ]
    },
    {
      "cell_type": "code",
      "source": [
        "s=\"abcdefgh\"\n",
        "print(s[1::2 ])"
      ],
      "metadata": {
        "colab": {
          "base_uri": "https://localhost:8080/"
        },
        "id": "yBX20ESItKml",
        "outputId": "d49a45d0-70ac-4c6f-a41a-255e8211b198"
      },
      "execution_count": null,
      "outputs": [
        {
          "output_type": "stream",
          "name": "stdout",
          "text": [
            "bdfh\n"
          ]
        }
      ]
    },
    {
      "cell_type": "code",
      "source": [
        "s=\"12345\"\n",
        "print(s.isdigit())"
      ],
      "metadata": {
        "colab": {
          "base_uri": "https://localhost:8080/"
        },
        "id": "75u8cs9mtbsB",
        "outputId": "308199d6-f7bb-412d-899d-8d9c94edb86d"
      },
      "execution_count": null,
      "outputs": [
        {
          "output_type": "stream",
          "name": "stdout",
          "text": [
            "True\n"
          ]
        }
      ]
    },
    {
      "cell_type": "code",
      "source": [
        "s=\"python is fun\"\n",
        "print(s.title())"
      ],
      "metadata": {
        "colab": {
          "base_uri": "https://localhost:8080/"
        },
        "id": "_5Gy5-LMt-_E",
        "outputId": "7e507ea9-158d-429c-fd79-08dc4974c3d1"
      },
      "execution_count": null,
      "outputs": [
        {
          "output_type": "stream",
          "name": "stdout",
          "text": [
            "Python Is Fun\n"
          ]
        }
      ]
    },
    {
      "cell_type": "code",
      "source": [
        "s=\"hello world\"\n",
        "print(s.replace(\"o\",\"\"))"
      ],
      "metadata": {
        "colab": {
          "base_uri": "https://localhost:8080/"
        },
        "id": "QSY6xI8Iux2y",
        "outputId": "b616caa4-9e58-434c-c724-05b47641d5ac"
      },
      "execution_count": null,
      "outputs": [
        {
          "output_type": "stream",
          "name": "stdout",
          "text": [
            "hell wrld\n"
          ]
        }
      ]
    },
    {
      "cell_type": "code",
      "source": [
        "s=\"python is fun\"\n",
        "print(\"fun\" in s)"
      ],
      "metadata": {
        "colab": {
          "base_uri": "https://localhost:8080/"
        },
        "id": "Smw-EbkUvbZq",
        "outputId": "49eebeab-a7c0-4ebd-c8b4-736109509783"
      },
      "execution_count": null,
      "outputs": [
        {
          "output_type": "stream",
          "name": "stdout",
          "text": [
            "True\n"
          ]
        }
      ]
    },
    {
      "cell_type": "code",
      "source": [
        "s=\"python is an awesome and fun\"\n",
        "a=max(s.split(),key=len)\n",
        "print(a)"
      ],
      "metadata": {
        "colab": {
          "base_uri": "https://localhost:8080/"
        },
        "id": "laxAHYrFhttI",
        "outputId": "80ed1e22-bc3c-43d2-9e90-a2219677a822"
      },
      "execution_count": null,
      "outputs": [
        {
          "output_type": "stream",
          "name": "stdout",
          "text": [
            "awesome\n"
          ]
        }
      ]
    },
    {
      "cell_type": "code",
      "source": [
        "s=\"python is an awesome and funkingdom\"\n",
        "ml=0\n",
        "cl=0\n",
        "for char in s:\n",
        "  if char!=' ':\n",
        "    cl+=1\n",
        "  else:\n",
        "    if cl>ml:\n",
        "      ml=cl\n",
        "    cl=0\n",
        "if cl>ml:\n",
        "  ml=cl\n",
        "print(ml)"
      ],
      "metadata": {
        "colab": {
          "base_uri": "https://localhost:8080/"
        },
        "id": "eGQ2oyrhiLMf",
        "outputId": "718cbc51-3d28-429d-8737-e6cd9997f3a0"
      },
      "execution_count": null,
      "outputs": [
        {
          "output_type": "stream",
          "name": "stdout",
          "text": [
            "10\n"
          ]
        }
      ]
    },
    {
      "cell_type": "code",
      "source": [
        "s=\"python is an awesome and funkingdom\"\n",
        "ml=0\n",
        "cl=0\n",
        "for char in s:\n",
        "  if char!=' ':\n",
        "    cl+=1\n",
        "  else:\n",
        "    if cl>ml:\n",
        "      ml=cl\n",
        "    cl=0\n",
        "print(ml)"
      ],
      "metadata": {
        "colab": {
          "base_uri": "https://localhost:8080/"
        },
        "id": "u6WaoMxCjcxo",
        "outputId": "b3c8957c-c653-4155-d3d9-81d0ac880b8f"
      },
      "execution_count": null,
      "outputs": [
        {
          "output_type": "stream",
          "name": "stdout",
          "text": [
            "7\n"
          ]
        }
      ]
    }
  ]
}