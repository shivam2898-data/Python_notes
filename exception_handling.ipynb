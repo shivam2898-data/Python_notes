{
  "nbformat": 4,
  "nbformat_minor": 0,
  "metadata": {
    "colab": {
      "provenance": [],
      "authorship_tag": "ABX9TyPU34ajI+rhg056AQ6h+PNe",
      "include_colab_link": true
    },
    "kernelspec": {
      "name": "python3",
      "display_name": "Python 3"
    },
    "language_info": {
      "name": "python"
    }
  },
  "cells": [
    {
      "cell_type": "markdown",
      "metadata": {
        "id": "view-in-github",
        "colab_type": "text"
      },
      "source": [
        "<a href=\"https://colab.research.google.com/github/shivam2898-data/Python_notes/blob/main/exception_handling.ipynb\" target=\"_parent\"><img src=\"https://colab.research.google.com/assets/colab-badge.svg\" alt=\"Open In Colab\"/></a>"
      ]
    },
    {
      "cell_type": "markdown",
      "source": [
        "# 1 Handling ZeroDivisionError"
      ],
      "metadata": {
        "id": "jP3T_cYpfDpH"
      }
    },
    {
      "cell_type": "code",
      "execution_count": null,
      "metadata": {
        "colab": {
          "base_uri": "https://localhost:8080/"
        },
        "id": "FK-kbFijZuo-",
        "outputId": "e58aa787-e6d7-4574-fecc-25524b6e8927"
      },
      "outputs": [
        {
          "output_type": "stream",
          "name": "stdout",
          "text": [
            "you cannot divivde by zero division by zero\n"
          ]
        }
      ],
      "source": [
        "def exception_handling_examples():\n",
        "  try:\n",
        "    result=10/0\n",
        "    print(result)\n",
        "  except ZeroDivisionError as e:\n",
        "    print('you cannot divivde by zero',e)\n",
        "exception_handling_examples()"
      ]
    },
    {
      "cell_type": "markdown",
      "source": [
        "## 2 Hndling ValueError"
      ],
      "metadata": {
        "id": "Qd4U5nmVifWS"
      }
    },
    {
      "cell_type": "code",
      "source": [
        "# def exception_handling_examples():\n",
        "#   try:\n",
        "#     number=int(input('enter number :'))\n",
        "#     print(number)\n",
        "#   except ValueError as e:\n",
        "#     print('you cannot enter characters only pass intergers',e)\n",
        "# exception_handling_examples()\n",
        "\n",
        "#method2\n",
        "try:\n",
        "    number=int(input('enter number :'))\n",
        "    print(number)\n",
        "except Exception as e:\n",
        "  print(\"write a integer value\")"
      ],
      "metadata": {
        "id": "-qdimM-xeP3s"
      },
      "execution_count": null,
      "outputs": []
    },
    {
      "cell_type": "markdown",
      "source": [
        "## 3 Handling KeyError"
      ],
      "metadata": {
        "id": "7IamKUX9iUKh"
      }
    },
    {
      "cell_type": "code",
      "source": [
        "def exception_handling_examples():\n",
        "  try:\n",
        "    data={'name':'alice'}\n",
        "    print(data['subject'])\n",
        "  except KeyError as e:\n",
        "    print('caught a keyerror',e)\n",
        "exception_handling_examples()\n"
      ],
      "metadata": {
        "colab": {
          "base_uri": "https://localhost:8080/"
        },
        "id": "IGA6l__oetwe",
        "outputId": "5937df60-8f11-4bd2-f4f6-26585cc481d7"
      },
      "execution_count": null,
      "outputs": [
        {
          "output_type": "stream",
          "name": "stdout",
          "text": [
            "caught a keyerror 'subject'\n"
          ]
        }
      ]
    },
    {
      "cell_type": "markdown",
      "source": [
        "## 4 Handling IndexError"
      ],
      "metadata": {
        "id": "oodKk9qsgM8m"
      }
    },
    {
      "cell_type": "code",
      "source": [
        "def exception_handling_examples():\n",
        "  try:\n",
        "    my_list=[1,2,3]\n",
        "    print(my_list[5])\n",
        "  except IndexError as e:\n",
        "    print('caught an IndexError',e)\n",
        "exception_handling_examples()"
      ],
      "metadata": {
        "colab": {
          "base_uri": "https://localhost:8080/"
        },
        "id": "AgNZbOi3fCCC",
        "outputId": "4bf6bba9-f195-4418-d9d9-fe1128913d66"
      },
      "execution_count": null,
      "outputs": [
        {
          "output_type": "stream",
          "name": "stdout",
          "text": [
            "caught an IndexError list index out of range\n"
          ]
        }
      ]
    },
    {
      "cell_type": "markdown",
      "source": [
        "## 5 Handling FileNotFoundError"
      ],
      "metadata": {
        "id": "VyP06iYGgEj5"
      }
    },
    {
      "cell_type": "code",
      "source": [
        "def exception_handling_examples():\n",
        "  try:\n",
        "    with open('non_existent_file.txt')as file:\n",
        "      content=file.read()\n",
        "  except FileNotFoundError as e:\n",
        "    print('caught a FileNotFoundError',e)\n",
        "exception_handling_examples()"
      ],
      "metadata": {
        "colab": {
          "base_uri": "https://localhost:8080/"
        },
        "id": "HeWJoByffthA",
        "outputId": "4b2348b7-848d-40b4-af9b-643ea21efec6"
      },
      "execution_count": null,
      "outputs": [
        {
          "output_type": "stream",
          "name": "stdout",
          "text": [
            "caught a FileNotFoundError [Errno 2] No such file or directory: 'non_existent_file.txt'\n"
          ]
        }
      ]
    },
    {
      "cell_type": "markdown",
      "source": [
        "## 6 Handling Multiple exception"
      ],
      "metadata": {
        "id": "32C66XWg36-E"
      }
    },
    {
      "cell_type": "code",
      "source": [
        "def exception_handling_examples():\n",
        "  try:\n",
        "    number=int(input('string'))\n",
        "    result=10/number\n",
        "    print(result)\n",
        "  except(ValueError,ZeroDivisionError)as e:\n",
        "    print('caught either a ValueError or ZeroDivisionError',e)\n",
        "exception_handling_examples()"
      ],
      "metadata": {
        "colab": {
          "base_uri": "https://localhost:8080/"
        },
        "id": "zWxKKrwhgCcf",
        "outputId": "5125f2b8-c17f-4cf7-8589-9ba664eacaaf"
      },
      "execution_count": null,
      "outputs": [
        {
          "output_type": "stream",
          "name": "stdout",
          "text": [
            "string3\n",
            "3.3333333333333335\n"
          ]
        }
      ]
    },
    {
      "cell_type": "markdown",
      "source": [
        "## 7 using else and finally"
      ],
      "metadata": {
        "id": "QZe01wPfhJUM"
      }
    },
    {
      "cell_type": "code",
      "source": [
        "def exception_handling_examples():\n",
        "  try:\n",
        "    print('attempting to open a file..')\n",
        "    with open('example.txt',\"w\")as f:\n",
        "      f.write('hello,world')\n",
        "  except FileNotFoundError:\n",
        "    print('file not found')\n",
        "  else:\n",
        "    print(\"file operation was successful\")\n",
        "  finally:\n",
        "    print(\"this block runs no matter what\")\n",
        "exception_handling_examples()"
      ],
      "metadata": {
        "colab": {
          "base_uri": "https://localhost:8080/"
        },
        "id": "npUGUZ4Sg5Op",
        "outputId": "6e5d4bd1-a699-411a-ec60-f593ec6c9c57"
      },
      "execution_count": null,
      "outputs": [
        {
          "output_type": "stream",
          "name": "stdout",
          "text": [
            "attempting to open a file..\n",
            "file operation was successful\n",
            "this block runs no matter what\n"
          ]
        }
      ]
    }
  ]
}