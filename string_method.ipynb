{
  "nbformat": 4,
  "nbformat_minor": 0,
  "metadata": {
    "colab": {
      "provenance": [],
      "authorship_tag": "ABX9TyPROQ5VJgye3b/3aZV0Cf/C",
      "include_colab_link": true
    },
    "kernelspec": {
      "name": "python3",
      "display_name": "Python 3"
    },
    "language_info": {
      "name": "python"
    }
  },
  "cells": [
    {
      "cell_type": "markdown",
      "metadata": {
        "id": "view-in-github",
        "colab_type": "text"
      },
      "source": [
        "<a href=\"https://colab.research.google.com/github/shivam2898-data/Python_notes/blob/main/string_method.ipynb\" target=\"_parent\"><img src=\"https://colab.research.google.com/assets/colab-badge.svg\" alt=\"Open In Colab\"/></a>"
      ]
    },
    {
      "cell_type": "code",
      "execution_count": null,
      "metadata": {
        "colab": {
          "base_uri": "https://localhost:8080/"
        },
        "id": "xUWtFPa2Wjqa",
        "outputId": "a7903df3-c50c-47cd-8896-130cee7906a0"
      },
      "outputs": [
        {
          "output_type": "stream",
          "name": "stdout",
          "text": [
            "s\n",
            "a\n"
          ]
        }
      ],
      "source": [
        "a=\"sam\"\n",
        "type(a)\n",
        "print(a[0])\n",
        "print(a[1])"
      ]
    },
    {
      "cell_type": "code",
      "source": [
        "#slicing\n",
        "a=\"python programing\"\n",
        "print(a[0:7])\n",
        "print(a[:5])\n",
        "print(a[ :7:2])\n",
        "print(a[0: :4])\n"
      ],
      "metadata": {
        "colab": {
          "base_uri": "https://localhost:8080/"
        },
        "id": "r8P2CedwX6aV",
        "outputId": "bddb445b-b751-4f8b-f5d0-6305a6863f50"
      },
      "execution_count": null,
      "outputs": [
        {
          "output_type": "stream",
          "name": "stdout",
          "text": [
            "python \n",
            "pytho\n",
            "pto \n",
            "porag\n"
          ]
        }
      ]
    },
    {
      "cell_type": "code",
      "source": [
        "#reverse slicing\n",
        "a=\"rahul kumar\"\n",
        "print(a[-1: :-1])"
      ],
      "metadata": {
        "colab": {
          "base_uri": "https://localhost:8080/"
        },
        "id": "2lfz8bdKY3nx",
        "outputId": "e36446a8-764a-4128-b36b-d25301e09093"
      },
      "execution_count": null,
      "outputs": [
        {
          "output_type": "stream",
          "name": "stdout",
          "text": [
            "ramuk luhar\n"
          ]
        }
      ]
    },
    {
      "cell_type": "code",
      "source": [
        "a=\"nitin\"\n",
        "b=a[-1: :-1]\n",
        "if(a==b):\n",
        "  print(\"palindrom  \")\n",
        "else:\n",
        "  print(\"other\")"
      ],
      "metadata": {
        "colab": {
          "base_uri": "https://localhost:8080/"
        },
        "id": "7fC4MOazZAJH",
        "outputId": "04872db7-d65c-44e1-f25e-6e2a498e7e85"
      },
      "execution_count": null,
      "outputs": [
        {
          "output_type": "stream",
          "name": "stdout",
          "text": [
            "palindrom  \n"
          ]
        }
      ]
    },
    {
      "cell_type": "code",
      "source": [
        "#checking and substring\n",
        "a=\"python programing\"\n",
        "print(\"python\"in a)\n",
        "print(\"java\"in a )"
      ],
      "metadata": {
        "colab": {
          "base_uri": "https://localhost:8080/"
        },
        "id": "FlCk8ekxZjAX",
        "outputId": "2ea552a7-21a0-4c0b-bc7b-509ae35e7ccb"
      },
      "execution_count": null,
      "outputs": [
        {
          "output_type": "stream",
          "name": "stdout",
          "text": [
            "True\n",
            "False\n"
          ]
        }
      ]
    },
    {
      "cell_type": "code",
      "source": [
        "#string method\n",
        "#1 lower and upper\n",
        "text=\"Hello\"\n",
        "print(text.lower())\n",
        "print(text.upper())"
      ],
      "metadata": {
        "colab": {
          "base_uri": "https://localhost:8080/"
        },
        "id": "ZAjLHY1SZ0Pc",
        "outputId": "356bbf44-7181-4df5-a515-db26c3675275"
      },
      "execution_count": null,
      "outputs": [
        {
          "output_type": "stream",
          "name": "stdout",
          "text": [
            "hello\n",
            "HELLO\n"
          ]
        }
      ]
    },
    {
      "cell_type": "code",
      "source": [
        "#2 strip\n",
        "text=\"  hello world  \"\n",
        "print(text.strip())\n",
        "print(text.rstrip())\n",
        "print(text.lstrip())"
      ],
      "metadata": {
        "colab": {
          "base_uri": "https://localhost:8080/"
        },
        "id": "DdusPSQqaRcY",
        "outputId": "b8008ff4-8608-414d-efc3-33e65d1adf7e"
      },
      "execution_count": null,
      "outputs": [
        {
          "output_type": "stream",
          "name": "stdout",
          "text": [
            "hello world\n",
            "  hello world\n",
            "hello world  \n"
          ]
        }
      ]
    },
    {
      "cell_type": "code",
      "source": [
        "#3 replace\n",
        "text=\"i love python\"\n",
        "print(text.replace(\"python\",\"java\"))"
      ],
      "metadata": {
        "colab": {
          "base_uri": "https://localhost:8080/"
        },
        "id": "3rOZJY-6ftSj",
        "outputId": "7b061c3a-a15b-4330-ada7-4b1ac2c47dcb"
      },
      "execution_count": null,
      "outputs": [
        {
          "output_type": "stream",
          "name": "stdout",
          "text": [
            "i love java\n"
          ]
        }
      ]
    },
    {
      "cell_type": "code",
      "source": [
        "#4 split\n",
        "text=\"python,java,mern \"\n",
        "print(text.split(\",\"))"
      ],
      "metadata": {
        "colab": {
          "base_uri": "https://localhost:8080/"
        },
        "id": "DBfL2R61f6rH",
        "outputId": "389a2f2a-0224-4b2c-e127-7f5964b33664"
      },
      "execution_count": null,
      "outputs": [
        {
          "output_type": "stream",
          "name": "stdout",
          "text": [
            "['python', 'java', 'mern ']\n"
          ]
        }
      ]
    },
    {
      "cell_type": "code",
      "source": [
        "#5 join\n",
        "text=\"python\",\"java\",\"mern\"\n",
        "print(\",\".join(text))"
      ],
      "metadata": {
        "colab": {
          "base_uri": "https://localhost:8080/"
        },
        "id": "x7if00Jhgnud",
        "outputId": "05aa6406-3879-430c-d4b4-d590e62a93f1"
      },
      "execution_count": null,
      "outputs": [
        {
          "output_type": "stream",
          "name": "stdout",
          "text": [
            "python,java,mern\n"
          ]
        }
      ]
    },
    {
      "cell_type": "code",
      "source": [
        "#6 isalnum\n",
        "text=\"sam123\"\n",
        "print(text.isalnum())"
      ],
      "metadata": {
        "colab": {
          "base_uri": "https://localhost:8080/"
        },
        "id": "ev9zyYGshnGf",
        "outputId": "7874069e-c48f-4626-8f0a-86e520c08437"
      },
      "execution_count": null,
      "outputs": [
        {
          "output_type": "stream",
          "name": "stdout",
          "text": [
            "True\n"
          ]
        }
      ]
    },
    {
      "cell_type": "code",
      "source": [
        "#7 isalpha\n",
        "text=\"sam\"\n",
        "print(text.isalpha())"
      ],
      "metadata": {
        "colab": {
          "base_uri": "https://localhost:8080/"
        },
        "id": "18ychbTYh2OG",
        "outputId": "08fa6359-f37c-426b-edf8-dfb44ec0b3c1"
      },
      "execution_count": null,
      "outputs": [
        {
          "output_type": "stream",
          "name": "stdout",
          "text": [
            "True\n"
          ]
        }
      ]
    },
    {
      "cell_type": "code",
      "source": [
        "#8 isdigit\n",
        "text=\"123\"\n",
        "print(text.isdigit())"
      ],
      "metadata": {
        "colab": {
          "base_uri": "https://localhost:8080/"
        },
        "id": "gScfDf98iNug",
        "outputId": "a4c46c62-62ec-4db0-9cba-4cf09f65a0f1"
      },
      "execution_count": null,
      "outputs": [
        {
          "output_type": "stream",
          "name": "stdout",
          "text": [
            "True\n"
          ]
        }
      ]
    },
    {
      "cell_type": "code",
      "source": [
        "#concatenation and replication\n",
        "text1=\"hello\"\n",
        "text2=\"world\"\n",
        "concatenation=text1+\" \"+text2\n",
        "print(concatenation)\n",
        "repeated=text1*5\n",
        "print(repeated)"
      ],
      "metadata": {
        "colab": {
          "base_uri": "https://localhost:8080/"
        },
        "id": "PRrCyzjgieR8",
        "outputId": "78558c3e-d747-44f0-de03-b55ed9faedcd"
      },
      "execution_count": null,
      "outputs": [
        {
          "output_type": "stream",
          "name": "stdout",
          "text": [
            "hello world\n",
            "hellohellohellohellohello\n"
          ]
        }
      ]
    },
    {
      "cell_type": "code",
      "source": [
        "for x in \"banana\":\n",
        "  print(x)"
      ],
      "metadata": {
        "colab": {
          "base_uri": "https://localhost:8080/"
        },
        "id": "_Q7FJJNalMTX",
        "outputId": "cf820252-43bb-4c5b-91cb-9d9127673dd1"
      },
      "execution_count": null,
      "outputs": [
        {
          "output_type": "stream",
          "name": "stdout",
          "text": [
            "b\n",
            "a\n",
            "n\n",
            "a\n",
            "n\n",
            "a\n"
          ]
        }
      ]
    },
    {
      "cell_type": "code",
      "source": [
        "#9 length\n",
        "a = \"Hello, World!\"\n",
        "print(len(a))\n"
      ],
      "metadata": {
        "colab": {
          "base_uri": "https://localhost:8080/"
        },
        "id": "HwzIMAX2lVKh",
        "outputId": "67b350c2-b067-463e-c4d8-ea4e2e79a93a"
      },
      "execution_count": null,
      "outputs": [
        {
          "output_type": "stream",
          "name": "stdout",
          "text": [
            "13\n"
          ]
        }
      ]
    },
    {
      "cell_type": "code",
      "source": [
        "# count\n",
        "text=\"my name is shivam agarwal. currently i am working as a data engineer intern at regex software services\"\n",
        "print(text.count(\"a\"))"
      ],
      "metadata": {
        "colab": {
          "base_uri": "https://localhost:8080/"
        },
        "id": "oCTZSYvKQc_-",
        "outputId": "eb9786a2-4e9d-4ab4-cfeb-a5ff2b2ff212"
      },
      "execution_count": null,
      "outputs": [
        {
          "output_type": "stream",
          "name": "stdout",
          "text": [
            "12\n"
          ]
        }
      ]
    },
    {
      "cell_type": "code",
      "source": [
        "char=\"google.com\"\n",
        "print(\"G is:\",char.count(\"g\"))\n",
        "print(\"o is:\",char.count(\"o\"))\n",
        "print(\"l is:\",char.count(\"l\"))\n",
        "print(\"c is:\",char.count(\"c\"))\n",
        "print(\"e is:\",char.count(\"e\"))\n",
        "print(\"m is:\",char.count(\"m\"))\n"
      ],
      "metadata": {
        "colab": {
          "base_uri": "https://localhost:8080/"
        },
        "id": "57j0k6iwRUCq",
        "outputId": "68efd1d9-54fb-41e9-9c50-e429a678a73d"
      },
      "execution_count": null,
      "outputs": [
        {
          "output_type": "stream",
          "name": "stdout",
          "text": [
            "G is: 2\n",
            "o is: 3\n",
            "l is: 1\n",
            "c is: 1\n",
            "e is: 1\n",
            "m is: 1\n"
          ]
        }
      ]
    },
    {
      "cell_type": "code",
      "source": [
        "#string=\"w3resource\"\n",
        "string2=\"w3\"\n",
        "string3=' w'\n",
        "a=len(string2)\n",
        "if(a>=2):\n",
        "  print(string2[0:2]+string2[-2:])\n",
        "else:\n",
        "  print(\"empty\")\n",
        "\n"
      ],
      "metadata": {
        "colab": {
          "base_uri": "https://localhost:8080/"
        },
        "id": "KufM8MZZSe2r",
        "outputId": "01bea064-5e3e-437e-da8e-2c68b93b70ba"
      },
      "execution_count": null,
      "outputs": [
        {
          "output_type": "stream",
          "name": "stdout",
          "text": [
            "w3w3\n"
          ]
        }
      ]
    },
    {
      "cell_type": "code",
      "source": [
        "string1=\"abc\"\n",
        "string2=\"xyz\"\n",
        "print(string1 , string2)\n",
        "c=string2[0:2]+string1[2:]\n",
        "d=string1[0:2]+string2[2:]\n",
        "print(c , d)\n"
      ],
      "metadata": {
        "colab": {
          "base_uri": "https://localhost:8080/"
        },
        "id": "zoYNXQCbU_Q9",
        "outputId": "9bb40f7a-478c-4675-cef2-0dd05a2f9a61"
      },
      "execution_count": null,
      "outputs": [
        {
          "output_type": "stream",
          "name": "stdout",
          "text": [
            "abc xyz\n",
            "xyc abz\n"
          ]
        }
      ]
    },
    {
      "cell_type": "code",
      "source": [
        "#string=\"string\"\n",
        "string=\"abc\"\n",
        "l=len(string)\n",
        "if(l>=3):\n",
        "  if(string[-3:]==\"ing\"):\n",
        "    string1=string+\"ly\"\n",
        "    print(string1)\n",
        "  else:\n",
        "    string2=string+\"ing\"\n",
        "    print(string2)\n",
        "else:\n",
        "  print(\"not changed\")"
      ],
      "metadata": {
        "colab": {
          "base_uri": "https://localhost:8080/"
        },
        "id": "6879kG9NZZVi",
        "outputId": "14ece3b2-49e3-4015-9213-2a6ef71667f2"
      },
      "execution_count": null,
      "outputs": [
        {
          "output_type": "stream",
          "name": "stdout",
          "text": [
            "abcing\n"
          ]
        }
      ]
    },
    {
      "cell_type": "code",
      "source": [],
      "metadata": {
        "id": "o5euZL9tcUMN",
        "colab": {
          "base_uri": "https://localhost:8080/"
        },
        "outputId": "0985b8b0-c2f9-4eab-cdde-3ed3c1fd1ce2"
      },
      "execution_count": null,
      "outputs": [
        {
          "output_type": "execute_result",
          "data": {
            "text/plain": [
              "3"
            ]
          },
          "metadata": {},
          "execution_count": 2
        }
      ]
    },
    {
      "cell_type": "code",
      "source": [
        "\n",
        "\n"
      ],
      "metadata": {
        "id": "D3E4LdU5ikEI"
      },
      "execution_count": null,
      "outputs": []
    },
    {
      "cell_type": "code",
      "source": [],
      "metadata": {
        "colab": {
          "base_uri": "https://localhost:8080/"
        },
        "id": "Ue1bm8K3jeD3",
        "outputId": "635f0147-e3a8-4b25-c47f-30e147e0d5d8"
      },
      "execution_count": null,
      "outputs": [
        {
          "output_type": "stream",
          "name": "stdout",
          "text": [
            "enter a number : 3\n",
            "enter item: sam\n",
            "enter item: raj\n",
            "enter item: rahul\n",
            "['sam', 'raj', 'rahul']\n"
          ]
        }
      ]
    },
    {
      "cell_type": "code",
      "source": [
        "#"
      ],
      "metadata": {
        "colab": {
          "base_uri": "https://localhost:8080/"
        },
        "id": "JKLDqMMSkBbt",
        "outputId": "ac60d225-68e7-43b7-e099-634abc5ea1a7"
      },
      "execution_count": null,
      "outputs": [
        {
          "output_type": "stream",
          "name": "stdout",
          "text": [
            "enter your number :3\n",
            "enter your number :1\n",
            "enter your number :2\n",
            "enter your number :3\n",
            "[1, 2, 3]\n",
            "toral :  6\n"
          ]
        }
      ]
    },
    {
      "cell_type": "code",
      "source": [
        "\n"
      ],
      "metadata": {
        "colab": {
          "base_uri": "https://localhost:8080/"
        },
        "id": "RetFl_1DlseH",
        "outputId": "12607165-60b2-44d0-90e6-8c5e0c90e932"
      },
      "execution_count": null,
      "outputs": [
        {
          "output_type": "stream",
          "name": "stdout",
          "text": [
            "enter your number :3\n",
            "enter your item :sam\n",
            "enter your item :sam\n",
            "enter your item :mohit\n",
            "['sam', 'sam', 'mohit']\n",
            "enter your counting item: same\n",
            "0\n"
          ]
        }
      ]
    },
    {
      "cell_type": "code",
      "source": [
        "a=[\"1\",\"2\",\"3\"]\n",
        "print(\",\".join(a))\n",
        "\n",
        "\n"
      ],
      "metadata": {
        "id": "UcM4PI9vlr14",
        "colab": {
          "base_uri": "https://localhost:8080/"
        },
        "outputId": "eda9cf19-6c1a-44d0-df51-4456316f293c"
      },
      "execution_count": null,
      "outputs": [
        {
          "output_type": "stream",
          "name": "stdout",
          "text": [
            "1,2,3\n"
          ]
        }
      ]
    },
    {
      "cell_type": "code",
      "source": [
        "str=\"1\",\"2\",\"3\",\"5\",\"6\"\n",
        "print(str.remove(\"3\"))"
      ],
      "metadata": {
        "colab": {
          "base_uri": "https://localhost:8080/",
          "height": 158
        },
        "id": "Kp63VQUH1lUS",
        "outputId": "7aa0367a-d675-421b-b05b-e40e05e2138f"
      },
      "execution_count": null,
      "outputs": [
        {
          "output_type": "error",
          "ename": "AttributeError",
          "evalue": "'tuple' object has no attribute 'remove'",
          "traceback": [
            "\u001b[0;31m---------------------------------------------------------------------------\u001b[0m",
            "\u001b[0;31mAttributeError\u001b[0m                            Traceback (most recent call last)",
            "\u001b[0;32m<ipython-input-10-1ad4c47d7c43>\u001b[0m in \u001b[0;36m<cell line: 0>\u001b[0;34m()\u001b[0m\n\u001b[1;32m      1\u001b[0m \u001b[0mstr\u001b[0m\u001b[0;34m=\u001b[0m\u001b[0;34m\"1\"\u001b[0m\u001b[0;34m,\u001b[0m\u001b[0;34m\"2\"\u001b[0m\u001b[0;34m,\u001b[0m\u001b[0;34m\"3\"\u001b[0m\u001b[0;34m,\u001b[0m\u001b[0;34m\"5\"\u001b[0m\u001b[0;34m,\u001b[0m\u001b[0;34m\"6\"\u001b[0m\u001b[0;34m\u001b[0m\u001b[0;34m\u001b[0m\u001b[0m\n\u001b[0;32m----> 2\u001b[0;31m \u001b[0mprint\u001b[0m\u001b[0;34m(\u001b[0m\u001b[0mstr\u001b[0m\u001b[0;34m.\u001b[0m\u001b[0mremove\u001b[0m\u001b[0;34m(\u001b[0m\u001b[0;34m\"3\"\u001b[0m\u001b[0;34m)\u001b[0m\u001b[0;34m)\u001b[0m\u001b[0;34m\u001b[0m\u001b[0;34m\u001b[0m\u001b[0m\n\u001b[0m",
            "\u001b[0;31mAttributeError\u001b[0m: 'tuple' object has no attribute 'remove'"
          ]
        }
      ]
    }
  ]
}