{
  "cells": [
    {
      "cell_type": "markdown",
      "metadata": {
        "id": "view-in-github",
        "colab_type": "text"
      },
      "source": [
        "<a href=\"https://colab.research.google.com/github/shivam2898-data/Python_notes/blob/main/AAA(Arguments_in_functions).ipynb\" target=\"_parent\"><img src=\"https://colab.research.google.com/assets/colab-badge.svg\" alt=\"Open In Colab\"/></a>"
      ]
    },
    {
      "cell_type": "markdown",
      "id": "b4dff6b8",
      "metadata": {
        "id": "b4dff6b8"
      },
      "source": [
        "# 1. *args (Non-Keyword Arguments)\n",
        "`\n",
        "*args allows you to pass multiple positional arguments to a function.\n",
        "It collects them into a tuple."
      ]
    },
    {
      "cell_type": "code",
      "execution_count": null,
      "id": "87b1acaf",
      "metadata": {
        "id": "87b1acaf",
        "outputId": "bf6b38be-c265-414e-f77d-98a91ad2e39d"
      },
      "outputs": [
        {
          "name": "stdout",
          "output_type": "stream",
          "text": [
            "Sum: 30\n"
          ]
        }
      ],
      "source": [
        "def add_numbers(*args):\n",
        "    total = sum(args)\n",
        "    print(f\"Sum: {total}\")\n",
        "\n",
        "add_numbers(5, 10, 15)\n"
      ]
    },
    {
      "cell_type": "markdown",
      "id": "87377a62",
      "metadata": {
        "id": "87377a62"
      },
      "source": [
        "# 2. **kwargs (Keyword Arguments)\n",
        "\n",
        "**kwargs allows you to pass multiple keyword arguments (name-value pairs).\n",
        "It collects them into a dictionary."
      ]
    },
    {
      "cell_type": "code",
      "execution_count": null,
      "id": "8d3a2a5b",
      "metadata": {
        "id": "8d3a2a5b",
        "outputId": "236fd607-2b1d-4a5d-d215-98996b2becd2"
      },
      "outputs": [
        {
          "name": "stdout",
          "output_type": "stream",
          "text": [
            "name: Saurabh\n",
            "age: 25\n",
            "city: Mumbai\n"
          ]
        }
      ],
      "source": [
        "def print_details(**kwargs):\n",
        "    for key, value in kwargs.items():\n",
        "        print(f\"{key}: {value}\")\n",
        "\n",
        "print_details(name=\"Saurabh\", age=25, city=\"Mumbai\")\n"
      ]
    },
    {
      "cell_type": "markdown",
      "id": "b2ee6c53",
      "metadata": {
        "id": "b2ee6c53"
      },
      "source": [
        "# 3. Using *args and **kwargs Together\n",
        "\n",
        "You can use both in the same function, but *args must come before **kwargs."
      ]
    },
    {
      "cell_type": "code",
      "execution_count": null,
      "id": "2fcbd7dc",
      "metadata": {
        "id": "2fcbd7dc",
        "outputId": "a78e4907-f989-4eea-b126-1d53f7db7c0b"
      },
      "outputs": [
        {
          "name": "stdout",
          "output_type": "stream",
          "text": [
            "Positional arguments: (1, 2, 3)\n",
            "Keyword arguments: {'name': 'Saurabh', 'age': 25}\n"
          ]
        }
      ],
      "source": [
        "def display_info(*args, **kwargs):\n",
        "    print(\"Positional arguments:\", args)\n",
        "    print(\"Keyword arguments:\", kwargs)\n",
        "\n",
        "display_info(1, 2, 3, name=\"Saurabh\", age=25)\n"
      ]
    },
    {
      "cell_type": "markdown",
      "id": "1b421cbf",
      "metadata": {
        "id": "1b421cbf"
      },
      "source": [
        "# 4. Required Arguments (Mandatory Inputs)\n",
        "These are arguments that must be passed to a function; otherwise, Python throws an error.\n",
        "There is no default value for these arguments."
      ]
    },
    {
      "cell_type": "code",
      "execution_count": null,
      "id": "43f10b7e",
      "metadata": {
        "id": "43f10b7e",
        "outputId": "1941de28-a781-4b9b-b70f-0cab7edb5e8e"
      },
      "outputs": [
        {
          "name": "stdout",
          "output_type": "stream",
          "text": [
            "Hello, Saurabh!\n"
          ]
        }
      ],
      "source": [
        "def greet(name):\n",
        "    print(f\"Hello, {name}!\")\n",
        "\n",
        "greet(\"Saurabh\")\n",
        "# greet()\n"
      ]
    },
    {
      "cell_type": "markdown",
      "id": "9ebfc365",
      "metadata": {
        "id": "9ebfc365"
      },
      "source": [
        "# 5. Default Arguments (Optional Inputs)\n",
        "These arguments have a default value assigned.\n",
        "If no value is provided, Python uses the default."
      ]
    },
    {
      "cell_type": "code",
      "execution_count": null,
      "id": "09f51fc8",
      "metadata": {
        "id": "09f51fc8",
        "outputId": "6d082c83-5d2b-4773-b39d-30e5b91d82e8"
      },
      "outputs": [
        {
          "name": "stdout",
          "output_type": "stream",
          "text": [
            "Hello, Saurabh!\n",
            "Hello, Guest!\n"
          ]
        }
      ],
      "source": [
        "def greet(name=\"Guest\"):\n",
        "    print(f\"Hello, {name}!\")\n",
        "\n",
        "greet(\"Saurabh\")\n",
        "greet()"
      ]
    },
    {
      "cell_type": "markdown",
      "id": "33e3689c",
      "metadata": {
        "id": "33e3689c"
      },
      "source": [
        "# 3. return Keyword (Output of a Function)\n",
        "The return statement sends a value back from a function.\n",
        "If return is not used, the function returns None."
      ]
    },
    {
      "cell_type": "code",
      "execution_count": null,
      "id": "f30a6455",
      "metadata": {
        "id": "f30a6455",
        "outputId": "afbfd816-c6db-4ebb-b926-1eb8cf8313ee"
      },
      "outputs": [
        {
          "name": "stdout",
          "output_type": "stream",
          "text": [
            "8\n"
          ]
        }
      ],
      "source": [
        "def add(a, b):\n",
        "    return a + b\n",
        "\n",
        "result = add(5, 3)\n",
        "print(result)\n"
      ]
    },
    {
      "cell_type": "markdown",
      "id": "21fd74b1",
      "metadata": {
        "id": "21fd74b1"
      },
      "source": [
        "# Questions"
      ]
    },
    {
      "cell_type": "markdown",
      "id": "7343aeec",
      "metadata": {
        "id": "7343aeec"
      },
      "source": [
        "# 1. Find the Maximum Number Using *args\n",
        "\n",
        "🔹 Question: Write a function that takes multiple numbers as arguments using *args and returns the maximum number."
      ]
    },
    {
      "cell_type": "code",
      "execution_count": null,
      "id": "f0a2490a",
      "metadata": {
        "id": "f0a2490a",
        "outputId": "09f1aa52-fc66-4588-deab-f155642cf99e"
      },
      "outputs": [
        {
          "name": "stdout",
          "output_type": "stream",
          "text": [
            "100\n",
            "0\n"
          ]
        }
      ],
      "source": [
        "def find_max(*args):\n",
        "    return max(args)\n",
        "\n",
        "print(find_max(10, 5, 25, 8, 100))\n",
        "print(find_max(-1, -10, -5, 0))"
      ]
    },
    {
      "cell_type": "markdown",
      "id": "3a61880e",
      "metadata": {
        "id": "3a61880e"
      },
      "source": [
        "# 2. Calculate the Product of Numbers Using *args\n",
        "🔹 Question: Write a function that takes multiple numbers using *args and returns their product."
      ]
    },
    {
      "cell_type": "code",
      "execution_count": null,
      "id": "5cada589",
      "metadata": {
        "id": "5cada589",
        "outputId": "d1cb3ede-539d-479d-e341-14ae3206a45c"
      },
      "outputs": [
        {
          "name": "stdout",
          "output_type": "stream",
          "text": [
            "24\n",
            "25\n"
          ]
        }
      ],
      "source": [
        "def product(*args):\n",
        "    result = 1\n",
        "    for num in args:\n",
        "        result *= num\n",
        "    return result\n",
        "\n",
        "print(product(2, 3, 4))\n",
        "print(product(5, 5))\n"
      ]
    },
    {
      "cell_type": "markdown",
      "id": "832ceca3",
      "metadata": {
        "id": "832ceca3"
      },
      "source": [
        "# 3. Generate a Full Name Using **kwargs\n",
        "🔹 Question: Write a function that takes a first name and last name as keyword arguments and returns the full name."
      ]
    },
    {
      "cell_type": "code",
      "execution_count": null,
      "id": "b57b74a6",
      "metadata": {
        "id": "b57b74a6",
        "outputId": "82bdf566-5217-49fe-fa22-a63675ff39a8"
      },
      "outputs": [
        {
          "name": "stdout",
          "output_type": "stream",
          "text": [
            "Saurabh Sharma\n",
            "Rahul Mehta\n"
          ]
        }
      ],
      "source": [
        "def full_name(**kwargs):\n",
        "    return f\"{kwargs.get('first_name', 'Unknown')} {kwargs.get('last_name', 'Mehta')}\"\n",
        "\n",
        "print(full_name(first_name=\"Saurabh\", last_name=\"Sharma\"))\n",
        "print(full_name(first_name=\"Rahul\"))"
      ]
    },
    {
      "cell_type": "markdown",
      "id": "fb9231d3",
      "metadata": {
        "id": "fb9231d3"
      },
      "source": [
        "# 4. Count Vowels in a Given String Using return\n",
        "🔹 Question: Write a function that counts the number of vowels in a string and returns the count."
      ]
    },
    {
      "cell_type": "code",
      "execution_count": null,
      "id": "c46e2eee",
      "metadata": {
        "id": "c46e2eee",
        "outputId": "d52509f6-6a6d-4f73-a3af-afc5f697ed97"
      },
      "outputs": [
        {
          "name": "stdout",
          "output_type": "stream",
          "text": [
            "3\n",
            "1\n"
          ]
        }
      ],
      "source": [
        "def count_vowels(string):\n",
        "    vowels = \"aeiouAEIOU\"\n",
        "    return sum(1 for char in string if char in vowels)\n",
        "\n",
        "print(count_vowels(\"Hello World\"))\n",
        "print(count_vowels(\"Python\"))"
      ]
    },
    {
      "cell_type": "markdown",
      "id": "9c9bdc85",
      "metadata": {
        "id": "9c9bdc85"
      },
      "source": [
        "# 5. Create a Shopping Cart Using *args and **kwargs\n",
        "🔹 Question: Write a function where *args represents the items bought, and **kwargs contains prices. Return the total bill."
      ]
    },
    {
      "cell_type": "code",
      "execution_count": null,
      "id": "409a30e0",
      "metadata": {
        "id": "409a30e0",
        "outputId": "8cd7fc56-7599-4856-f25b-588bfefcac2b"
      },
      "outputs": [
        {
          "name": "stdout",
          "output_type": "stream",
          "text": [
            "100\n",
            "70\n"
          ]
        }
      ],
      "source": [
        "def shopping_cart(*items, **prices):\n",
        "    total = sum(prices[item] for item in items if item in prices)\n",
        "    return total\n",
        "\n",
        "print(shopping_cart(\"apple\", \"banana\",\"mango\", apple=50, banana=20, mango=30))\n",
        "print(shopping_cart(\"mango\", \"grapes\", mango=30, grapes=40))\n"
      ]
    },
    {
      "cell_type": "markdown",
      "id": "0e957e90",
      "metadata": {
        "id": "0e957e90"
      },
      "source": [
        "# 6. Function with Required and Default Arguments\n",
        "🔹 Question: Write a function that requires a name and has an optional age argument (default is 18). It should return a greeting."
      ]
    },
    {
      "cell_type": "code",
      "execution_count": null,
      "id": "916c0bd0",
      "metadata": {
        "id": "916c0bd0",
        "outputId": "6624bfc9-8230-4222-ade2-57d879b7e951"
      },
      "outputs": [
        {
          "name": "stdout",
          "output_type": "stream",
          "text": [
            "Hello Saurabh, you are 18 years old.\n",
            "Hello Rahul, you are 25 years old.\n"
          ]
        }
      ],
      "source": [
        "def greet(name, age=18):\n",
        "    return f\"Hello {name}, you are {age} years old.\"\n",
        "\n",
        "print(greet(\"Saurabh\"))\n",
        "print(greet(\"Rahul\", 25))\n"
      ]
    },
    {
      "cell_type": "markdown",
      "id": "e5a9e952",
      "metadata": {
        "id": "e5a9e952"
      },
      "source": [
        "# 7. Calculate Discounted Price Using **kwargs\n",
        "🔹 Question: Write a function that takes a price and a discount percentage as keyword arguments and returns the discounted price."
      ]
    },
    {
      "cell_type": "code",
      "execution_count": null,
      "id": "dfb77f32",
      "metadata": {
        "id": "dfb77f32",
        "outputId": "eca033af-3088-460c-ecdb-8ecee7611379"
      },
      "outputs": [
        {
          "name": "stdout",
          "output_type": "stream",
          "text": [
            "900.0\n",
            "400.0\n"
          ]
        }
      ],
      "source": [
        "def discount_price(**kwargs):\n",
        "    price = kwargs.get(\"price\", 0)\n",
        "    discount = kwargs.get(\"discount\", 0)\n",
        "    return price - (price * discount / 100)\n",
        "\n",
        "print(discount_price(price=1000, discount=10))\n",
        "print(discount_price(price=500, discount=20))"
      ]
    },
    {
      "cell_type": "markdown",
      "id": "950597d4",
      "metadata": {
        "id": "950597d4"
      },
      "source": [
        "# 8. Merge Two Lists Using *args\n",
        "🔹 Question: Write a function that accepts two lists as *args and merges them."
      ]
    },
    {
      "cell_type": "code",
      "execution_count": null,
      "id": "d00f82e6",
      "metadata": {
        "id": "d00f82e6",
        "outputId": "dafcd3ee-c36c-42e3-96c9-07584691a4a7"
      },
      "outputs": [
        {
          "name": "stdout",
          "output_type": "stream",
          "text": [
            "[1, 2, 3, 4, 5, 6]\n",
            "['a', 'b', 'c', 'd', 'e']\n"
          ]
        }
      ],
      "source": [
        "def merge_lists(*args):\n",
        "    return [item for lst in args for item in lst]\n",
        "\n",
        "print(merge_lists([1, 2, 3], [4, 5, 6]))\n",
        "print(merge_lists([\"a\", \"b\"], [\"c\", \"d\"], [\"e\"]))"
      ]
    },
    {
      "cell_type": "code",
      "execution_count": null,
      "id": "2d67b9f1",
      "metadata": {
        "id": "2d67b9f1",
        "outputId": "3e71d602-e0fb-4587-cc70-daf3dbceac0d"
      },
      "outputs": [
        {
          "data": {
            "text/plain": [
              "(1, 2, 3, 4, 5, 6)"
            ]
          },
          "execution_count": 11,
          "metadata": {},
          "output_type": "execute_result"
        }
      ],
      "source": [
        "(1,2,3) + (4,5,6)"
      ]
    },
    {
      "cell_type": "markdown",
      "id": "e7a33ec9",
      "metadata": {
        "id": "e7a33ec9"
      },
      "source": [
        "# 9. Extract Even and Odd Numbers Using return\n",
        "🔹 Question: Write a function that takes a list of numbers and returns two lists: one with even numbers and one with odd numbers."
      ]
    },
    {
      "cell_type": "code",
      "execution_count": null,
      "id": "b4b96f38",
      "metadata": {
        "id": "b4b96f38",
        "outputId": "6f3b8d39-a911-4552-e9f7-1f1fdc7d695a"
      },
      "outputs": [
        {
          "name": "stdout",
          "output_type": "stream",
          "text": [
            "Evens: [2, 4, 6]\n",
            "Odds: [1, 3, 5]\n"
          ]
        }
      ],
      "source": [
        "def separate_even_odd(numbers):\n",
        "    even = [num for num in numbers if num % 2 == 0]\n",
        "    odd = [num for num in numbers if num % 2 != 0]\n",
        "    return even, odd\n",
        "\n",
        "evens, odds = separate_even_odd([1, 2, 3, 4, 5, 6])\n",
        "print(\"Evens:\", evens)\n",
        "print(\"Odds:\", odds)\n"
      ]
    },
    {
      "cell_type": "code",
      "execution_count": null,
      "id": "e00c8e01",
      "metadata": {
        "id": "e00c8e01",
        "outputId": "43e7711e-9e29-4db4-9694-3b9f251e7ce7"
      },
      "outputs": [
        {
          "name": "stdout",
          "output_type": "stream",
          "text": [
            "[2, 4]\n",
            "[1, 3, 5]\n"
          ]
        }
      ],
      "source": [
        "a = [1,2,3,4,5]\n",
        "b = []\n",
        "c = []\n",
        "for i in range(len(a)):\n",
        "    if(a[i]%2==0):\n",
        "        b.append(a[i])\n",
        "    else:\n",
        "        c.append(a[i])\n",
        "print(b)\n",
        "print(c)"
      ]
    },
    {
      "cell_type": "code",
      "execution_count": null,
      "id": "bec6211f",
      "metadata": {
        "id": "bec6211f"
      },
      "outputs": [],
      "source": []
    }
  ],
  "metadata": {
    "kernelspec": {
      "display_name": "Python 3 (ipykernel)",
      "language": "python",
      "name": "python3"
    },
    "language_info": {
      "codemirror_mode": {
        "name": "ipython",
        "version": 3
      },
      "file_extension": ".py",
      "mimetype": "text/x-python",
      "name": "python",
      "nbconvert_exporter": "python",
      "pygments_lexer": "ipython3",
      "version": "3.9.12"
    },
    "colab": {
      "provenance": [],
      "include_colab_link": true
    }
  },
  "nbformat": 4,
  "nbformat_minor": 5
}