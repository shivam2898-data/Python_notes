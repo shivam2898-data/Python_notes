{
  "nbformat": 4,
  "nbformat_minor": 0,
  "metadata": {
    "colab": {
      "provenance": [],
      "authorship_tag": "ABX9TyMfr15S+9h5RCHmYH/JLwoY",
      "include_colab_link": true
    },
    "kernelspec": {
      "name": "python3",
      "display_name": "Python 3"
    },
    "language_info": {
      "name": "python"
    }
  },
  "cells": [
    {
      "cell_type": "markdown",
      "metadata": {
        "id": "view-in-github",
        "colab_type": "text"
      },
      "source": [
        "<a href=\"https://colab.research.google.com/github/shivam2898-data/Python_notes/blob/main/file_handling.ipynb\" target=\"_parent\"><img src=\"https://colab.research.google.com/assets/colab-badge.svg\" alt=\"Open In Colab\"/></a>"
      ]
    },
    {
      "cell_type": "code",
      "execution_count": null,
      "metadata": {
        "id": "RZUFhyQ6A5hd"
      },
      "outputs": [],
      "source": [
        "#1 method\n",
        "# file=open('ab.txt','r')\n",
        "# for each in file:\n",
        "#   print(each)\n",
        "\n",
        "\n",
        "#2 method\n",
        "# file=open('ab.txt','r')\n",
        "# print(file.read())\n",
        "\n",
        "# #3 method\n",
        "# with open(\"ab.txt\")as files:\n",
        "#   data=files.read()\n",
        "# print(data)\n",
        "\n",
        "\n",
        "#4 method\n",
        "# file=open('ab.txt','r')\n",
        "# print(file.read(6))\n",
        "\n",
        "\n",
        "#5 method\n",
        "# with open('ab.txt','r')as files:\n",
        "#   data =files.readlines()\n",
        "#   print(data)\n",
        "#   for line in data:\n",
        "#     word=line.split()\n",
        "#     print(word)\n",
        "\n",
        "#6 method (write)\n",
        "# file=open('dell.txt','w')\n",
        "# file.write('this is the write command ')\n",
        "# file.write('hello world')\n",
        "# file.close()\n",
        "\n",
        "#7 method\n",
        "# with open('dell.txt','w')as f:\n",
        "#           f.write('this is the write command ')\n",
        "#           f.write(\"hello world\")\n",
        "\n",
        "\n",
        "#8 method (add some content)\n",
        "# file=open('dell.txt','a')\n",
        "# file.write(\"this will add the line\")\n",
        "# file.close()\n",
        "\n",
        "\n",
        "#9 method\n",
        "# with open('example_rplus.txt','w') as file:\n",
        "#   file.write(\"line 1; hello world\\n line 2: welcome to file handling \\n line3: this is python\\n\")\n",
        "#   file.write(\"line 4: hello world\")\n",
        "# # #now ,read and write to the file in \"r+\" mode\n",
        "# with open ('example_rplus.txt','r+') as file:\n",
        "#   content=file.read()\n",
        "#   file.write(\"\\nline 5:maths\")\n",
        "#   print(\"read entire content:\")\n",
        "#   print(content)\n",
        "\n",
        "\n",
        "#10 method\n",
        "#try creating a new file using \"x\" mode\n",
        "\n",
        "\n",
        "# try:\n",
        "#   with open (\"example_x_txt\",\"x\")as file:\n",
        "#     file.write(\"this file is created using 'x'  mode and this is its content\")\n",
        "#     print(\"file created and written successfully\")\n",
        "# except FileExistsError:\n",
        "#   print(\"file already exists. cannot create using 'x' mode\")"
      ]
    }
  ]
}