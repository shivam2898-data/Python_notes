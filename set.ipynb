{
  "nbformat": 4,
  "nbformat_minor": 0,
  "metadata": {
    "colab": {
      "provenance": [],
      "authorship_tag": "ABX9TyNFL4GD0JvfAqwTlWrjT42p",
      "include_colab_link": true
    },
    "kernelspec": {
      "name": "python3",
      "display_name": "Python 3"
    },
    "language_info": {
      "name": "python"
    }
  },
  "cells": [
    {
      "cell_type": "markdown",
      "metadata": {
        "id": "view-in-github",
        "colab_type": "text"
      },
      "source": [
        "<a href=\"https://colab.research.google.com/github/shivam2898-data/Python_notes/blob/main/set.ipynb\" target=\"_parent\"><img src=\"https://colab.research.google.com/assets/colab-badge.svg\" alt=\"Open In Colab\"/></a>"
      ]
    },
    {
      "cell_type": "code",
      "source": [
        "#1 indentification-{item,item}"
      ],
      "metadata": {
        "id": "oRZfC-4kJ47x"
      },
      "execution_count": null,
      "outputs": []
    },
    {
      "cell_type": "code",
      "execution_count": null,
      "metadata": {
        "colab": {
          "base_uri": "https://localhost:8080/"
        },
        "id": "LBG-XRMyIEnr",
        "outputId": "d04c07fa-f10a-46cd-a6f4-4d41889e8a92"
      },
      "outputs": [
        {
          "output_type": "stream",
          "name": "stdout",
          "text": [
            "{'raj', 'sam', 'mohit'}\n"
          ]
        },
        {
          "output_type": "execute_result",
          "data": {
            "text/plain": [
              "set"
            ]
          },
          "metadata": {},
          "execution_count": 3
        }
      ],
      "source": [
        "#sats in python\n",
        "a={\"sam\",\"raj\",\"sam\",\"mohit\"}\n",
        "print(a)\n",
        "type(a)"
      ]
    },
    {
      "cell_type": "code",
      "source": [
        "a={\"sam\",\"raj\",\"sam\",\"mohit\"}\n",
        "a.add('pallavi')\n",
        "print(a)"
      ],
      "metadata": {
        "colab": {
          "base_uri": "https://localhost:8080/"
        },
        "id": "YIPreocFJivS",
        "outputId": "423e8023-3126-4eb1-e258-ebf78d53d359"
      },
      "execution_count": null,
      "outputs": [
        {
          "output_type": "stream",
          "name": "stdout",
          "text": [
            "{'pallavi', 'raj', 'sam', 'mohit'}\n"
          ]
        }
      ]
    },
    {
      "cell_type": "code",
      "source": [
        "a={\"sam\",\"raj\",\"sam\",\"mohit\"}\n",
        "a.remove('raj')\n",
        "print(a)"
      ],
      "metadata": {
        "colab": {
          "base_uri": "https://localhost:8080/"
        },
        "id": "b_zCjWl7Jtkn",
        "outputId": "31002152-16e9-48ea-8708-cc1f3d6fe697"
      },
      "execution_count": null,
      "outputs": [
        {
          "output_type": "stream",
          "name": "stdout",
          "text": [
            "{'sam', 'mohit'}\n"
          ]
        }
      ]
    },
    {
      "cell_type": "code",
      "source": [
        "#loop in set\n",
        "a={\"sam\",\"raj\",\"sam\",\"mohit\"}\n",
        "for i in a:\n",
        "  print(i)"
      ],
      "metadata": {
        "colab": {
          "base_uri": "https://localhost:8080/"
        },
        "id": "hVcLDgLpJ0uZ",
        "outputId": "59b9189c-5668-4358-9f7f-758d42bdab8c"
      },
      "execution_count": null,
      "outputs": [
        {
          "output_type": "stream",
          "name": "stdout",
          "text": [
            "raj\n",
            "sam\n",
            "mohit\n"
          ]
        }
      ]
    },
    {
      "cell_type": "code",
      "source": [
        "#function\n",
        "#union()--common value will remove\n",
        "a={1,2,3,4}\n",
        "b={3,4,5,6}\n",
        "a.union(b)\n",
        "a|b"
      ],
      "metadata": {
        "colab": {
          "base_uri": "https://localhost:8080/"
        },
        "id": "TgRfh6rwKM8O",
        "outputId": "a08ae3bd-c26d-4eed-a819-745a2352a6a0"
      },
      "execution_count": null,
      "outputs": [
        {
          "output_type": "execute_result",
          "data": {
            "text/plain": [
              "{1, 2, 3, 4, 5, 6}"
            ]
          },
          "metadata": {},
          "execution_count": 9
        }
      ]
    },
    {
      "cell_type": "code",
      "source": [
        "#intersection()--common value will print\n",
        "a={1,2,3,4}\n",
        "b={3,4,5,6}\n",
        "a.intersection(b)\n",
        "a&b\n"
      ],
      "metadata": {
        "colab": {
          "base_uri": "https://localhost:8080/"
        },
        "id": "SzdAwxBkKh3o",
        "outputId": "3f025c0a-f6f9-4de2-92aa-3d64d825c0f9"
      },
      "execution_count": null,
      "outputs": [
        {
          "output_type": "execute_result",
          "data": {
            "text/plain": [
              "{3, 4}"
            ]
          },
          "metadata": {},
          "execution_count": 10
        }
      ]
    },
    {
      "cell_type": "code",
      "source": [
        "a={1,2,3,4}\n",
        "b={3,4,5,6}#those element present in a not in b\n",
        "a-b\n",
        "b-a#those element present in b not in a"
      ],
      "metadata": {
        "colab": {
          "base_uri": "https://localhost:8080/"
        },
        "id": "zieDDh-tKtbP",
        "outputId": "a1e041e2-21d4-4c17-b234-074878895a48"
      },
      "execution_count": null,
      "outputs": [
        {
          "output_type": "execute_result",
          "data": {
            "text/plain": [
              "{5, 6}"
            ]
          },
          "metadata": {},
          "execution_count": 1
        }
      ]
    },
    {
      "cell_type": "code",
      "source": [
        "emp_name=[\"sam\",\"raj\",\"rohit\",\"rohan\"]\n",
        "mang_name=[\"sam\",\"ankit\",\"ravi\",\"rohit\"]\n",
        "em_2=set(emp_name)\n",
        "print(em_2)\n",
        "man_2=set(mang_name)\n",
        "print(man_2)\n",
        "em_2.intersection(man_2)\n"
      ],
      "metadata": {
        "colab": {
          "base_uri": "https://localhost:8080/"
        },
        "id": "m8KfLMkfK49g",
        "outputId": "268bc0ad-025e-4680-8547-98501b0673c8"
      },
      "execution_count": null,
      "outputs": [
        {
          "output_type": "stream",
          "name": "stdout",
          "text": [
            "{'raj', 'rohan', 'rohit', 'sam'}\n",
            "{'rohit', 'ankit', 'ravi', 'sam'}\n"
          ]
        },
        {
          "output_type": "execute_result",
          "data": {
            "text/plain": [
              "{'rohit', 'sam'}"
            ]
          },
          "metadata": {},
          "execution_count": 5
        }
      ]
    },
    {
      "cell_type": "code",
      "source": [
        "#1. Write a Python program to create a set.\n",
        "a={'ram','shaym','ravi'}\n",
        "print(a)"
      ],
      "metadata": {
        "colab": {
          "base_uri": "https://localhost:8080/"
        },
        "id": "z0J2uAVZSA9t",
        "outputId": "7ae1fabf-0328-454f-daeb-051ff8728c4c"
      },
      "execution_count": null,
      "outputs": [
        {
          "output_type": "stream",
          "name": "stdout",
          "text": [
            "{'ravi', 'ram', 'shaym'}\n"
          ]
        }
      ]
    },
    {
      "cell_type": "code",
      "source": [
        "#2. Write a Python program to add member(s) to a set.\n",
        "a={'ram','shaym','ravi'}\n",
        "a.add('tushar')\n",
        "print(a)\n"
      ],
      "metadata": {
        "colab": {
          "base_uri": "https://localhost:8080/"
        },
        "id": "H0W-rRI0SLI_",
        "outputId": "fd368523-3aa6-4c9b-99bd-c0a81b246514"
      },
      "execution_count": null,
      "outputs": [
        {
          "output_type": "stream",
          "name": "stdout",
          "text": [
            "{'tushar', 'ravi', 'ram', 'shaym'}\n"
          ]
        }
      ]
    },
    {
      "cell_type": "code",
      "source": [
        "#3. Write a Python program to remove item(s) from a given set.\n",
        "a={'ram','shaym','ravi'}\n",
        "a.remove('ravi')\n",
        "print(a)"
      ],
      "metadata": {
        "colab": {
          "base_uri": "https://localhost:8080/"
        },
        "id": "O0KqaxVpSeIQ",
        "outputId": "b253601e-3151-4da8-9af1-fab06f38f805"
      },
      "execution_count": null,
      "outputs": [
        {
          "output_type": "stream",
          "name": "stdout",
          "text": [
            "{'ram', 'shaym'}\n"
          ]
        }
      ]
    },
    {
      "cell_type": "code",
      "source": [
        "#4. Write a Python program to create an intersection of sets.\n",
        "a={'ram','shaym','ravi'}\n",
        "b={'ravi','udit','ram'}\n",
        "a.intersection(b)"
      ],
      "metadata": {
        "colab": {
          "base_uri": "https://localhost:8080/"
        },
        "id": "qFzK3RKRSsjB",
        "outputId": "e8d303d4-3933-47f9-a9cb-abec2c2eb2cb"
      },
      "execution_count": null,
      "outputs": [
        {
          "output_type": "execute_result",
          "data": {
            "text/plain": [
              "{'ram', 'ravi'}"
            ]
          },
          "metadata": {},
          "execution_count": 10
        }
      ]
    },
    {
      "cell_type": "code",
      "source": [
        "#5. Write a Python program to create a union of sets.\n",
        "a={'ram','shaym','ravi'}\n",
        "b={'ravi','udit','ram'}\n",
        "a.union(b)\n"
      ],
      "metadata": {
        "colab": {
          "base_uri": "https://localhost:8080/"
        },
        "id": "eBNPpHMyTK6X",
        "outputId": "e70def46-09b1-4534-9757-bf96381032e5"
      },
      "execution_count": null,
      "outputs": [
        {
          "output_type": "execute_result",
          "data": {
            "text/plain": [
              "{'ram', 'ravi', 'shaym', 'udit'}"
            ]
          },
          "metadata": {},
          "execution_count": 12
        }
      ]
    },
    {
      "cell_type": "code",
      "source": [
        "# 6 Write a Python program to remove all elements from a given set.\n",
        "a={'ram','shaym','ravi'}\n",
        "a.clear()\n",
        "print(a)"
      ],
      "metadata": {
        "colab": {
          "base_uri": "https://localhost:8080/"
        },
        "id": "BhSmqdKdTs0f",
        "outputId": "d1699f50-a2cf-4e82-e0e9-f92a9065de08"
      },
      "execution_count": null,
      "outputs": [
        {
          "output_type": "stream",
          "name": "stdout",
          "text": [
            "set()\n"
          ]
        }
      ]
    },
    {
      "cell_type": "code",
      "source": [
        "#7 Write a Python program to find the maximum and minimum values in a set.\n",
        "a={1,2,3,4,5}\n",
        "print(max(a))\n",
        "print(min(a))"
      ],
      "metadata": {
        "colab": {
          "base_uri": "https://localhost:8080/"
        },
        "id": "NCasYcaPT-He",
        "outputId": "4d7a904a-069d-4362-fb23-2551d9ad8865"
      },
      "execution_count": null,
      "outputs": [
        {
          "output_type": "stream",
          "name": "stdout",
          "text": [
            "5\n",
            "1\n"
          ]
        }
      ]
    },
    {
      "cell_type": "code",
      "source": [
        "#8 Write a Python program to find the length of a set.\n",
        "a={1,4,3,6,4,8,2,9}\n",
        "len(a)"
      ],
      "metadata": {
        "colab": {
          "base_uri": "https://localhost:8080/"
        },
        "id": "_sjS44IjUV8o",
        "outputId": "c538a0aa-8a7c-441e-cc64-7ee8e1caf447"
      },
      "execution_count": null,
      "outputs": [
        {
          "output_type": "execute_result",
          "data": {
            "text/plain": [
              "7"
            ]
          },
          "metadata": {},
          "execution_count": 17
        }
      ]
    },
    {
      "cell_type": "code",
      "source": [
        "#9 remove common element from sets.\n",
        "team_a=['rohit','virat','dhoni','rahul','jadeja']\n",
        "team_b=['rohit','ashwin','kuldeep','sky','rahul']\n",
        "a=set(team_a)\n",
        "print(a)\n",
        "b=set(team_b)\n",
        "print(b)\n",
        "a.intersection(b)"
      ],
      "metadata": {
        "colab": {
          "base_uri": "https://localhost:8080/"
        },
        "id": "LRV1IcpeUpFJ",
        "outputId": "cae80d9a-d2ef-451f-cebb-3ebf8b10914a"
      },
      "execution_count": null,
      "outputs": [
        {
          "output_type": "stream",
          "name": "stdout",
          "text": [
            "{'jadeja', 'virat', 'rohit', 'rahul', 'dhoni'}\n",
            "{'sky', 'kuldeep', 'rohit', 'rahul', 'ashwin'}\n"
          ]
        },
        {
          "output_type": "execute_result",
          "data": {
            "text/plain": [
              "{'rahul', 'rohit'}"
            ]
          },
          "metadata": {},
          "execution_count": 18
        }
      ]
    },
    {
      "cell_type": "code",
      "source": [
        "#10 loop in set\n",
        "a={1,2,3,4,6}\n",
        "for i in a:\n",
        "  print(i)"
      ],
      "metadata": {
        "colab": {
          "base_uri": "https://localhost:8080/"
        },
        "id": "FTuTlof2V-3T",
        "outputId": "36b671f1-3e6f-49c6-afc9-9b2e4cf7af79"
      },
      "execution_count": null,
      "outputs": [
        {
          "output_type": "stream",
          "name": "stdout",
          "text": [
            "1\n",
            "2\n",
            "3\n",
            "4\n",
            "6\n"
          ]
        }
      ]
    }
  ]
}