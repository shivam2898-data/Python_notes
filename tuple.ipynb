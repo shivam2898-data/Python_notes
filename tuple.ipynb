{
  "nbformat": 4,
  "nbformat_minor": 0,
  "metadata": {
    "colab": {
      "provenance": [],
      "authorship_tag": "ABX9TyPNe07mv+PQ1nRffHed+T6d",
      "include_colab_link": true
    },
    "kernelspec": {
      "name": "python3",
      "display_name": "Python 3"
    },
    "language_info": {
      "name": "python"
    }
  },
  "cells": [
    {
      "cell_type": "markdown",
      "metadata": {
        "id": "view-in-github",
        "colab_type": "text"
      },
      "source": [
        "<a href=\"https://colab.research.google.com/github/shivam2898-data/regex-10feb/blob/main/tuple.ipynb\" target=\"_parent\"><img src=\"https://colab.research.google.com/assets/colab-badge.svg\" alt=\"Open In Colab\"/></a>"
      ]
    },
    {
      "cell_type": "code",
      "execution_count": null,
      "metadata": {
        "colab": {
          "base_uri": "https://localhost:8080/"
        },
        "id": "FvbYvnqSmbbY",
        "outputId": "dc025210-3b64-4248-c82e-d229912376a2"
      },
      "outputs": [
        {
          "output_type": "execute_result",
          "data": {
            "text/plain": [
              "tuple"
            ]
          },
          "metadata": {},
          "execution_count": 1
        }
      ],
      "source": [
        "a=(\"sam\",\"raj\",25,67.56)\n",
        "type(a)"
      ]
    },
    {
      "cell_type": "code",
      "source": [
        "#indexing forwading\n",
        "a=(\"sam\",\"raj\",25,67.56)\n",
        "print(a[0])\n",
        "print(a[1][1])"
      ],
      "metadata": {
        "colab": {
          "base_uri": "https://localhost:8080/"
        },
        "id": "ikz5gZBumsqn",
        "outputId": "968fda02-3087-4cac-a4a0-7263a6c9d04f"
      },
      "execution_count": null,
      "outputs": [
        {
          "output_type": "stream",
          "name": "stdout",
          "text": [
            "sam\n",
            "a\n"
          ]
        }
      ]
    },
    {
      "cell_type": "code",
      "source": [
        "#loop in tuple\n",
        "a=(\"sam\",\"raj\",25,67.56)\n",
        "for i in a:\n",
        "  print(i)\n",
        "\n"
      ],
      "metadata": {
        "colab": {
          "base_uri": "https://localhost:8080/"
        },
        "id": "W8CpgIBkm4VI",
        "outputId": "082e291e-e139-4837-d850-71e3c76e75bd"
      },
      "execution_count": null,
      "outputs": [
        {
          "output_type": "stream",
          "name": "stdout",
          "text": [
            "sam\n",
            "raj\n",
            "25\n",
            "67.56\n"
          ]
        }
      ]
    },
    {
      "cell_type": "code",
      "source": [
        "a=(\"sam\",\"raj\",25,67.56)\n",
        "for i in range(len(a)):\n",
        "  print(a[i])"
      ],
      "metadata": {
        "colab": {
          "base_uri": "https://localhost:8080/"
        },
        "id": "8253y6OKnB_M",
        "outputId": "bfd3107b-12e6-4cc4-bb67-d4ea535e5b5f"
      },
      "execution_count": null,
      "outputs": [
        {
          "output_type": "stream",
          "name": "stdout",
          "text": [
            "sam\n",
            "raj\n",
            "25\n",
            "67.56\n"
          ]
        }
      ]
    },
    {
      "cell_type": "code",
      "source": [
        "#properties in tuple\n",
        "#1 cocatenation\n",
        "a=(\"sam\",\"raj\",25,67.56)\n",
        "b=(\"rahul\",\"shivam\")\n",
        "c=a+b\n",
        "print(c)"
      ],
      "metadata": {
        "colab": {
          "base_uri": "https://localhost:8080/"
        },
        "id": "mWPTemXqnLQj",
        "outputId": "9a1c9aef-339a-46dc-ea4b-d165c65899c3"
      },
      "execution_count": null,
      "outputs": [
        {
          "output_type": "stream",
          "name": "stdout",
          "text": [
            "('sam', 'raj', 25, 67.56, 'rahul', 'shivam')\n"
          ]
        }
      ]
    },
    {
      "cell_type": "code",
      "source": [
        "#2replication\n",
        "a=(1,2,3)\n",
        "a*3"
      ],
      "metadata": {
        "colab": {
          "base_uri": "https://localhost:8080/"
        },
        "id": "9oZdlPqtneA3",
        "outputId": "d192ae87-b2c0-4bd7-aebe-58156ebc89dc"
      },
      "execution_count": null,
      "outputs": [
        {
          "output_type": "execute_result",
          "data": {
            "text/plain": [
              "(1, 2, 3, 1, 2, 3, 1, 2, 3)"
            ]
          },
          "metadata": {},
          "execution_count": 5
        }
      ]
    },
    {
      "cell_type": "code",
      "source": [
        "#immutable data type\n",
        "a=(\"sam\",\"raj\",25,67.56)\n",
        "a[1]=\"simran\""
      ],
      "metadata": {
        "colab": {
          "base_uri": "https://localhost:8080/",
          "height": 176
        },
        "id": "W5G1_TPunmU1",
        "outputId": "0d6a1d25-74d8-40a8-867a-42399e18a2c0"
      },
      "execution_count": null,
      "outputs": [
        {
          "output_type": "error",
          "ename": "TypeError",
          "evalue": "'tuple' object does not support item assignment",
          "traceback": [
            "\u001b[0;31m---------------------------------------------------------------------------\u001b[0m",
            "\u001b[0;31mTypeError\u001b[0m                                 Traceback (most recent call last)",
            "\u001b[0;32m<ipython-input-7-b2ea54c4fe0c>\u001b[0m in \u001b[0;36m<cell line: 0>\u001b[0;34m()\u001b[0m\n\u001b[1;32m      1\u001b[0m \u001b[0;31m#immutable data type\u001b[0m\u001b[0;34m\u001b[0m\u001b[0;34m\u001b[0m\u001b[0m\n\u001b[1;32m      2\u001b[0m \u001b[0ma\u001b[0m\u001b[0;34m=\u001b[0m\u001b[0;34m(\u001b[0m\u001b[0;34m\"sam\"\u001b[0m\u001b[0;34m,\u001b[0m\u001b[0;34m\"raj\"\u001b[0m\u001b[0;34m,\u001b[0m\u001b[0;36m25\u001b[0m\u001b[0;34m,\u001b[0m\u001b[0;36m67.56\u001b[0m\u001b[0;34m)\u001b[0m\u001b[0;34m\u001b[0m\u001b[0;34m\u001b[0m\u001b[0m\n\u001b[0;32m----> 3\u001b[0;31m \u001b[0ma\u001b[0m\u001b[0;34m[\u001b[0m\u001b[0;36m1\u001b[0m\u001b[0;34m]\u001b[0m\u001b[0;34m=\u001b[0m\u001b[0;34m\"simran\"\u001b[0m\u001b[0;34m\u001b[0m\u001b[0;34m\u001b[0m\u001b[0m\n\u001b[0m",
            "\u001b[0;31mTypeError\u001b[0m: 'tuple' object does not support item assignment"
          ]
        }
      ]
    },
    {
      "cell_type": "code",
      "source": [
        "#updating tuple element through changing into list\n",
        "a=(\"sam\",\"raj\",25,67.56)\n",
        "b=list(a)#convert into list\n",
        "print(b)\n",
        "b[1]=\"sumit\"\n",
        "c=tuple(b)#conert into tuple again\n",
        "print(c)"
      ],
      "metadata": {
        "colab": {
          "base_uri": "https://localhost:8080/"
        },
        "id": "MvTOEt9Inxhn",
        "outputId": "9e0b2f7f-b684-416c-f840-3d34a07f1493"
      },
      "execution_count": null,
      "outputs": [
        {
          "output_type": "stream",
          "name": "stdout",
          "text": [
            "['sam', 'raj', 25, 67.56]\n",
            "('sam', 'sumit', 25, 67.56)\n"
          ]
        }
      ]
    },
    {
      "cell_type": "code",
      "source": [
        "#function in tuple\n",
        "#1count()\n",
        "a=(1,2,3,1,2,4)\n",
        "a.count(1)"
      ],
      "metadata": {
        "colab": {
          "base_uri": "https://localhost:8080/"
        },
        "id": "_o9IM7GdoXeK",
        "outputId": "f7ff0e49-d71f-45a8-c4f7-a7d7ad106083"
      },
      "execution_count": null,
      "outputs": [
        {
          "output_type": "execute_result",
          "data": {
            "text/plain": [
              "2"
            ]
          },
          "metadata": {},
          "execution_count": 10
        }
      ]
    },
    {
      "cell_type": "code",
      "source": [
        "#2 sum()\n",
        "a=(1,2,3)\n",
        "sum(a)"
      ],
      "metadata": {
        "colab": {
          "base_uri": "https://localhost:8080/"
        },
        "id": "jNiB4aObok3m",
        "outputId": "10623b29-916a-4581-89e5-a40876a52678"
      },
      "execution_count": null,
      "outputs": [
        {
          "output_type": "execute_result",
          "data": {
            "text/plain": [
              "6"
            ]
          },
          "metadata": {},
          "execution_count": 11
        }
      ]
    },
    {
      "cell_type": "code",
      "source": [
        "#Q1 how can we create a user difined tuple?\n",
        "a=[]\n",
        "size=int(input(\"enter your size: \"))\n",
        "for i in range (size):\n",
        "  item=input(\"enter your item: \")\n",
        "  a.append(item)\n",
        "print(a)\n",
        "b=tuple(a)\n",
        "print(b)\n",
        "\n"
      ],
      "metadata": {
        "colab": {
          "base_uri": "https://localhost:8080/"
        },
        "id": "I1J6SI2BorXH",
        "outputId": "9b61163b-379e-4e17-99d3-9c764a13b853"
      },
      "execution_count": null,
      "outputs": [
        {
          "output_type": "stream",
          "name": "stdout",
          "text": [
            "enter your size: 3\n",
            "enter your item: sam\n",
            "enter your item: raj\n",
            "enter your item: rahul\n",
            "['sam', 'raj', 'rahul']\n",
            "('sam', 'raj', 'rahul')\n"
          ]
        }
      ]
    },
    {
      "cell_type": "code",
      "source": [
        "#Q2 create a user difind program of tuple who can add elements in tuple?\n",
        "a=[]\n",
        "size=int(input(\"enter your size: \"))\n",
        "for i in range (size):\n",
        "  item=input(\"enter your item: \")\n",
        "  a.append(item)\n",
        "print(a)\n",
        "b=tuple(a)\n",
        "print(b)\n",
        "c=list(b)\n",
        "d=input(\"enter your item for addition: \")\n",
        "c.append(d)\n",
        "print(c)\n",
        "d=tuple(c)\n",
        "print(d)"
      ],
      "metadata": {
        "colab": {
          "base_uri": "https://localhost:8080/"
        },
        "id": "zLyK90XcpbSB",
        "outputId": "f220e6bd-6340-4b5e-9c56-c9d2a75d9a1b"
      },
      "execution_count": null,
      "outputs": [
        {
          "output_type": "stream",
          "name": "stdout",
          "text": [
            "enter your size: 2\n",
            "enter your item: sam\n",
            "enter your item: raj\n",
            "['sam', 'raj']\n",
            "('sam', 'raj')\n",
            "enter your item for addition: rohit\n",
            "['sam', 'raj', 'rohit']\n",
            "('sam', 'raj', 'rohit')\n"
          ]
        }
      ]
    },
    {
      "cell_type": "code",
      "source": [
        "#Q3 create a user difind program of tuple who can add elements multiple times in tuple?\n",
        "a=[]\n",
        "size=int(input(\"enter your size: \"))\n",
        "for i in range (size):\n",
        "  item=input(\"enter your item: \")\n",
        "  a.append(item)\n",
        "print(a)\n",
        "b=tuple(a)\n",
        "print(b)\n",
        "c=list(b)\n",
        "d=int(input(\"enter your item for addition: \"))\n",
        "for i in range(d):\n",
        "  e=input(\"enter item: \")\n",
        "  c.append(e)\n",
        "print(c)\n",
        "f=tuple(c)\n",
        "print(f)"
      ],
      "metadata": {
        "colab": {
          "base_uri": "https://localhost:8080/"
        },
        "id": "DYvtjRihqKGJ",
        "outputId": "22cd1759-cb8a-4cca-ea86-e43553bd2f13"
      },
      "execution_count": null,
      "outputs": [
        {
          "output_type": "stream",
          "name": "stdout",
          "text": [
            "enter your size: 2\n",
            "enter your item: sam\n",
            "enter your item: rohit\n",
            "['sam', 'rohit']\n",
            "('sam', 'rohit')\n",
            "enter your item for addition: 3\n",
            "enter item: ravi\n",
            "enter item: shivam\n",
            "enter item: kirti\n",
            "['sam', 'rohit', 'ravi', 'shivam', 'kirti']\n",
            "('sam', 'rohit', 'ravi', 'shivam', 'kirti')\n"
          ]
        }
      ]
    },
    {
      "cell_type": "code",
      "source": [
        "#Q4 create a user difind program of tuple who can add elements multiple times and check occurence of item in tuple?\n",
        "a=[]\n",
        "size=int(input(\"enter your size: \"))\n",
        "for i in range (size):\n",
        "  item=input(\"enter your item: \")\n",
        "  a.append(item)\n",
        "print(a)\n",
        "b=tuple(a)\n",
        "print(b)\n",
        "c=list(b)\n",
        "d=int(input(\"enter your item for addition: \"))\n",
        "for i in range(d):\n",
        "  e=input(\"enter item: \")\n",
        "  c.append(e)\n",
        "print(c)\n",
        "f=tuple(c)\n",
        "print(f)\n",
        "g=input(\"tell me element that you want to check occurence: \")\n",
        "print(f\"the element {g} is repeated={f.count(g)}\")"
      ],
      "metadata": {
        "colab": {
          "base_uri": "https://localhost:8080/"
        },
        "id": "Q0B2zpR9q2B6",
        "outputId": "0b2addc9-6251-4fca-cf97-b5e70c770bc1"
      },
      "execution_count": null,
      "outputs": [
        {
          "output_type": "stream",
          "name": "stdout",
          "text": [
            "enter your size: 2\n",
            "enter your item: sam\n",
            "enter your item: raj\n",
            "['sam', 'raj']\n",
            "('sam', 'raj')\n",
            "enter your item for addition: 2\n",
            "enter item: sam\n",
            "enter item: sam\n",
            "['sam', 'raj', 'sam', 'sam']\n",
            "('sam', 'raj', 'sam', 'sam')\n",
            "tell me element that you want to check occurence: sam\n",
            "the element sam is repeated=3\n"
          ]
        }
      ]
    },
    {
      "cell_type": "code",
      "source": [
        "#Q5 create a user defind program of tuple who can delete item which you want in tuple?\n",
        "a=[]\n",
        "size=int(input(\"enter your size: \"))\n",
        "for i in range(size):\n",
        "  item=input(\"enter your item: \")\n",
        "  a.append(item)\n",
        "print(a)\n",
        "# b=tuple(a)\n",
        "# print(b)\n",
        "# c=list(b)\n",
        "d=input(\"enter your item which you want to delete: \")\n",
        "a.remove(d)\n",
        "print(a)\n",
        "d=tuple(a)\n",
        "print(d)\n"
      ],
      "metadata": {
        "colab": {
          "base_uri": "https://localhost:8080/"
        },
        "id": "kmlCh5h3r33j",
        "outputId": "5a3e168b-63cb-48d2-b3a4-77c023d6c46d"
      },
      "execution_count": null,
      "outputs": [
        {
          "output_type": "stream",
          "name": "stdout",
          "text": [
            "enter your size: 3\n",
            "enter your item: sam\n",
            "enter your item: raj\n",
            "enter your item: rohit\n",
            "['sam', 'raj', 'rohit']\n",
            "enter your item which you want to delete: raj\n",
            "['sam', 'rohit']\n",
            "('sam', 'rohit')\n"
          ]
        }
      ]
    },
    {
      "cell_type": "code",
      "source": [
        "#Q6 create a user difind program of tuple who can reverse elements in tuple?\n",
        "a=[]\n",
        "size=int(input(\"enter your size: \"))\n",
        "for i in range (size):\n",
        "  item=input(\"enter your item: \")\n",
        "  a.append(item)\n",
        "print(a)\n",
        "b=tuple(a)\n",
        "c=list(b)\n",
        "c.reverse()\n",
        "print(c)\n",
        "d=tuple(c)\n",
        "print(d)"
      ],
      "metadata": {
        "colab": {
          "base_uri": "https://localhost:8080/"
        },
        "id": "cycowFvVtfao",
        "outputId": "4fed20d8-63a8-4bf2-8f43-30327421bc2e"
      },
      "execution_count": null,
      "outputs": [
        {
          "output_type": "stream",
          "name": "stdout",
          "text": [
            "enter your size: 3\n",
            "enter your item: sam\n",
            "enter your item: raj\n",
            "enter your item: rohit\n",
            "['sam', 'raj', 'rohit']\n",
            "['rohit', 'raj', 'sam']\n",
            "('rohit', 'raj', 'sam')\n"
          ]
        }
      ]
    },
    {
      "cell_type": "code",
      "source": [
        "a=('a','b','c','d','e')\n",
        "print('c'in a)"
      ],
      "metadata": {
        "colab": {
          "base_uri": "https://localhost:8080/"
        },
        "id": "SqoNHnJ6AYXP",
        "outputId": "cacf440d-798b-4fc8-d883-2a915bd32a95"
      },
      "execution_count": null,
      "outputs": [
        {
          "output_type": "stream",
          "name": "stdout",
          "text": [
            "True\n"
          ]
        }
      ]
    },
    {
      "cell_type": "code",
      "source": [
        "a=[\"sam\",\"raj\",\"rahul\"]\n",
        "b=\",\".join(a)\n",
        "print(b)\n",
        "print(b.upper())\n",
        "print(b.split(\",\"))\n"
      ],
      "metadata": {
        "colab": {
          "base_uri": "https://localhost:8080/"
        },
        "id": "8Rs9qcBXIl-U",
        "outputId": "b1645096-02d3-4eb6-895c-296cabb6a660"
      },
      "execution_count": null,
      "outputs": [
        {
          "output_type": "stream",
          "name": "stdout",
          "text": [
            "sam,raj,rahul\n",
            "SAM,RAJ,RAHUL\n",
            "['sam', 'raj', 'rahul']\n"
          ]
        }
      ]
    }
  ]
}