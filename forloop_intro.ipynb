{
  "cells": [
    {
      "cell_type": "markdown",
      "metadata": {
        "id": "view-in-github",
        "colab_type": "text"
      },
      "source": [
        "<a href=\"https://colab.research.google.com/github/shivam2898-data/Python_notes/blob/main/forloop_intro.ipynb\" target=\"_parent\"><img src=\"https://colab.research.google.com/assets/colab-badge.svg\" alt=\"Open In Colab\"/></a>"
      ]
    },
    {
      "cell_type": "markdown",
      "id": "db5a920a",
      "metadata": {
        "id": "db5a920a"
      },
      "source": [
        "# Loop in Python"
      ]
    },
    {
      "cell_type": "code",
      "execution_count": null,
      "id": "bd27b3b6",
      "metadata": {
        "id": "bd27b3b6"
      },
      "outputs": [],
      "source": [
        "# (1). For Loop\n",
        "# (2). while Loop"
      ]
    },
    {
      "cell_type": "code",
      "execution_count": null,
      "id": "cc9cf840",
      "metadata": {
        "id": "cc9cf840"
      },
      "outputs": [],
      "source": [
        "# Indexing = 0 and length = 1\n",
        "\n",
        "# In For loop , starting value will be include and last value will be exclude ."
      ]
    },
    {
      "cell_type": "markdown",
      "id": "b30a270a",
      "metadata": {
        "id": "b30a270a"
      },
      "source": [
        "# (1). For Loop\n",
        "\n",
        "for i in range(min_value , max_value , step_value):\n",
        "      print(i)"
      ]
    },
    {
      "cell_type": "code",
      "execution_count": null,
      "id": "ab31b1d9",
      "metadata": {
        "id": "ab31b1d9",
        "outputId": "b8e6066e-d87a-4708-d7e4-c85f111f21b8"
      },
      "outputs": [
        {
          "name": "stdout",
          "output_type": "stream",
          "text": [
            "0\n",
            "1\n",
            "2\n",
            "3\n",
            "4\n"
          ]
        }
      ],
      "source": [
        "for i in range(5):\n",
        "    print(i)"
      ]
    },
    {
      "cell_type": "code",
      "execution_count": null,
      "id": "d26292c4",
      "metadata": {
        "id": "d26292c4",
        "outputId": "55ff0bbd-c19a-4169-957f-386fbd459fc9"
      },
      "outputs": [
        {
          "name": "stdout",
          "output_type": "stream",
          "text": [
            "11\n",
            "12\n",
            "13\n",
            "14\n"
          ]
        }
      ],
      "source": [
        "# method - 2\n",
        "for i in range(11,15):\n",
        "    print(i)"
      ]
    },
    {
      "cell_type": "code",
      "execution_count": null,
      "id": "396597d1",
      "metadata": {
        "id": "396597d1"
      },
      "outputs": [],
      "source": [
        "# # method - 3\n",
        "# for i in range(16,1,-1):\n",
        "#     print(i)\n"
      ]
    },
    {
      "cell_type": "code",
      "execution_count": null,
      "id": "ab8ee459",
      "metadata": {
        "id": "ab8ee459",
        "outputId": "662b6fa8-d030-4b07-dc1d-812f1e2296c3"
      },
      "outputs": [
        {
          "name": "stdout",
          "output_type": "stream",
          "text": [
            "1\n",
            "3\n",
            "5\n",
            "7\n"
          ]
        }
      ],
      "source": [
        "# method - 3\n",
        "for i in range(1,8,2):\n",
        "    print(i)"
      ]
    },
    {
      "cell_type": "code",
      "execution_count": null,
      "id": "c345c659",
      "metadata": {
        "id": "c345c659",
        "outputId": "d1e4e7c2-3ac9-4481-f7fa-fb21f463dd9e"
      },
      "outputs": [
        {
          "name": "stdout",
          "output_type": "stream",
          "text": [
            "i =  0 j =  0\n",
            "i =  0 j =  1\n",
            "i =  0 j =  2\n",
            "i =  0 j =  3\n",
            "i =  0 j =  4\n",
            "i =  1 j =  0\n",
            "i =  1 j =  1\n",
            "i =  1 j =  2\n",
            "i =  1 j =  3\n",
            "i =  1 j =  4\n",
            "i =  2 j =  0\n",
            "i =  2 j =  1\n",
            "i =  2 j =  2\n",
            "i =  2 j =  3\n",
            "i =  2 j =  4\n"
          ]
        }
      ],
      "source": [
        "for i in range(3):\n",
        "    for j in range(5):\n",
        "        print(\"i = \" ,i,\"j = \",j)"
      ]
    },
    {
      "cell_type": "code",
      "execution_count": null,
      "id": "1f0b458c",
      "metadata": {
        "id": "1f0b458c"
      },
      "outputs": [],
      "source": [
        "# i = 0,1,2\n",
        "# j = 0,1\n",
        "\n",
        "# i = 0 j = 0,1 ---> print(0,0) , (0,1)\n",
        "# i = 1 j = 0,1\n",
        "# i = 2 j = 0,1"
      ]
    },
    {
      "cell_type": "code",
      "execution_count": null,
      "id": "e5760d35",
      "metadata": {
        "id": "e5760d35",
        "outputId": "117dd6d9-f8ac-41b3-ace8-8bde33d5610f"
      },
      "outputs": [
        {
          "name": "stdout",
          "output_type": "stream",
          "text": [
            "*\n",
            "**\n",
            "***\n",
            "****\n",
            "*****\n"
          ]
        }
      ],
      "source": [
        "for i in range(1,6):\n",
        "    print(i*\"*\")"
      ]
    },
    {
      "cell_type": "code",
      "execution_count": null,
      "id": "2f51b36c",
      "metadata": {
        "id": "2f51b36c",
        "outputId": "b9da24c9-69e2-4bb6-e429-103306ffd9e6"
      },
      "outputs": [
        {
          "name": "stdout",
          "output_type": "stream",
          "text": [
            "******\n",
            "*****\n",
            "****\n",
            "***\n",
            "**\n"
          ]
        }
      ],
      "source": [
        "for i in range(6,1,-1):\n",
        "    print(i*\"*\")"
      ]
    },
    {
      "cell_type": "code",
      "execution_count": null,
      "id": "17504691",
      "metadata": {
        "id": "17504691",
        "outputId": "cce1997f-dcda-4bee-dfd2-6e345ff7ac44"
      },
      "outputs": [
        {
          "name": "stdout",
          "output_type": "stream",
          "text": [
            "0--1--2--"
          ]
        }
      ],
      "source": [
        "for i in range(3):\n",
        "    print(i , end=\"--\")"
      ]
    },
    {
      "cell_type": "code",
      "execution_count": null,
      "id": "e8272c2b",
      "metadata": {
        "id": "e8272c2b",
        "outputId": "838a129e-c965-44ad-fbbc-04fdbfcfbdf9"
      },
      "outputs": [
        {
          "name": "stdout",
          "output_type": "stream",
          "text": [
            "*\n",
            "**\n",
            "* *\n",
            "*  *\n",
            "*****\n"
          ]
        }
      ],
      "source": [
        "n = 5\n",
        "for i in range(1, n+1):\n",
        "    if i == 1 or i == n:\n",
        "        print('*' * i)  # First or last row\n",
        "    else:\n",
        "        print('*' + ' ' * (i-2) + '*')  # Middle rows with spaces\n"
      ]
    },
    {
      "cell_type": "code",
      "execution_count": null,
      "id": "41112c0b",
      "metadata": {
        "id": "41112c0b",
        "outputId": "ae3f8564-c312-4541-8c58-aa05aac00f10"
      },
      "outputs": [
        {
          "name": "stdout",
          "output_type": "stream",
          "text": [
            "    *\n",
            "   ***\n",
            "  *****\n",
            " *******\n",
            "*********\n"
          ]
        }
      ],
      "source": [
        "n = 5\n",
        "for i in range(1, n+1):\n",
        "    print(' ' * (n-i) + '*' * (2*i-1))\n"
      ]
    },
    {
      "cell_type": "code",
      "execution_count": null,
      "id": "dea0aea3",
      "metadata": {
        "id": "dea0aea3"
      },
      "outputs": [],
      "source": []
    }
  ],
  "metadata": {
    "kernelspec": {
      "display_name": "Python 3 (ipykernel)",
      "language": "python",
      "name": "python3"
    },
    "language_info": {
      "codemirror_mode": {
        "name": "ipython",
        "version": 3
      },
      "file_extension": ".py",
      "mimetype": "text/x-python",
      "name": "python",
      "nbconvert_exporter": "python",
      "pygments_lexer": "ipython3",
      "version": "3.9.12"
    },
    "colab": {
      "provenance": [],
      "include_colab_link": true
    }
  },
  "nbformat": 4,
  "nbformat_minor": 5
}