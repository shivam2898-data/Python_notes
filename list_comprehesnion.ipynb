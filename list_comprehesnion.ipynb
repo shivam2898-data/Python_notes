{
  "nbformat": 4,
  "nbformat_minor": 0,
  "metadata": {
    "colab": {
      "provenance": [],
      "authorship_tag": "ABX9TyN0ieVeqZne8hysMQa4+o43",
      "include_colab_link": true
    },
    "kernelspec": {
      "name": "python3",
      "display_name": "Python 3"
    },
    "language_info": {
      "name": "python"
    }
  },
  "cells": [
    {
      "cell_type": "markdown",
      "metadata": {
        "id": "view-in-github",
        "colab_type": "text"
      },
      "source": [
        "<a href=\"https://colab.research.google.com/github/shivam2898-data/Python_notes/blob/main/list_comprehesnion.ipynb\" target=\"_parent\"><img src=\"https://colab.research.google.com/assets/colab-badge.svg\" alt=\"Open In Colab\"/></a>"
      ]
    },
    {
      "cell_type": "code",
      "execution_count": null,
      "metadata": {
        "id": "RTjs6lvgSxJA"
      },
      "outputs": [],
      "source": [
        "# list comprehension\n",
        "# list comprehensions in python provide a concise way to create lists.\n",
        "# they are more readable and efficient than traditional for loops.\n",
        "# syntax:\n",
        "# [expression for item in iterable if condition]\n"
      ]
    },
    {
      "cell_type": "markdown",
      "source": [
        "## create a list of squares"
      ],
      "metadata": {
        "id": "aeMGBsJc2jd2"
      }
    },
    {
      "cell_type": "code",
      "source": [
        "squares=[x**2 for x in range(1,6)]\n",
        "print(squares)"
      ],
      "metadata": {
        "colab": {
          "base_uri": "https://localhost:8080/"
        },
        "id": "FvKoVwvWUmdX",
        "outputId": "9f153a05-d0be-4afd-8c2d-819a6db13a46"
      },
      "execution_count": null,
      "outputs": [
        {
          "output_type": "stream",
          "name": "stdout",
          "text": [
            "[1, 4, 9, 16, 25]\n"
          ]
        }
      ]
    },
    {
      "cell_type": "markdown",
      "source": [
        "## filter even numbers"
      ],
      "metadata": {
        "id": "QpwRZt-p2o9s"
      }
    },
    {
      "cell_type": "code",
      "source": [
        "evens =[x for x in range(10)if x%2==0]\n",
        "print(evens)"
      ],
      "metadata": {
        "colab": {
          "base_uri": "https://localhost:8080/"
        },
        "id": "M_YFyb4kUwhG",
        "outputId": "fab2d36a-a8a9-41e1-bf51-9480db66b740"
      },
      "execution_count": null,
      "outputs": [
        {
          "output_type": "stream",
          "name": "stdout",
          "text": [
            "[0, 2, 4, 6, 8]\n"
          ]
        }
      ]
    },
    {
      "cell_type": "markdown",
      "source": [
        "## convert strings to uppercase"
      ],
      "metadata": {
        "id": "YhsiY0A32tZf"
      }
    },
    {
      "cell_type": "code",
      "source": [
        "names=['sam','rohit','ankit']\n",
        "upper_names=[name.upper() for name in names]\n",
        "print(upper_names)"
      ],
      "metadata": {
        "colab": {
          "base_uri": "https://localhost:8080/"
        },
        "id": "inblOnL0U-IV",
        "outputId": "d07ed723-a4d0-4086-c603-d0d4680d92c7"
      },
      "execution_count": null,
      "outputs": [
        {
          "output_type": "stream",
          "name": "stdout",
          "text": [
            "['SAM', 'ROHIT', 'ANKIT']\n"
          ]
        }
      ]
    },
    {
      "cell_type": "markdown",
      "source": [
        "## flatten a nested list"
      ],
      "metadata": {
        "id": "9z8xlOoG22Lb"
      }
    },
    {
      "cell_type": "code",
      "source": [
        "matrix=[[1,2],[3,4],[5,6]]\n",
        "flattened=[num for sublist in matrix for num in sublist]\n",
        "print(flattened)"
      ],
      "metadata": {
        "colab": {
          "base_uri": "https://localhost:8080/"
        },
        "id": "yIjWziUKVbDC",
        "outputId": "4eb6b10e-3f92-471c-ecb8-829c58896ca7"
      },
      "execution_count": null,
      "outputs": [
        {
          "output_type": "stream",
          "name": "stdout",
          "text": [
            "[1, 2, 3, 4, 5, 6]\n"
          ]
        }
      ]
    },
    {
      "cell_type": "markdown",
      "source": [
        "## generate a list of tuples"
      ],
      "metadata": {
        "id": "V1Z_swls27ZP"
      }
    },
    {
      "cell_type": "code",
      "source": [
        "pairs=[(x,y)for x in range(3)for y in range(3)]\n",
        "print(pairs)"
      ],
      "metadata": {
        "colab": {
          "base_uri": "https://localhost:8080/"
        },
        "id": "VwLKR-ZcVpP4",
        "outputId": "2f10963d-0a97-4a1d-8884-65af6ec74b28"
      },
      "execution_count": null,
      "outputs": [
        {
          "output_type": "stream",
          "name": "stdout",
          "text": [
            "[(0, 0), (0, 1), (0, 2), (1, 0), (1, 1), (1, 2), (2, 0), (2, 1), (2, 2)]\n"
          ]
        }
      ]
    }
  ]
}