{
  "nbformat": 4,
  "nbformat_minor": 0,
  "metadata": {
    "colab": {
      "provenance": [],
      "authorship_tag": "ABX9TyMZ9bP2pht2iPWmKd+G3clR",
      "include_colab_link": true
    },
    "kernelspec": {
      "name": "python3",
      "display_name": "Python 3"
    },
    "language_info": {
      "name": "python"
    }
  },
  "cells": [
    {
      "cell_type": "markdown",
      "metadata": {
        "id": "view-in-github",
        "colab_type": "text"
      },
      "source": [
        "<a href=\"https://colab.research.google.com/github/shivam2898-data/Python_notes/blob/main/pattern.ipynb\" target=\"_parent\"><img src=\"https://colab.research.google.com/assets/colab-badge.svg\" alt=\"Open In Colab\"/></a>"
      ]
    },
    {
      "cell_type": "code",
      "execution_count": null,
      "metadata": {
        "colab": {
          "base_uri": "https://localhost:8080/"
        },
        "id": "RngOqRHwUJ3q",
        "outputId": "725693e9-de72-4020-959d-0e7c7254ab89"
      },
      "outputs": [
        {
          "output_type": "stream",
          "name": "stdout",
          "text": [
            "     *\n",
            "    ***\n",
            "   *****\n",
            "  *******\n",
            " *********\n"
          ]
        }
      ],
      "source": [
        "n=1\n",
        "for i in range(1,11,2):\n",
        "  print(\" \"*(5-n),\"*\"*i)\n",
        "  n=n+1"
      ]
    },
    {
      "cell_type": "code",
      "source": [
        "n=4\n",
        "for i in range(4,0,-1):\n",
        "  print(\"*\"*i,\" \"*(n-i))"
      ],
      "metadata": {
        "colab": {
          "base_uri": "https://localhost:8080/"
        },
        "id": "AWUcv5zkXcvr",
        "outputId": "f65aed54-b38f-4421-f142-7fe9c800dc11"
      },
      "execution_count": null,
      "outputs": [
        {
          "output_type": "stream",
          "name": "stdout",
          "text": [
            "**** \n",
            "***  \n",
            "**   \n",
            "*    \n"
          ]
        }
      ]
    },
    {
      "cell_type": "code",
      "source": [
        "n=4\n",
        "for i in range(1,n+1):\n",
        "  print(\" \"*(n-i),\"*\"*i)"
      ],
      "metadata": {
        "colab": {
          "base_uri": "https://localhost:8080/"
        },
        "id": "y0LlTFu8W0Z9",
        "outputId": "8905f2ab-9463-4142-c9f9-3a50da9a36c5"
      },
      "execution_count": null,
      "outputs": [
        {
          "output_type": "stream",
          "name": "stdout",
          "text": [
            "    *\n",
            "   **\n",
            "  ***\n",
            " ****\n"
          ]
        }
      ]
    },
    {
      "cell_type": "code",
      "source": [
        "n=4\n",
        "for i in range(4,0,-1):\n",
        "  print(\" \"*(n-i),\"*\"*i)"
      ],
      "metadata": {
        "colab": {
          "base_uri": "https://localhost:8080/"
        },
        "id": "pV9ICplLX_jE",
        "outputId": "679878f1-afd7-4769-878e-4debf6f44a79"
      },
      "execution_count": null,
      "outputs": [
        {
          "output_type": "stream",
          "name": "stdout",
          "text": [
            " ****\n",
            "  ***\n",
            "   **\n",
            "    *\n"
          ]
        }
      ]
    },
    {
      "cell_type": "code",
      "source": [
        "n=4\n",
        "for i in range(1,n+1):\n",
        "  print(\"*\"*i)"
      ],
      "metadata": {
        "colab": {
          "base_uri": "https://localhost:8080/"
        },
        "id": "aEelpeVBYevA",
        "outputId": "f843af9a-a411-49c1-c803-29bef479bb7c"
      },
      "execution_count": null,
      "outputs": [
        {
          "output_type": "stream",
          "name": "stdout",
          "text": [
            "*\n",
            "**\n",
            "***\n",
            "****\n"
          ]
        }
      ]
    },
    {
      "cell_type": "code",
      "source": [
        "n=4\n",
        "for i in range(1,9,+2):\n",
        "  print(\" \"*(n),\"*\"*(i))\n",
        "  n=n-1"
      ],
      "metadata": {
        "colab": {
          "base_uri": "https://localhost:8080/"
        },
        "id": "snMCFSLXOK2R",
        "outputId": "831ae787-e1d1-4ad7-bf14-ae45339ecac1"
      },
      "execution_count": null,
      "outputs": [
        {
          "output_type": "stream",
          "name": "stdout",
          "text": [
            "     *\n",
            "    ***\n",
            "   *****\n",
            "  *******\n"
          ]
        }
      ]
    },
    {
      "cell_type": "code",
      "source": [
        "n=5\n",
        "for i in range(1,6):\n",
        "  if(i==1 or i==n):\n",
        "    print(\"*\"*i)\n",
        "  else:\n",
        "    print(\"*\"+\" \"*(i-2)+\"*\")"
      ],
      "metadata": {
        "colab": {
          "base_uri": "https://localhost:8080/"
        },
        "id": "7Dublw6DWJt9",
        "outputId": "b82cdad2-9839-4747-cfd0-f51054440d7f"
      },
      "execution_count": null,
      "outputs": [
        {
          "output_type": "stream",
          "name": "stdout",
          "text": [
            "*\n",
            "**\n",
            "* *\n",
            "*  *\n",
            "*****\n"
          ]
        }
      ]
    },
    {
      "cell_type": "code",
      "source": [
        "n=4\n",
        "for i in range(1,5):\n",
        "  print(\"*\"*i)\n",
        "for k in range(1,5):\n",
        "  print(\" \"*(n-k),\"*\"*(k))\n",
        "for j in range(4,0,-1):\n",
        "  print(\"*\"*j)\n",
        "for m in range(4,0,-1):\n",
        "  print(\" \"*(n-m),\"*\"*(m))\n",
        "for k in range(1,5):\n",
        "  print(\" \"*(n-k),\"*\"*(k))\n",
        "for j in range(4,0,-1):\n",
        "  print(\"*\"*j)\n"
      ],
      "metadata": {
        "colab": {
          "base_uri": "https://localhost:8080/"
        },
        "id": "LgLkFaiXX_v5",
        "outputId": "7894e3c4-7167-4949-dbf3-5a2381a103e9"
      },
      "execution_count": null,
      "outputs": [
        {
          "output_type": "stream",
          "name": "stdout",
          "text": [
            "*\n",
            "**\n",
            "***\n",
            "****\n",
            "    *\n",
            "   **\n",
            "  ***\n",
            " ****\n",
            "****\n",
            "***\n",
            "**\n",
            "*\n",
            " ****\n",
            "  ***\n",
            "   **\n",
            "    *\n",
            "    *\n",
            "   **\n",
            "  ***\n",
            " ****\n",
            "****\n",
            "***\n",
            "**\n",
            "*\n"
          ]
        }
      ]
    },
    {
      "cell_type": "code",
      "source": [
        "n=4\n",
        "for i in range(1,11,+2):\n",
        "  print(\" \"*(n),\"*\"*(i))\n",
        "  n-=1"
      ],
      "metadata": {
        "colab": {
          "base_uri": "https://localhost:8080/"
        },
        "id": "Ch39hX2nbLrN",
        "outputId": "f3ecbfec-c326-4e85-a11b-2c21f09bbc6d"
      },
      "execution_count": null,
      "outputs": [
        {
          "output_type": "stream",
          "name": "stdout",
          "text": [
            "     *\n",
            "    ***\n",
            "   *****\n",
            "  *******\n",
            " *********\n"
          ]
        }
      ]
    },
    {
      "cell_type": "code",
      "source": [
        "n=5\n",
        "for i in range(5,0,-1):\n",
        "  for j in range(1,i+1):\n",
        "    print(j,end=\"\")\n",
        "  print(\" \")"
      ],
      "metadata": {
        "colab": {
          "base_uri": "https://localhost:8080/"
        },
        "id": "Ql-B3ZIFYJQi",
        "outputId": "7ecd8c21-9757-471a-d117-58fe77669104"
      },
      "execution_count": null,
      "outputs": [
        {
          "output_type": "stream",
          "name": "stdout",
          "text": [
            "12345 \n",
            "1234 \n",
            "123 \n",
            "12 \n",
            "1 \n"
          ]
        }
      ]
    },
    {
      "cell_type": "code",
      "source": [
        "n=4\n",
        "for i in range(1,n+1):\n",
        "  for j in range(1,n+1):\n",
        "    print(j*2,end=\" \")\n",
        "  print(\" \")"
      ],
      "metadata": {
        "colab": {
          "base_uri": "https://localhost:8080/"
        },
        "id": "jMu58UdvdLzX",
        "outputId": "103ebb5b-a71b-4599-d89b-d89fc4e1204b"
      },
      "execution_count": null,
      "outputs": [
        {
          "output_type": "stream",
          "name": "stdout",
          "text": [
            "2 4 6 8  \n",
            "2 4 6 8  \n",
            "2 4 6 8  \n",
            "2 4 6 8  \n"
          ]
        }
      ]
    },
    {
      "cell_type": "code",
      "source": [
        "n=5\n",
        "for i in range(1,6):\n",
        "  for j in range(i,i*2):\n",
        "    print(i,end=\" \")\n",
        "  print(\" \")"
      ],
      "metadata": {
        "colab": {
          "base_uri": "https://localhost:8080/"
        },
        "id": "yr73AWcRdZ4F",
        "outputId": "73f4a7af-8c20-4c89-9460-2a91fd93c8d7"
      },
      "execution_count": null,
      "outputs": [
        {
          "output_type": "stream",
          "name": "stdout",
          "text": [
            "1  \n",
            "2 2  \n",
            "3 3 3  \n",
            "4 4 4 4  \n",
            "5 5 5 5 5  \n"
          ]
        }
      ]
    },
    {
      "cell_type": "code",
      "source": [
        "for i in range(1,7):\n",
        "  for j in range(1,i*2):\n",
        "    if(j%2==0):\n",
        "     print(j ,end=\" \")\n",
        "  print(\" \")\n"
      ],
      "metadata": {
        "colab": {
          "base_uri": "https://localhost:8080/"
        },
        "id": "ReG1fp34ddtQ",
        "outputId": "ef48e943-ea26-48aa-f28e-dfd953088d59"
      },
      "execution_count": null,
      "outputs": [
        {
          "output_type": "stream",
          "name": "stdout",
          "text": [
            " \n",
            "2  \n",
            "2 4  \n",
            "2 4 6  \n",
            "2 4 6 8  \n",
            "2 4 6 8 10  \n"
          ]
        }
      ]
    },
    {
      "cell_type": "code",
      "source": [
        "n=4\n",
        "for i in range(1,n+1):\n",
        "  for j in range(1,n+1):\n",
        "    print(j*i,end=\" \")\n",
        "  print(\" \")"
      ],
      "metadata": {
        "colab": {
          "base_uri": "https://localhost:8080/"
        },
        "id": "WJtqmfrlfGww",
        "outputId": "72373c3f-e0b0-440d-ad81-6b988f005918"
      },
      "execution_count": null,
      "outputs": [
        {
          "output_type": "stream",
          "name": "stdout",
          "text": [
            "1 2 3 4  \n",
            "2 4 6 8  \n",
            "3 6 9 12  \n",
            "4 8 12 16  \n"
          ]
        }
      ]
    },
    {
      "cell_type": "code",
      "source": [
        "n=4\n",
        "a=1\n",
        "for i in range(1,n+1):\n",
        "  for j in range(1,n+1):\n",
        "    print(a,end=\" \")\n",
        "    a+=1\n",
        "  print(\" \")\n"
      ],
      "metadata": {
        "colab": {
          "base_uri": "https://localhost:8080/"
        },
        "id": "vafTEZQqfkDm",
        "outputId": "ddfdb408-b1cc-4b72-d8a4-95dc771270ce"
      },
      "execution_count": null,
      "outputs": [
        {
          "output_type": "stream",
          "name": "stdout",
          "text": [
            "1 2 3 4  \n",
            "5 6 7 8  \n",
            "9 10 11 12  \n",
            "13 14 15 16  \n"
          ]
        }
      ]
    },
    {
      "cell_type": "code",
      "source": [
        "n=4\n",
        "for i in range(4,0,-1):\n",
        "  for j in range(1,i+1):\n",
        "    print(j,end=\"\")\n",
        "  print(\" \")"
      ],
      "metadata": {
        "colab": {
          "base_uri": "https://localhost:8080/"
        },
        "id": "WPPZ86C5gDBd",
        "outputId": "f4144a3b-0b57-4d7d-b31d-c7eba713192b"
      },
      "execution_count": null,
      "outputs": [
        {
          "output_type": "stream",
          "name": "stdout",
          "text": [
            "1234 \n",
            "123 \n",
            "12 \n",
            "1 \n"
          ]
        }
      ]
    },
    {
      "cell_type": "code",
      "source": [
        "n=5\n",
        "for i in range(1,n+1):\n",
        "  for j in range(1,i):\n",
        "    print(j,end=\" \")\n",
        "  print(\" \")\n",
        "\n",
        "\n"
      ],
      "metadata": {
        "colab": {
          "base_uri": "https://localhost:8080/"
        },
        "id": "3FAzFci7jT1M",
        "outputId": "d4645993-c00f-4cca-a44c-908803d14dbf"
      },
      "execution_count": null,
      "outputs": [
        {
          "output_type": "stream",
          "name": "stdout",
          "text": [
            " \n",
            "1  \n",
            "1 2  \n",
            "1 2 3  \n",
            "1 2 3 4  \n"
          ]
        }
      ]
    },
    {
      "cell_type": "code",
      "source": [
        "n=5\n",
        "for i in range(1,n):\n",
        "  print(\" \"*(n-i),end=\" \")\n",
        "  for j in range(1,i+1):\n",
        "    print(j ,end=\" \")\n",
        "  print(\" \")"
      ],
      "metadata": {
        "colab": {
          "base_uri": "https://localhost:8080/"
        },
        "id": "B_eEl3b8nN1e",
        "outputId": "ef089eed-227c-4322-80cb-ebcbe791aa84"
      },
      "execution_count": null,
      "outputs": [
        {
          "output_type": "stream",
          "name": "stdout",
          "text": [
            "     1  \n",
            "    1 2  \n",
            "   1 2 3  \n",
            "  1 2 3 4  \n"
          ]
        }
      ]
    },
    {
      "cell_type": "code",
      "source": [
        "n=5\n",
        "for i in range(n,0,-1):\n",
        "  print(\" \"*(n-i),end=\"\")\n",
        "  for j in range(1,i):\n",
        "    print(j,end=\" \")\n",
        "  print(\" \")"
      ],
      "metadata": {
        "colab": {
          "base_uri": "https://localhost:8080/"
        },
        "id": "K6cfRIRJtRZx",
        "outputId": "4e682f5c-eae2-4ffb-d909-0d04b68ee5af"
      },
      "execution_count": null,
      "outputs": [
        {
          "output_type": "stream",
          "name": "stdout",
          "text": [
            "1 2 3 4  \n",
            " 1 2 3  \n",
            "  1 2  \n",
            "   1  \n",
            "     \n"
          ]
        }
      ]
    },
    {
      "cell_type": "code",
      "source": [
        "for i in range(1,5):\n",
        "  print(\" \"*(5-i),end=\" \")\n",
        "  for m in range(1,i+1):\n",
        "    print(m,end=\"\")\n",
        "  print(\" \")"
      ],
      "metadata": {
        "colab": {
          "base_uri": "https://localhost:8080/"
        },
        "id": "GzlLLMFaqBz2",
        "outputId": "e97a385a-b268-447e-fdf0-37fc7d673fc7"
      },
      "execution_count": null,
      "outputs": [
        {
          "output_type": "stream",
          "name": "stdout",
          "text": [
            "     1 \n",
            "    12 \n",
            "   123 \n",
            "  1234 \n"
          ]
        }
      ]
    },
    {
      "cell_type": "code",
      "source": [
        "for i in range(4,0,-1):\n",
        "  print(\" \"*(4-i),end=\"\")\n",
        "  for j in range(1,i+1):\n",
        "    print(j,end=\"\")\n",
        "  print(\"\")"
      ],
      "metadata": {
        "colab": {
          "base_uri": "https://localhost:8080/"
        },
        "id": "fD0p5EiyqopO",
        "outputId": "1e3f0ad4-fb5e-4162-a9a5-6a603ffda3af"
      },
      "execution_count": null,
      "outputs": [
        {
          "output_type": "stream",
          "name": "stdout",
          "text": [
            "1234\n",
            " 123\n",
            "  12\n",
            "   1\n"
          ]
        }
      ]
    },
    {
      "cell_type": "code",
      "source": [
        "n=4\n",
        "for i in range(4,0,-1):\n",
        "  print(\" \"*(n-i),end=\"\")\n",
        "  for j in range(1,i+1):\n",
        "    print(\"*\",end=\" \")\n",
        "  print(\" \")"
      ],
      "metadata": {
        "colab": {
          "base_uri": "https://localhost:8080/"
        },
        "id": "bGzYTQi7tzJ9",
        "outputId": "920b0aec-556f-4e52-b4b6-18ab8e59676e"
      },
      "execution_count": null,
      "outputs": [
        {
          "output_type": "stream",
          "name": "stdout",
          "text": [
            "* * * *  \n",
            " * * *  \n",
            "  * *  \n",
            "   *  \n"
          ]
        }
      ]
    },
    {
      "cell_type": "code",
      "source": [
        "n=4\n",
        "for i in range(1,n+1):\n",
        "  print(\" \"*(n-i),end=\"\")\n",
        "  for j in range(1,i+1):\n",
        "    print(\"*\",end=\" \")\n",
        "  print(\" \")"
      ],
      "metadata": {
        "colab": {
          "base_uri": "https://localhost:8080/"
        },
        "id": "d3waLSjyrJVH",
        "outputId": "583aa938-028d-48a1-cec4-d56cc2f0423d"
      },
      "execution_count": null,
      "outputs": [
        {
          "output_type": "stream",
          "name": "stdout",
          "text": [
            "   *  \n",
            "  * *  \n",
            " * * *  \n",
            "* * * *  \n"
          ]
        }
      ]
    },
    {
      "cell_type": "code",
      "source": [
        "n=4\n",
        "for i in range(1,n+1):\n",
        "  print(\" \"*(n-i),end=\" \")\n",
        "  for j in range(1,i+1):\n",
        "    print(\"*\",end=\" \")\n",
        "  print(\" \")\n",
        "for i in range(4,0,-1):\n",
        "  print(\" \"*(n-i),end=\" \")\n",
        "  for j in range(1,i+1):\n",
        "    print(\"*\",end=\" \")\n",
        "  print(\"\")"
      ],
      "metadata": {
        "colab": {
          "base_uri": "https://localhost:8080/"
        },
        "id": "bnMMAULvslv2",
        "outputId": "5c6a0dc4-431d-4990-c0a2-3b265458e2b7"
      },
      "execution_count": null,
      "outputs": [
        {
          "output_type": "stream",
          "name": "stdout",
          "text": [
            "    *  \n",
            "   * *  \n",
            "  * * *  \n",
            " * * * *  \n",
            " * * * * \n",
            "  * * * \n",
            "   * * \n",
            "    * \n"
          ]
        }
      ]
    },
    {
      "cell_type": "code",
      "source": [
        "n=7\n",
        "for i in range(1,n+1):\n",
        "  if(i==1 ):\n",
        "    print(\" \"+\"*\"*3,end=\"\")\n",
        "  elif( i==4):\n",
        "    print(\"*\"*5,end=\"\")\n",
        "  else:\n",
        "    print(\"*\"+\" \"*3+\"*\",end=\"\")\n",
        "  print(\"\")"
      ],
      "metadata": {
        "colab": {
          "base_uri": "https://localhost:8080/"
        },
        "id": "LhKY-FjD_loI",
        "outputId": "f9e1b11e-8193-475e-8e53-a4b3f5b687fe"
      },
      "execution_count": null,
      "outputs": [
        {
          "output_type": "stream",
          "name": "stdout",
          "text": [
            " ***\n",
            "*   *\n",
            "*   *\n",
            "*****\n",
            "*   *\n",
            "*   *\n",
            "*   *\n"
          ]
        }
      ]
    },
    {
      "cell_type": "code",
      "source": [
        "n=7\n",
        "for i in range(1,n+1):\n",
        "  if(i==1):\n",
        "    print(\"*\"*5)\n",
        "  elif(i==7):\n",
        "      print(\"*\"*5,end=\"\")\n",
        "  else:\n",
        "    print(\"*\"+\" \"*4+\"*\"\"\\n\",end=\"\")\n",
        "\n"
      ],
      "metadata": {
        "colab": {
          "base_uri": "https://localhost:8080/"
        },
        "id": "Y0tq1ttWCHDp",
        "outputId": "8c4fceac-c0d1-4b88-9acf-674bf46f412d"
      },
      "execution_count": null,
      "outputs": [
        {
          "output_type": "stream",
          "name": "stdout",
          "text": [
            "*****\n",
            "*    *\n",
            "*    *\n",
            "*    *\n",
            "*    *\n",
            "*    *\n",
            "*****"
          ]
        }
      ]
    },
    {
      "cell_type": "code",
      "source": [
        "n=7\n",
        "for i in range(1,n+1):\n",
        "  if(i==1 or i==7):\n",
        "    print(\"*\"*6,end=\"\")\n",
        "  elif(i==4):\n",
        "    print(\"*\"*4,end=\"\")\n",
        "  else:\n",
        "    print(\"*\",end=\"\")\n",
        "  print(\"\")\n"
      ],
      "metadata": {
        "colab": {
          "base_uri": "https://localhost:8080/"
        },
        "id": "FY_lmQ_wDQII",
        "outputId": "85f03053-1610-4a39-de54-308246820d08"
      },
      "execution_count": null,
      "outputs": [
        {
          "output_type": "stream",
          "name": "stdout",
          "text": [
            "******\n",
            "*\n",
            "*\n",
            "****\n",
            "*\n",
            "*\n",
            "******\n"
          ]
        }
      ]
    },
    {
      "cell_type": "code",
      "source": [
        "n=7\n",
        "for i in range(1,n):\n",
        "  print(\"*\")\n",
        "  if(i==6):\n",
        "    print((\"*\")*6,end=\"\")"
      ],
      "metadata": {
        "colab": {
          "base_uri": "https://localhost:8080/"
        },
        "id": "Vx4S2qacYtaB",
        "outputId": "827b9de2-3e38-446a-981c-834f0d790f57"
      },
      "execution_count": null,
      "outputs": [
        {
          "output_type": "stream",
          "name": "stdout",
          "text": [
            "*\n",
            "*\n",
            "*\n",
            "*\n",
            "*\n",
            "*\n",
            "******"
          ]
        }
      ]
    },
    {
      "cell_type": "code",
      "source": [
        "n=7\n",
        "for i in range(1,n+1):\n",
        "  if(i==3):\n",
        "    print(\"* \"*2+\"  \"+\"*  \"*2,end=\"\")\n",
        "  elif(i==4):\n",
        "    print(\"*   \"+\"*    \"+\"*\",end=\"\")\n",
        "  else:\n",
        "    print(\"*\"+\"  \"*4+\"*\",end=\"\")\n",
        "  print(\"\")"
      ],
      "metadata": {
        "colab": {
          "base_uri": "https://localhost:8080/"
        },
        "id": "StyG5fXVZ_zC",
        "outputId": "b2321654-e1a7-4d0c-fccf-76679f4e8d70"
      },
      "execution_count": null,
      "outputs": [
        {
          "output_type": "stream",
          "name": "stdout",
          "text": [
            "*        *\n",
            "*        *\n",
            "* *   *  *  \n",
            "*   *    *\n",
            "*        *\n",
            "*        *\n",
            "*        *\n"
          ]
        }
      ]
    },
    {
      "cell_type": "code",
      "source": [
        "n=7\n",
        "for i in range(1,n+1):\n",
        "  if(i==1 or i==7):\n",
        "    print(\" \"+\"*\"*3)\n",
        "  else:\n",
        "    print(\"*\"+(\" \")*3+\"*\")"
      ],
      "metadata": {
        "colab": {
          "base_uri": "https://localhost:8080/"
        },
        "id": "cdM_OOXdeGW-",
        "outputId": "5b84f6d6-06e7-48ac-c76b-a1a01036366a"
      },
      "execution_count": null,
      "outputs": [
        {
          "output_type": "stream",
          "name": "stdout",
          "text": [
            " ***\n",
            "*   *\n",
            "*   *\n",
            "*   *\n",
            "*   *\n",
            "*   *\n",
            " ***\n"
          ]
        }
      ]
    },
    {
      "cell_type": "code",
      "source": [
        "n=7\n",
        "for i in range(1,n+1):\n",
        "  if(i==1 or i==4):\n",
        "    print(\"*\"*4,end=\"\")\n",
        "  elif(i==2 or i==3):\n",
        "    print(\"*\"+\" \"*3+\"*\",end=\"\")\n",
        "  else:\n",
        "    print(\"*\",end=\"\")\n",
        "  print(\"\")"
      ],
      "metadata": {
        "colab": {
          "base_uri": "https://localhost:8080/"
        },
        "id": "HKQw0hpeeosq",
        "outputId": "daf50846-5f81-4bde-9be3-5862c2244876"
      },
      "execution_count": null,
      "outputs": [
        {
          "output_type": "stream",
          "name": "stdout",
          "text": [
            "****\n",
            "*   *\n",
            "*   *\n",
            "****\n",
            "*\n",
            "*\n",
            "*\n"
          ]
        }
      ]
    },
    {
      "cell_type": "code",
      "source": [
        "n=7\n",
        "for i in range(1,n+1):\n",
        "  if(i==7):\n",
        "    print(\" \"+\"*\"*3,end=\"\")\n",
        "  else:\n",
        "    print(\"*\"+\" \"*3+\"*\")\n",
        "\n"
      ],
      "metadata": {
        "colab": {
          "base_uri": "https://localhost:8080/"
        },
        "id": "0rvbQEtyjpv2",
        "outputId": "a12400b4-5c10-427c-d589-e7114e3d9f77"
      },
      "execution_count": null,
      "outputs": [
        {
          "output_type": "stream",
          "name": "stdout",
          "text": [
            "*   *\n",
            "*   *\n",
            "*   *\n",
            "*   *\n",
            "*   *\n",
            "*   *\n",
            " ***"
          ]
        }
      ]
    },
    {
      "cell_type": "code",
      "source": [
        "n=3\n",
        "for i in range(1,n+1):\n",
        "  if(i==1 or i==n):\n",
        "     print(\"*\"*(n))\n",
        "  else:\n",
        "     print(\"*\"+\" \"+\"*\")"
      ],
      "metadata": {
        "colab": {
          "base_uri": "https://localhost:8080/"
        },
        "id": "ZXpPbbksfiB8",
        "outputId": "89f94da5-6a3a-4aff-8cdf-c08d9b3c5b6b"
      },
      "execution_count": 2,
      "outputs": [
        {
          "output_type": "stream",
          "name": "stdout",
          "text": [
            "***\n",
            "* *\n",
            "***\n"
          ]
        }
      ]
    },
    {
      "cell_type": "code",
      "source": [
        "n=4\n",
        "\n",
        "for i in range(1,8,2):\n",
        "   print((\" \")*(n),\"*\"*(i))\n",
        "   n=n-1"
      ],
      "metadata": {
        "colab": {
          "base_uri": "https://localhost:8080/"
        },
        "id": "-q_bTqrvfrrX",
        "outputId": "4c4ee7cb-49a3-4983-9bba-8e35bafe5123"
      },
      "execution_count": 1,
      "outputs": [
        {
          "output_type": "stream",
          "name": "stdout",
          "text": [
            "     *\n",
            "    ***\n",
            "   *****\n",
            "  *******\n"
          ]
        }
      ]
    }
  ]
}