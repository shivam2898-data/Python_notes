{
  "nbformat": 4,
  "nbformat_minor": 0,
  "metadata": {
    "colab": {
      "provenance": [],
      "authorship_tag": "ABX9TyMNkdcWOxGUhIfMOoolPvbW",
      "include_colab_link": true
    },
    "kernelspec": {
      "name": "python3",
      "display_name": "Python 3"
    },
    "language_info": {
      "name": "python"
    }
  },
  "cells": [
    {
      "cell_type": "markdown",
      "metadata": {
        "id": "view-in-github",
        "colab_type": "text"
      },
      "source": [
        "<a href=\"https://colab.research.google.com/github/shivam2898-data/Python_notes/blob/main/advance_function.ipynb\" target=\"_parent\"><img src=\"https://colab.research.google.com/assets/colab-badge.svg\" alt=\"Open In Colab\"/></a>"
      ]
    },
    {
      "cell_type": "code",
      "source": [
        "# lambda, filter, map"
      ],
      "metadata": {
        "id": "ZPD5T6oO6rGs"
      },
      "execution_count": null,
      "outputs": []
    },
    {
      "cell_type": "code",
      "execution_count": null,
      "metadata": {
        "colab": {
          "base_uri": "https://localhost:8080/"
        },
        "id": "MW6m4EVJ3Hl5",
        "outputId": "2d9a6837-ef8e-47d4-e6c2-2b1517ecf55a"
      },
      "outputs": [
        {
          "output_type": "stream",
          "name": "stdout",
          "text": [
            "sum 25\n",
            "product 48\n"
          ]
        }
      ],
      "source": [
        "#1 lambda\n",
        "a=lambda x:x+15\n",
        "b=lambda x,y:x*y\n",
        "print(\"sum\",a(10))\n",
        "print(\"product\",b(8,6))"
      ]
    },
    {
      "cell_type": "code",
      "source": [
        "#2lambda\n",
        "a=lambda x: x%2==0\n",
        "print(\"even\",a(18))"
      ],
      "metadata": {
        "colab": {
          "base_uri": "https://localhost:8080/"
        },
        "id": "HBmR6IEfKW2k",
        "outputId": "2e3fbc98-aeeb-4d58-b12b-b665515541a4"
      },
      "execution_count": null,
      "outputs": [
        {
          "output_type": "stream",
          "name": "stdout",
          "text": [
            "even True\n"
          ]
        }
      ]
    },
    {
      "cell_type": "code",
      "source": [
        "#3 lambda\n",
        "n=int(input(\"enter a number: \"))\n",
        "a=lambda x: x*2\n",
        "print(a(n))"
      ],
      "metadata": {
        "colab": {
          "base_uri": "https://localhost:8080/"
        },
        "id": "TNZBFutBKs1Y",
        "outputId": "e113be17-6ae5-41b5-ff58-458dfa2df212"
      },
      "execution_count": null,
      "outputs": [
        {
          "output_type": "stream",
          "name": "stdout",
          "text": [
            "enter a number: 7\n",
            "14\n"
          ]
        }
      ]
    },
    {
      "cell_type": "code",
      "source": [
        "#4\n",
        "b=lambda x:x**3\n",
        "pri"
      ],
      "metadata": {
        "id": "w_QDCWdjMVPr"
      },
      "execution_count": null,
      "outputs": []
    },
    {
      "cell_type": "code",
      "source": [
        "#1 filter\n",
        "a=[5,2,5,2,3,6,7,9]\n",
        "def great(a):\n",
        "  if( a>2):\n",
        "      return True\n",
        "  else:\n",
        "    False\n",
        "b=list(filter(great,a))\n",
        "print(b)"
      ],
      "metadata": {
        "colab": {
          "base_uri": "https://localhost:8080/"
        },
        "id": "eJGCTiXtLTe-",
        "outputId": "04b455a6-0d7f-4199-857b-4de8398b4613"
      },
      "execution_count": null,
      "outputs": [
        {
          "output_type": "stream",
          "name": "stdout",
          "text": [
            "[5, 5, 3, 6, 7, 9]\n"
          ]
        }
      ]
    },
    {
      "cell_type": "code",
      "source": [
        "#2 filter using lambda\n",
        "a=[10,12,23,14,26,28,34,57,45,43]\n",
        "even=list(filter(lambda x:(x%2==0),a))\n",
        "odd=list(filter(lambda x: (x%2!=0),a))\n",
        "print(even)\n",
        "print(odd)"
      ],
      "metadata": {
        "colab": {
          "base_uri": "https://localhost:8080/"
        },
        "id": "2CDJ7TRG5XCQ",
        "outputId": "6769dfe1-9dc5-4d08-eb99-da24a309c546"
      },
      "execution_count": null,
      "outputs": [
        {
          "output_type": "stream",
          "name": "stdout",
          "text": [
            "[10, 12, 14, 26, 28, 34]\n",
            "[23, 57, 45, 43]\n"
          ]
        }
      ]
    },
    {
      "cell_type": "code",
      "source": [
        "#3 filter\n",
        "a=[-1, 2, -3, 5, 7, 8, 9, -10]\n",
        "positive=list(filter(lambda x:(x>0),a))\n",
        "negative=list(filter(lambda x:(x<0),a))\n",
        "print(positive)\n",
        "print(negative)"
      ],
      "metadata": {
        "colab": {
          "base_uri": "https://localhost:8080/"
        },
        "id": "S38d9VH36peP",
        "outputId": "f69b5491-0c27-4837-9507-57228dc6fd4b"
      },
      "execution_count": null,
      "outputs": [
        {
          "output_type": "stream",
          "name": "stdout",
          "text": [
            "[2, 5, 7, 8, 9]\n",
            "[-1, -3, -10]\n"
          ]
        }
      ]
    },
    {
      "cell_type": "code",
      "source": [
        "#4filter\n",
        "a=['monday','tuesday','wednesday','thursday','friday','saturaday','sunday']\n",
        "letter=list(filter(lambda x:len(x)>6,a))\n",
        "word=list(filter(lambda x:len(x)==6,a))\n",
        "print(word)\n",
        "print(letter)"
      ],
      "metadata": {
        "colab": {
          "base_uri": "https://localhost:8080/"
        },
        "id": "mV2evXsA7gNm",
        "outputId": "6665738a-2b9c-411e-8a32-33f09ee696e8"
      },
      "execution_count": null,
      "outputs": [
        {
          "output_type": "stream",
          "name": "stdout",
          "text": [
            "['monday', 'friday', 'sunday']\n",
            "['tuesday', 'wednesday', 'thursday', 'saturaday']\n"
          ]
        }
      ]
    },
    {
      "cell_type": "code",
      "source": [
        "#4filter\n",
        "a=[19, 65, 57, 39, 152, 639, 121, 44, 90, 190]\n",
        "num=list(filter(lambda x:x%13==0,a))\n",
        "num2=list(filter(lambda x:x%19==0,a))\n",
        "print(num)\n",
        "print(num2)"
      ],
      "metadata": {
        "colab": {
          "base_uri": "https://localhost:8080/"
        },
        "id": "2-ZvCTQM9pDG",
        "outputId": "8a060c8d-6d14-45bb-d334-be4164c950ed"
      },
      "execution_count": null,
      "outputs": [
        {
          "output_type": "stream",
          "name": "stdout",
          "text": [
            "[65, 39]\n",
            "[19, 57, 152, 190]\n"
          ]
        }
      ]
    },
    {
      "cell_type": "code",
      "source": [
        "#map\n",
        "#Q1. Write a Python program to add two given lists using map and lambda\n",
        "a=[1, 2, 3]\n",
        "b=[4, 5, 6]\n",
        "sum=list(map(lambda x,y:x+y,a,b))\n",
        "print(sum)"
      ],
      "metadata": {
        "colab": {
          "base_uri": "https://localhost:8080/"
        },
        "id": "Ykqz_nxT80t5",
        "outputId": "aadddb89-fc51-479e-eb94-f6ccf9937c2e"
      },
      "execution_count": null,
      "outputs": [
        {
          "output_type": "stream",
          "name": "stdout",
          "text": [
            "[5, 7, 9]\n"
          ]
        }
      ]
    },
    {
      "cell_type": "code",
      "source": [
        "#2map\n",
        "a=[2, 4, 6, 9, 11]\n",
        "n=int(input(\"enter a number : \"))\n",
        "multi=list(map(lambda x:x*n,a))\n",
        "print(multi)"
      ],
      "metadata": {
        "colab": {
          "base_uri": "https://localhost:8080/"
        },
        "id": "O97Te_ho9bej",
        "outputId": "68922d3e-f2d6-4f8d-b90d-a1b03ae101d6"
      },
      "execution_count": null,
      "outputs": [
        {
          "output_type": "stream",
          "name": "stdout",
          "text": [
            "enter a number : 3\n",
            "[6, 12, 18, 27, 33]\n"
          ]
        }
      ]
    },
    {
      "cell_type": "code",
      "source": [
        "#3map\n",
        "a=['shivam','sam','ravi']\n",
        "upper=list(map(lambda x:x.upper(),a))\n",
        "print(upper)"
      ],
      "metadata": {
        "colab": {
          "base_uri": "https://localhost:8080/"
        },
        "id": "_3yw0UlQIsJZ",
        "outputId": "a1b882f6-fe9a-414c-d0c3-5e8fb45b41da"
      },
      "execution_count": null,
      "outputs": [
        {
          "output_type": "stream",
          "name": "stdout",
          "text": [
            "['SHIVAM', 'SAM', 'RAVI']\n"
          ]
        }
      ]
    },
    {
      "cell_type": "code",
      "source": [
        "#4map\n",
        "a=['sam','pallavi','raj','sonu']\n",
        "b=list(map(lambda x:x.replace('raj','ravi'),a))\n",
        "print(b)"
      ],
      "metadata": {
        "colab": {
          "base_uri": "https://localhost:8080/"
        },
        "id": "XrW0VcIFJW0f",
        "outputId": "403bc109-df9b-4f44-af79-048dab066017"
      },
      "execution_count": null,
      "outputs": [
        {
          "output_type": "stream",
          "name": "stdout",
          "text": [
            "['sam', 'pallavi', 'ravi', 'sonu']\n"
          ]
        }
      ]
    },
    {
      "cell_type": "code",
      "source": [
        "#5map\n",
        "a=[1,2,3,4]\n",
        "b=[4,5,6,7]\n",
        "multi=list(map(lambda x,y:x*y,a,b))\n",
        "print(multi)"
      ],
      "metadata": {
        "colab": {
          "base_uri": "https://localhost:8080/"
        },
        "id": "SudaYLisKArM",
        "outputId": "63298f99-5767-4088-e4f6-3b92e11d0da0"
      },
      "execution_count": null,
      "outputs": [
        {
          "output_type": "stream",
          "name": "stdout",
          "text": [
            "[4, 10, 18, 28]\n"
          ]
        }
      ]
    },
    {
      "cell_type": "code",
      "source": [
        "s=[('english',80),('science',84),('maths',89),('gk',45)]\n",
        "a=list(s)\n",
        "a.sort(key=lambda x:x[1])\n",
        "print(a)"
      ],
      "metadata": {
        "id": "6BeVVHGPKVaN",
        "colab": {
          "base_uri": "https://localhost:8080/"
        },
        "outputId": "1f7044d5-31fb-4fff-8814-bea2a6424044"
      },
      "execution_count": null,
      "outputs": [
        {
          "output_type": "stream",
          "name": "stdout",
          "text": [
            "[('gk', 45), ('english', 80), ('science', 84), ('maths', 89)]\n"
          ]
        }
      ]
    },
    {
      "cell_type": "code",
      "source": [
        "a=[2,4,6,8]\n",
        "multi=list(map(lambda x:x*3,a))\n",
        "print(multi)"
      ],
      "metadata": {
        "colab": {
          "base_uri": "https://localhost:8080/"
        },
        "id": "LV_hzv6EJwcV",
        "outputId": "f0dcdb6a-35de-4089-83f8-4901014e130f"
      },
      "execution_count": null,
      "outputs": [
        {
          "output_type": "stream",
          "name": "stdout",
          "text": [
            "[6, 12, 18, 24]\n"
          ]
        }
      ]
    },
    {
      "cell_type": "code",
      "source": [
        "a=[0,20,30,40]\n",
        "cel=list(map(lambda x:(x*9/5)+32,a))\n",
        "print(cel)"
      ],
      "metadata": {
        "colab": {
          "base_uri": "https://localhost:8080/"
        },
        "id": "i4aIB8ngJ5u2",
        "outputId": "da95b4e5-0416-477f-fc7e-2792695a71dc"
      },
      "execution_count": null,
      "outputs": [
        {
          "output_type": "stream",
          "name": "stdout",
          "text": [
            "[32.0, 68.0, 86.0, 104.0]\n"
          ]
        }
      ]
    },
    {
      "cell_type": "code",
      "source": [
        "a=[1,2,3,4]\n",
        "cube=list(map(lambda x:x*x*x,a))\n",
        "print(cube)"
      ],
      "metadata": {
        "colab": {
          "base_uri": "https://localhost:8080/"
        },
        "id": "BMHdHnfsKKSi",
        "outputId": "d81be40a-f0c3-47e2-a429-ebccfb5dfb2f"
      },
      "execution_count": null,
      "outputs": [
        {
          "output_type": "stream",
          "name": "stdout",
          "text": [
            "[1, 8, 27, 64]\n"
          ]
        }
      ]
    },
    {
      "cell_type": "code",
      "source": [
        "a=[10,15,23,35,47]\n",
        "divi=list(filter(lambda x:(x%5==0),a))\n",
        "print(divi)"
      ],
      "metadata": {
        "colab": {
          "base_uri": "https://localhost:8080/"
        },
        "id": "pSjVBSi4Kalb",
        "outputId": "ab0006f5-dfc2-42da-b652-eb915af4ab82"
      },
      "execution_count": null,
      "outputs": [
        {
          "output_type": "stream",
          "name": "stdout",
          "text": [
            "[10, 15, 35]\n"
          ]
        }
      ]
    },
    {
      "cell_type": "code",
      "source": [
        "a=[10,21,33,40]\n",
        "rem=list(map(lambda x:x%3,a))\n",
        "print(rem)"
      ],
      "metadata": {
        "colab": {
          "base_uri": "https://localhost:8080/"
        },
        "id": "_2dJLtwaKnM0",
        "outputId": "7d00015c-35a4-4dea-d74c-f285563c3bc2"
      },
      "execution_count": null,
      "outputs": [
        {
          "output_type": "stream",
          "name": "stdout",
          "text": [
            "[1, 0, 0, 1]\n"
          ]
        }
      ]
    },
    {
      "cell_type": "code",
      "source": [
        "a=['john','alexander','emma','olivia']\n",
        "b=list(filter(lambda x:len(x)>5,a))\n",
        "print(b)"
      ],
      "metadata": {
        "colab": {
          "base_uri": "https://localhost:8080/"
        },
        "id": "3D5m4mHFKyeJ",
        "outputId": "62d1db96-d47d-4040-9c0b-8f3a1c520a76"
      },
      "execution_count": null,
      "outputs": [
        {
          "output_type": "stream",
          "name": "stdout",
          "text": [
            "['alexander', 'olivia']\n"
          ]
        }
      ]
    },
    {
      "cell_type": "code",
      "source": [
        "a=['python','lambda','function']\n",
        "#b=list(a)\n",
        "c=list(map(lambda x:x[0],a))\n",
        "print(c)"
      ],
      "metadata": {
        "colab": {
          "base_uri": "https://localhost:8080/"
        },
        "id": "opccoEbMLbyJ",
        "outputId": "89709b42-131b-4b49-f3bb-0439ba82c286"
      },
      "execution_count": null,
      "outputs": [
        {
          "output_type": "stream",
          "name": "stdout",
          "text": [
            "['p', 'l', 'f']\n"
          ]
        }
      ]
    },
    {
      "cell_type": "code",
      "source": [
        "a=['alice','bob','charlie']\n",
        "b=list(a)\n",
        "c=list(map(lambda x: 'hello '+x,a))\n",
        "print(c)"
      ],
      "metadata": {
        "colab": {
          "base_uri": "https://localhost:8080/"
        },
        "id": "LbJK-dDvLppV",
        "outputId": "4fc8517d-03fc-4c53-ec2f-7376166e20c4"
      },
      "execution_count": null,
      "outputs": [
        {
          "output_type": "stream",
          "name": "stdout",
          "text": [
            "['hello alice', 'hello bob', 'hello charlie']\n"
          ]
        }
      ]
    },
    {
      "cell_type": "code",
      "source": [
        "a=['apple','grape','kiwi','mango']\n",
        "b=list(filter(lambda x: 'e'in x,a))\n",
        "print(b)"
      ],
      "metadata": {
        "colab": {
          "base_uri": "https://localhost:8080/"
        },
        "id": "LqL4UeToL5Tu",
        "outputId": "72ee9ba8-1659-413c-cb08-259aa7e906ae"
      },
      "execution_count": null,
      "outputs": [
        {
          "output_type": "stream",
          "name": "stdout",
          "text": [
            "['apple', 'grape']\n"
          ]
        }
      ]
    },
    {
      "cell_type": "code",
      "source": [
        "a=[1,4,7,9,16,20,25]\n",
        "square=list(filter(lambda x:(x**0.5)**2==x,a))\n",
        "print(square)"
      ],
      "metadata": {
        "colab": {
          "base_uri": "https://localhost:8080/"
        },
        "id": "wppSLzPeMI3O",
        "outputId": "66075a2f-94c4-4014-ad57-3cac87dfaec3"
      },
      "execution_count": null,
      "outputs": [
        {
          "output_type": "stream",
          "name": "stdout",
          "text": [
            "[1, 4, 9, 16, 25]\n"
          ]
        }
      ]
    },
    {
      "cell_type": "code",
      "source": [
        "a=['python','lambda','function']\n",
        "#b=list(a)\n",
        "c=list(map(lambda x:len(x),a))\n",
        "print(c)"
      ],
      "metadata": {
        "id": "URW8IbZYPPQ6",
        "colab": {
          "base_uri": "https://localhost:8080/"
        },
        "outputId": "9cba4d34-1ebc-47c3-e8bc-96d5b9cfc95b"
      },
      "execution_count": null,
      "outputs": [
        {
          "output_type": "stream",
          "name": "stdout",
          "text": [
            "[6, 6, 8]\n"
          ]
        }
      ]
    },
    {
      "cell_type": "code",
      "source": [
        "a=['alice','bob','charlie']\n",
        "word=list(map(lambda x: len(x),a))\n",
        "print(word)"
      ],
      "metadata": {
        "colab": {
          "base_uri": "https://localhost:8080/"
        },
        "id": "9wmXlKKaYnBO",
        "outputId": "7473610e-f8a3-486a-b451-a294aa81dea5"
      },
      "execution_count": null,
      "outputs": [
        {
          "output_type": "stream",
          "name": "stdout",
          "text": [
            "[5, 3, 7]\n"
          ]
        }
      ]
    },
    {
      "cell_type": "code",
      "source": [
        "a=['4','16','25','36','49']\n",
        "b=list(map(int,a))\n",
        "square=list(map(lambda x: (x**0.5),b))\n",
        "print(square)"
      ],
      "metadata": {
        "colab": {
          "base_uri": "https://localhost:8080/"
        },
        "id": "x_XvfFMlaZc1",
        "outputId": "e6e16d6d-946d-4fa0-9362-f81e7db38771"
      },
      "execution_count": null,
      "outputs": [
        {
          "output_type": "stream",
          "name": "stdout",
          "text": [
            "[2.0, 4.0, 5.0, 6.0, 7.0]\n"
          ]
        }
      ]
    },
    {
      "cell_type": "code",
      "source": [
        "a=['4','16','25','36','49']\n",
        "b=list(map(int,a))\n",
        "print(b)"
      ],
      "metadata": {
        "colab": {
          "base_uri": "https://localhost:8080/"
        },
        "id": "6JHbNn7_cRvF",
        "outputId": "f328816d-b7a8-4171-ce59-f65d35d0841a"
      },
      "execution_count": null,
      "outputs": [
        {
          "output_type": "stream",
          "name": "stdout",
          "text": [
            "[4, 16, 25, 36, 49]\n"
          ]
        }
      ]
    },
    {
      "cell_type": "code",
      "source": [
        "a=['shivam@gamil','gudduyahoo','sam@facbook']\n",
        "b=list(filter(lambda x: '@'in x,a))\n",
        "print(b)"
      ],
      "metadata": {
        "colab": {
          "base_uri": "https://localhost:8080/"
        },
        "id": "la9Nl3zgcsud",
        "outputId": "a7a384c5-a559-4adb-ea53-bea8f29cfae9"
      },
      "execution_count": null,
      "outputs": [
        {
          "output_type": "stream",
          "name": "stdout",
          "text": [
            "['shivam@gamil', 'sam@facbook']\n"
          ]
        }
      ]
    }
  ]
}