{
  "cells": [
    {
      "cell_type": "markdown",
      "metadata": {
        "id": "view-in-github",
        "colab_type": "text"
      },
      "source": [
        "<a href=\"https://colab.research.google.com/github/shivam2898-data/Python_notes/blob/main/functions.ipynb\" target=\"_parent\"><img src=\"https://colab.research.google.com/assets/colab-badge.svg\" alt=\"Open In Colab\"/></a>"
      ]
    },
    {
      "cell_type": "code",
      "execution_count": null,
      "metadata": {
        "id": "LTLwLDbmJljH"
      },
      "outputs": [],
      "source": [
        "#function in python\n",
        "# reuseable block of code---->store specific condition---->function"
      ]
    },
    {
      "cell_type": "code",
      "execution_count": null,
      "metadata": {
        "id": "ciorKDkUOAA1"
      },
      "outputs": [],
      "source": [
        "#types of function in available in python\n",
        "#1 pre definied function\n",
        "# print(),count(),min(),max()\n",
        "\n",
        "#2 manually created function\n",
        "#1 def\n",
        "#2 name_of_name()\n",
        "#3 logic_of_function_creation\n",
        "#4 call_function(name_of_function())"
      ]
    },
    {
      "cell_type": "code",
      "execution_count": null,
      "metadata": {
        "id": "Q5KHUwBfOibS"
      },
      "outputs": [],
      "source": [
        "#syntax\n",
        "# def name_of_function():\n",
        "#   logics\n",
        "# name_of_function()"
      ]
    },
    {
      "cell_type": "code",
      "execution_count": null,
      "metadata": {
        "colab": {
          "base_uri": "https://localhost:8080/"
        },
        "id": "M11eK85qOxRc",
        "outputId": "c2793d81-f482-4aa7-97e4-92e5e3c5be86"
      },
      "outputs": [
        {
          "name": "stdout",
          "output_type": "stream",
          "text": [
            "enter first number :10\n",
            "enter second number :15\n",
            "addition 25\n"
          ]
        }
      ],
      "source": [
        "#Q1 write a program using function that add 2 user definied number?\n",
        "\n",
        "def myadd():\n",
        "  a=int(input(\"enter first number :\"))\n",
        "  b=int(input(\"enter second number :\"))\n",
        "  c=a+b\n",
        "  print(\"addition\",c)\n",
        "myadd()\n"
      ]
    },
    {
      "cell_type": "code",
      "execution_count": null,
      "metadata": {
        "id": "npyOM1eiPh-K"
      },
      "outputs": [],
      "source": [
        "#parametes and arugments\n",
        "#parameters---> these are the value which pass when we create a function\n",
        "#arguments---> these are the value which pass when we call a function"
      ]
    },
    {
      "cell_type": "code",
      "execution_count": null,
      "metadata": {
        "colab": {
          "base_uri": "https://localhost:8080/"
        },
        "id": "j3Zn4bzJP6aC",
        "outputId": "392690ed-7530-47f4-d69a-6c395209d0aa"
      },
      "outputs": [
        {
          "name": "stdout",
          "output_type": "stream",
          "text": [
            "addition 25\n"
          ]
        }
      ],
      "source": [
        "def myadd(a,b):#here (a,b)parameters\n",
        "  c=a+b\n",
        "  print(\"addition\",c)\n",
        "myadd(10,15)  #here (10.15) argument\n"
      ]
    },
    {
      "cell_type": "code",
      "execution_count": null,
      "metadata": {
        "colab": {
          "base_uri": "https://localhost:8080/"
        },
        "id": "hQRoC938QRWc",
        "outputId": "4404a2a1-f953-4da8-ee5c-2a53646c82c0"
      },
      "outputs": [
        {
          "name": "stdout",
          "output_type": "stream",
          "text": [
            "enter first number :12\n",
            "even\n"
          ]
        }
      ],
      "source": [
        "#Q2 write a program who check given number is odd or even?\n",
        "\n",
        "def oddeve():\n",
        "  a=int(input(\"enter number :\"))\n",
        "  if(a%2==0):\n",
        "    print(\"even\")\n",
        "  else:\n",
        "    print(\"odd\")\n",
        "oddeve()\n",
        "\n",
        "\n",
        "#method2\n",
        "\n",
        "def oddeve(a):\n",
        "  if(a%2==0):\n",
        "    print(\"even\")\n",
        "  else:\n",
        "    print(\"odd\")\n",
        "oddeve(12)"
      ]
    },
    {
      "cell_type": "code",
      "execution_count": null,
      "metadata": {
        "colab": {
          "base_uri": "https://localhost:8080/"
        },
        "id": "HcAjmkp7Q-vM",
        "outputId": "8d8401ca-4401-44e7-b0ed-40dbee09aea2"
      },
      "outputs": [
        {
          "name": "stdout",
          "output_type": "stream",
          "text": [
            "armstrong\n"
          ]
        }
      ],
      "source": [
        "#Q3armstrong number\n",
        "\n",
        "def arm_num(a):\n",
        "\n",
        "  sum=0\n",
        "  b=a\n",
        "  while(a>0) :\n",
        "    sum=sum+(a%10)**3\n",
        "    a=a//10\n",
        "  if(sum==b):\n",
        "     print(\"armstrong\")\n",
        "  else:\n",
        "    print(\"not armstrong\")\n",
        "\n",
        "arm_num(153)"
      ]
    },
    {
      "cell_type": "code",
      "execution_count": null,
      "metadata": {
        "colab": {
          "base_uri": "https://localhost:8080/"
        },
        "id": "Bjhhb9cAR_D_",
        "outputId": "13667406-8978-4b68-c7d2-dd227cd3f085"
      },
      "outputs": [
        {
          "name": "stdout",
          "output_type": "stream",
          "text": [
            "palindrome\n"
          ]
        }
      ],
      "source": [
        "#Q4 palindrome\n",
        "def palindrome(a):\n",
        "  rev=0\n",
        "  b=a\n",
        "  while(a>0):\n",
        "    digit=a%10\n",
        "    rev=rev*10+digit\n",
        "    a=a//10\n",
        "  if(rev==b):\n",
        "    print(\"palindrome\")\n",
        "  else:\n",
        "    print(\"not palindrome\")\n",
        "\n",
        "palindrome(121)"
      ]
    },
    {
      "cell_type": "code",
      "execution_count": null,
      "metadata": {
        "colab": {
          "base_uri": "https://localhost:8080/"
        },
        "id": "6qDdyfMhSgnB",
        "outputId": "ec8fe972-6033-472e-8a09-652cb4dbcf20"
      },
      "outputs": [
        {
          "name": "stdout",
          "output_type": "stream",
          "text": [
            "9\n",
            "13\n",
            "14\n"
          ]
        }
      ],
      "source": [
        "#Q5 sum of square\n",
        "def sum_sqaure(a):\n",
        "    sum=0\n",
        "    while(a>0):\n",
        "      digit=a%10\n",
        "      sum=sum+(digit)**2\n",
        "      a=a//10\n",
        "      print(sum)\n",
        "sum_sqaure(123)"
      ]
    },
    {
      "cell_type": "code",
      "execution_count": null,
      "metadata": {
        "colab": {
          "base_uri": "https://localhost:8080/"
        },
        "id": "G_GP6DQ5VHhc",
        "outputId": "a8fc90c6-23e4-463b-9f75-9cb335636167"
      },
      "outputs": [
        {
          "output_type": "stream",
          "name": "stdout",
          "text": [
            "enter a number : 123\n",
            "321\n"
          ]
        }
      ],
      "source": [
        "#Q6 reverse\n",
        "def rev(a):##parameters and arguments\n",
        "  rev=0\n",
        "  while(a>0):\n",
        "    digit=a%10\n",
        "    rev=rev*10+digit\n",
        "    a=a//10\n",
        "  print(rev)\n",
        "rev(int(input(\"enter a number : \")))"
      ]
    },
    {
      "cell_type": "code",
      "execution_count": null,
      "metadata": {
        "colab": {
          "base_uri": "https://localhost:8080/"
        },
        "id": "ttYmqrVGZR4_",
        "outputId": "faa2ca80-020a-4e87-ffff-6d48634b5ae4"
      },
      "outputs": [
        {
          "name": "stdout",
          "output_type": "stream",
          "text": [
            "enter a number : 15\n",
            " not prime\n"
          ]
        }
      ],
      "source": [
        "#check prime number\n",
        "def check_prime():\n",
        "  n=int(input(\"enter a number : \"))\n",
        "  count=0\n",
        "  for i in range(2,n):\n",
        "    if(n%i==0):\n",
        "      count+=1\n",
        "  if(count>0):\n",
        "    print(\" not prime\")\n",
        "  else:\n",
        "    print(\"prime\")\n",
        "check_prime()"
      ]
    },
    {
      "cell_type": "code",
      "execution_count": null,
      "metadata": {
        "colab": {
          "base_uri": "https://localhost:8080/"
        },
        "id": "9bMijwRMa6TB",
        "outputId": "9f28535a-04b6-4937-f1c6-0020fde3f364"
      },
      "outputs": [
        {
          "name": "stdout",
          "output_type": "stream",
          "text": [
            "*  \n",
            "**  \n",
            "***  \n",
            "****  \n"
          ]
        }
      ],
      "source": [
        "#pattern1\n",
        "def tri_pattern(n):\n",
        " for i in range(1,n+1):\n",
        "   for j in range(i,i+1):\n",
        "     print(\"*\"*i,end=\" \")\n",
        "     print(\" \")\n",
        "tri_pattern(4)"
      ]
    },
    {
      "cell_type": "code",
      "execution_count": null,
      "metadata": {
        "colab": {
          "base_uri": "https://localhost:8080/"
        },
        "id": "CMLp-_ZMc-YE",
        "outputId": "43b1d691-1b5c-45a2-9092-a9fd6f1fb4d1"
      },
      "outputs": [
        {
          "name": "stdout",
          "output_type": "stream",
          "text": [
            "**** \n",
            "*** \n",
            "** \n",
            "* \n"
          ]
        }
      ],
      "source": [
        "def pattern(n):\n",
        "#n=4\n",
        " for i in range(4,0,-1):\n",
        "  for j in range(i,i+1):\n",
        "    print(\"*\"*j,end=\"\")\n",
        "    print(\" \")\n",
        "pattern(4)"
      ]
    },
    {
      "cell_type": "code",
      "execution_count": null,
      "metadata": {
        "colab": {
          "base_uri": "https://localhost:8080/"
        },
        "id": "ZGP1_izkdtv9",
        "outputId": "47bce21a-2cda-4885-b179-ab8ee7b1ee2e"
      },
      "outputs": [
        {
          "output_type": "stream",
          "name": "stdout",
          "text": [
            "enter a number : 4\n",
            " ****\n",
            "  ***\n",
            "   **\n",
            "    *\n"
          ]
        }
      ],
      "source": [
        "def pattern():\n",
        "  n=int(input(\"enter a number : \"))\n",
        "  for i in range(n,0,-1):\n",
        "    print(\" \"*(n-i),\"*\"*i)\n",
        "\n",
        "pattern()"
      ]
    },
    {
      "cell_type": "code",
      "source": [
        "#check LCM\n",
        "def check_lcm():\n",
        "  n1=int(input(\"enter first number : \"))\n",
        "  n2=int(input(\"enter second number : \"))\n",
        "  i=2\n",
        "  lcm=1\n",
        "  while(n1>1 or n2>1):\n",
        "      if(n1%i==0 or n2%i==0):\n",
        "          if(n1%i==0):\n",
        "            n1=n1/i\n",
        "          if(n2%i==0):\n",
        "            n2=n2/i\n",
        "          lcm=lcm*i\n",
        "      else:\n",
        "          i+=1\n",
        "  print(lcm)\n",
        "check_lcm()\n",
        "\n"
      ],
      "metadata": {
        "colab": {
          "base_uri": "https://localhost:8080/"
        },
        "id": "uyI3a_vpgxSe",
        "outputId": "1e43c366-118e-4d94-9e1c-4776e12df037"
      },
      "execution_count": null,
      "outputs": [
        {
          "output_type": "stream",
          "name": "stdout",
          "text": [
            "enter first number : 4\n",
            "enter second number : 5\n",
            "20\n"
          ]
        }
      ]
    },
    {
      "cell_type": "code",
      "source": [
        "#check lcm\n",
        "def check_lcm():\n",
        "  n1=int(input(\"enter first number : \"))\n",
        "  n2=int(input(\"enter second number : \"))\n",
        "  i=2\n",
        "  lcm=1\n",
        "  while(n1>1 or n2>1):\n",
        "      if(n1%i==0 or n2%i==0):\n",
        "          if(n1%i==0):\n",
        "            n1=n1/i\n",
        "          if(n2%i==0):\n",
        "            n2=n2/i\n",
        "          lcm=lcm*i\n",
        "      else:\n",
        "          i+=1\n",
        "  print(lcm)\n",
        "check_lcm()\n"
      ],
      "metadata": {
        "colab": {
          "base_uri": "https://localhost:8080/"
        },
        "id": "FkobPfJrlxXL",
        "outputId": "6b3165f5-605c-4c11-8922-a89ed6be554f"
      },
      "execution_count": null,
      "outputs": [
        {
          "output_type": "stream",
          "name": "stdout",
          "text": [
            "enter first number : 12\n",
            "enter second number : 15\n",
            "60\n"
          ]
        }
      ]
    },
    {
      "cell_type": "code",
      "source": [
        "#check hcf\n",
        "def check_hcf():\n",
        "  n1=int(input(\"enter first number : \"))\n",
        "  n2=int(input(\"enter second number : \"))\n",
        "  i=2\n",
        "  hcf=1\n",
        "  while(n1>=i and n2>=i):\n",
        "      if(n1%i==0 and n2%i==0):\n",
        "          if(n1%i==0):\n",
        "            n1=n1/i\n",
        "          if(n2%i==0):\n",
        "            n2=n2/i\n",
        "          hcf=hcf*i\n",
        "      else:\n",
        "          i+=1\n",
        "  print(hcf)\n",
        "check_hcf()"
      ],
      "metadata": {
        "colab": {
          "base_uri": "https://localhost:8080/"
        },
        "id": "qn9ctK4Qj-Vn",
        "outputId": "f9de6b49-e123-442a-929c-f8708b160157"
      },
      "execution_count": null,
      "outputs": [
        {
          "output_type": "stream",
          "name": "stdout",
          "text": [
            "enter first number : 12\n",
            "enter second number : 15\n",
            "3\n"
          ]
        }
      ]
    },
    {
      "cell_type": "code",
      "source": [
        "# non-prime number range\n",
        "def non_prime_range():\n",
        "  fn=int(input(\"enter first number : \"))\n",
        "  ln=int(input(\"enter last number : \"))\n",
        "  for n in range(fn,ln+1):\n",
        "    count=0\n",
        "    for i in range(2,n):\n",
        "       if(n%i==0):\n",
        "        count+=1\n",
        "    if(count>0):\n",
        "     print(n)\n",
        "non_prime_range()\n"
      ],
      "metadata": {
        "colab": {
          "base_uri": "https://localhost:8080/"
        },
        "id": "N_itBcahlUfm",
        "outputId": "905abd39-c7ef-4dca-e955-850a8eeefcc0"
      },
      "execution_count": null,
      "outputs": [
        {
          "output_type": "stream",
          "name": "stdout",
          "text": [
            "enter first number : 2\n",
            "enter last number : 20\n",
            "4\n",
            "6\n",
            "8\n",
            "9\n",
            "10\n",
            "12\n",
            "14\n",
            "15\n",
            "16\n",
            "18\n",
            "20\n"
          ]
        }
      ]
    },
    {
      "cell_type": "code",
      "source": [
        "#write a program using function who can add sum of digits?\n",
        "def sum_of_dig():\n",
        "  i=123\n",
        "  sum=0\n",
        "  while(i>0):\n",
        "    d=i%10\n",
        "    i=i//10\n",
        "    sum=sum+d\n",
        "  print(sum)\n",
        "sum_of_dig()"
      ],
      "metadata": {
        "colab": {
          "base_uri": "https://localhost:8080/"
        },
        "id": "r0SYAigRZfMb",
        "outputId": "fa62ab2c-7e55-4b85-a472-2ac7f07fbb8a"
      },
      "execution_count": null,
      "outputs": [
        {
          "output_type": "stream",
          "name": "stdout",
          "text": [
            "6\n"
          ]
        }
      ]
    },
    {
      "cell_type": "code",
      "source": [
        "#parameters and arguments\n",
        "def sum_of_dig(a):\n",
        "  sum=0\n",
        "  while(a>0):#while loop\n",
        "    d=a%10\n",
        "    a=a//10\n",
        "    sum=sum+d\n",
        "  print(sum)\n",
        "sum_of_dig(123)\n"
      ],
      "metadata": {
        "colab": {
          "base_uri": "https://localhost:8080/"
        },
        "id": "VO3eCQxjdPtP",
        "outputId": "12680f94-fd6b-49bc-ceb4-e6e6565428b1"
      },
      "execution_count": null,
      "outputs": [
        {
          "output_type": "stream",
          "name": "stdout",
          "text": [
            "6\n"
          ]
        }
      ]
    },
    {
      "cell_type": "code",
      "source": [
        "#write a program sum of digit using for loop?\n",
        "i=123\n",
        "b=str(i)#convert into string\n",
        "sum=0\n",
        "for b in range(len(b)):\n",
        "  sum=sum+(i%10)\n",
        "  i=i//10\n",
        "print(sum)"
      ],
      "metadata": {
        "colab": {
          "base_uri": "https://localhost:8080/"
        },
        "id": "2SBwxUO2dxw4",
        "outputId": "03139940-a2be-4a79-9f6f-23206f880465"
      },
      "execution_count": null,
      "outputs": [
        {
          "output_type": "stream",
          "name": "stdout",
          "text": [
            "6\n"
          ]
        }
      ]
    },
    {
      "cell_type": "code",
      "source": [
        "#sum of even number and sum of odd number\n",
        "def checker():\n",
        "  i=1234\n",
        "  even=0\n",
        "  odd=0\n",
        "  while(i>0):\n",
        "    d=i%10\n",
        "    if(d%2==0):\n",
        "      even=even+d\n",
        "    else:\n",
        "      odd=odd+d\n",
        "    i=i//10\n",
        "  print(\"sum of even\",even,\"sum of odd\",odd)\n",
        "checker()"
      ],
      "metadata": {
        "colab": {
          "base_uri": "https://localhost:8080/"
        },
        "id": "U16T0ehKm5-m",
        "outputId": "baf2f54c-5281-4b0c-9ee9-6e8964d1174d"
      },
      "execution_count": null,
      "outputs": [
        {
          "output_type": "stream",
          "name": "stdout",
          "text": [
            "sum of even 6 sum of odd 4\n"
          ]
        }
      ]
    },
    {
      "cell_type": "code",
      "source": [
        "#using for loop sum of even number and sum of odd number\n",
        "a=1234\n",
        "b=str(a)\n",
        "even=0\n",
        "odd=0\n",
        "for i in range(len(b)):\n",
        "  c=int(b[i])\n",
        "  if(c%2==0):\n",
        "    even=even+c\n",
        "  else:\n",
        "    odd=odd+c\n",
        "print(even,odd)"
      ],
      "metadata": {
        "id": "HwVoI6r7pgk1",
        "colab": {
          "base_uri": "https://localhost:8080/"
        },
        "outputId": "39f2989b-d8e7-45af-e6a0-265f765f9000"
      },
      "execution_count": null,
      "outputs": [
        {
          "output_type": "stream",
          "name": "stdout",
          "text": [
            "6 4\n"
          ]
        }
      ]
    },
    {
      "cell_type": "code",
      "source": [
        "#lambda function: a lambda function can take any number of arguement but can only have a one expression.\n",
        "syntax:lambda function :lambda arguments\n",
        "\n",
        "\n",
        "Q1\n",
        "x=lambda a: a+5\n",
        "print(\"total value\",x(2))\n"
      ],
      "metadata": {
        "id": "RnoHccyOh-eT"
      },
      "execution_count": null,
      "outputs": []
    },
    {
      "cell_type": "code",
      "source": [
        "x=lambda a,b: a*b\n",
        "print(\"product\",x(5,4))"
      ],
      "metadata": {
        "id": "QaHCxreEnq9C"
      },
      "execution_count": null,
      "outputs": []
    },
    {
      "cell_type": "code",
      "source": [
        "x=lambda a,b,c: a+b-c\n",
        "print(\"solution\",x(9,4,2))"
      ],
      "metadata": {
        "id": "PBXlGIAtn3HB"
      },
      "execution_count": null,
      "outputs": []
    },
    {
      "cell_type": "code",
      "source": [
        "#filter function: the filter function returns a iterator where the item are filtered through function to test, if the item is accpeted return true or false\n",
        "\n",
        "#Q1\n",
        "ages=[5,12,17,18,34,56,89]\n",
        "def myfun(x):\n",
        "  if(x>=18):\n",
        "    return True\n",
        "  else:\n",
        "    return False\n",
        "\n",
        "young=list(filter(myfun,ages))\n",
        "print(young)#output will print in list form"
      ],
      "metadata": {
        "colab": {
          "base_uri": "https://localhost:8080/"
        },
        "id": "KJlDIjoDn_FS",
        "outputId": "549e6ae3-6746-4214-b22e-f9243b57e111"
      },
      "execution_count": null,
      "outputs": [
        {
          "output_type": "stream",
          "name": "stdout",
          "text": [
            "[18, 34, 56, 89]\n"
          ]
        }
      ]
    },
    {
      "cell_type": "code",
      "source": [
        "#map function: the map() executes a specified function for each item in a iterable. the item is sent to the function as a parameters\n",
        "a=[\"3\",\"45\",\"87\"]\n",
        "b=list(map(int,a))\n",
        "print(b)"
      ],
      "metadata": {
        "colab": {
          "base_uri": "https://localhost:8080/"
        },
        "id": "SXc8m6gCpHkH",
        "outputId": "da196e99-7e60-4bc5-d6af-b32f8ee2a8d5"
      },
      "execution_count": null,
      "outputs": [
        {
          "output_type": "stream",
          "name": "stdout",
          "text": [
            "[3, 45, 87]\n"
          ]
        }
      ]
    },
    {
      "cell_type": "code",
      "source": [
        "a=[1,2,3,4,5]\n",
        "def squa(a):\n",
        "  return a*a\n",
        "square=list(map(squa,a))\n",
        "print(square)\n"
      ],
      "metadata": {
        "colab": {
          "base_uri": "https://localhost:8080/"
        },
        "id": "Lvvp4rjwp2ZM",
        "outputId": "a228af6e-d2a8-4a5d-9e30-3aad253e4b73"
      },
      "execution_count": null,
      "outputs": [
        {
          "output_type": "stream",
          "name": "stdout",
          "text": [
            "[1, 4, 9, 16, 25]\n"
          ]
        }
      ]
    },
    {
      "cell_type": "code",
      "source": [
        "a=[1,2,3,4,5]\n",
        "square=list(map(lambda x: x*x,a))\n",
        "print(square)"
      ],
      "metadata": {
        "colab": {
          "base_uri": "https://localhost:8080/"
        },
        "id": "5_NOQZtMqQo5",
        "outputId": "33892472-4575-48cf-b9ca-0a91917277dc"
      },
      "execution_count": null,
      "outputs": [
        {
          "output_type": "stream",
          "name": "stdout",
          "text": [
            "[1, 4, 9, 16, 25]\n"
          ]
        }
      ]
    },
    {
      "cell_type": "code",
      "source": [
        "a=[1,2,3,4,5]\n",
        "def cube(a):\n",
        "  return a*a*a\n",
        "cube=list(map(cube,a))\n",
        "print(cube)"
      ],
      "metadata": {
        "colab": {
          "base_uri": "https://localhost:8080/"
        },
        "id": "3OSJfEoTq-n0",
        "outputId": "5a861a34-db7d-466d-d2f1-b5e3f72d40c3"
      },
      "execution_count": null,
      "outputs": [
        {
          "output_type": "stream",
          "name": "stdout",
          "text": [
            "[1, 8, 27, 64, 125]\n"
          ]
        }
      ]
    },
    {
      "cell_type": "code",
      "source": [
        "a=[\"banana\",\"cherry\",\"apple\"]\n",
        "b=list(map(lambda x:x.upper(),a))\n",
        "print(b)"
      ],
      "metadata": {
        "colab": {
          "base_uri": "https://localhost:8080/"
        },
        "id": "26MxCiearSHT",
        "outputId": "12cb03e7-4e62-465f-b758-7724fbf67701"
      },
      "execution_count": null,
      "outputs": [
        {
          "output_type": "stream",
          "name": "stdout",
          "text": [
            "['BANANA', 'CHERRY', 'APPLE']\n"
          ]
        }
      ]
    },
    {
      "cell_type": "code",
      "source": [
        "a=[\"banana\",\"cherry\",\"apple\"]\n",
        "b=str(a)\n",
        "print(b.upper())"
      ],
      "metadata": {
        "colab": {
          "base_uri": "https://localhost:8080/"
        },
        "id": "kbnmMFb6rtWI",
        "outputId": "fc294501-48a4-4d6d-8fd3-fa984036972a"
      },
      "execution_count": null,
      "outputs": [
        {
          "output_type": "stream",
          "name": "stdout",
          "text": [
            "['BANANA', 'CHERRY', 'APPLE']\n"
          ]
        }
      ]
    },
    {
      "cell_type": "code",
      "source": [
        "a=[10,20,30]\n",
        "b=list(map(str,a))\n",
        "print(b)\n"
      ],
      "metadata": {
        "colab": {
          "base_uri": "https://localhost:8080/"
        },
        "id": "EBfgpMBksWzF",
        "outputId": "c7e57415-0d16-4291-8c25-ff40113eaf64"
      },
      "execution_count": null,
      "outputs": [
        {
          "output_type": "stream",
          "name": "stdout",
          "text": [
            "['10', '20', '30']\n"
          ]
        }
      ]
    },
    {
      "cell_type": "code",
      "source": [
        "a=['hello','world','python']\n",
        "b=list(map(lambda x:len(x),a))\n",
        "print(b)\n"
      ],
      "metadata": {
        "colab": {
          "base_uri": "https://localhost:8080/"
        },
        "id": "4gScFvRjtLcc",
        "outputId": "b8ccbac8-9e73-42d5-c419-385559e21134"
      },
      "execution_count": null,
      "outputs": [
        {
          "output_type": "stream",
          "name": "stdout",
          "text": [
            "[5, 5, 6]\n"
          ]
        }
      ]
    },
    {
      "cell_type": "code",
      "source": [
        "a=[1,3,5,7]\n",
        "def double(a):\n",
        "  return a*2\n",
        "double=list(map(double,a))\n",
        "print(double)"
      ],
      "metadata": {
        "colab": {
          "base_uri": "https://localhost:8080/"
        },
        "id": "NpAmx2gjt6aD",
        "outputId": "0f8f7e77-6c26-44a1-bb4c-9f3b19f02e34"
      },
      "execution_count": null,
      "outputs": [
        {
          "output_type": "stream",
          "name": "stdout",
          "text": [
            "[2, 6, 10, 14]\n"
          ]
        }
      ]
    },
    {
      "cell_type": "code",
      "source": [
        "a=[1,2,3,4,5,6]\n",
        "def eve(a):\n",
        "  if(a%2==0):\n",
        "    return True\n",
        "  else:\n",
        "    False\n",
        "even=list(filter(eve,a))\n",
        "print(even)"
      ],
      "metadata": {
        "colab": {
          "base_uri": "https://localhost:8080/"
        },
        "id": "3g9LV4qdvPs0",
        "outputId": "6458ffcb-ff3c-41e0-c1e7-750946f927a0"
      },
      "execution_count": null,
      "outputs": [
        {
          "output_type": "stream",
          "name": "stdout",
          "text": [
            "[2, 4, 6]\n"
          ]
        }
      ]
    }
  ],
  "metadata": {
    "colab": {
      "provenance": [],
      "authorship_tag": "ABX9TyNWtQ2dEiDZhTkqewL+8cdt",
      "include_colab_link": true
    },
    "kernelspec": {
      "display_name": "Python 3",
      "name": "python3"
    },
    "language_info": {
      "name": "python"
    }
  },
  "nbformat": 4,
  "nbformat_minor": 0
}