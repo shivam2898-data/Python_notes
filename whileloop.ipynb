{
  "cells": [
    {
      "cell_type": "markdown",
      "metadata": {
        "id": "view-in-github",
        "colab_type": "text"
      },
      "source": [
        "<a href=\"https://colab.research.google.com/github/shivam2898-data/Python_notes/blob/main/whileloop.ipynb\" target=\"_parent\"><img src=\"https://colab.research.google.com/assets/colab-badge.svg\" alt=\"Open In Colab\"/></a>"
      ]
    },
    {
      "cell_type": "code",
      "execution_count": null,
      "id": "20bb4f48",
      "metadata": {
        "id": "20bb4f48"
      },
      "outputs": [],
      "source": [
        "# while Loop\n",
        "\n",
        "# (1). Initialization\n",
        "# (2). Condition\n",
        "# (3). Increment or decrement"
      ]
    },
    {
      "cell_type": "code",
      "execution_count": null,
      "id": "fb470650",
      "metadata": {
        "id": "fb470650"
      },
      "outputs": [],
      "source": [
        "# Q.1 Write a program who print from 1 to 5 ?"
      ]
    },
    {
      "cell_type": "code",
      "execution_count": null,
      "id": "c3f600e0",
      "metadata": {
        "id": "c3f600e0",
        "outputId": "17f482d0-f954-4fac-fa7e-9884e60c07df"
      },
      "outputs": [
        {
          "name": "stdout",
          "output_type": "stream",
          "text": [
            "1\n",
            "2\n",
            "3\n",
            "4\n",
            "5\n"
          ]
        }
      ],
      "source": [
        "i = 1     ###Initialization\n",
        "n = 5\n",
        "while(i<=n):    ##Condition\n",
        "    print(i)\n",
        "    i = i + 1     ##Increment"
      ]
    },
    {
      "cell_type": "code",
      "execution_count": null,
      "id": "275235df",
      "metadata": {
        "id": "275235df"
      },
      "outputs": [],
      "source": [
        "# step-1 (i=1 , n=5)\n",
        "# while(1<=5):\n",
        "#     print(1)\n",
        "#     i = 1 + 1 = 2\n",
        "\n",
        "# step-2 (i=2 , n=5)\n",
        "# while(2<=5):\n",
        "#     print(2)\n",
        "#     i = 2 + 1 = 3\n",
        "\n",
        "# step-3 (i=3,n=5)\n",
        "# while(3<=5):\n",
        "#     print(3)\n",
        "#     i = 3 + 1 = 4\n",
        "\n",
        "# step-4 (i=4,n=5)\n",
        "# while(4<=5):\n",
        "#     print(4)\n",
        "#     i = 4 +1 = 5\n",
        "\n",
        "# step-5 (i=5 ,n = 5)\n",
        "# while(5<=5):\n",
        "#     print(5)\n",
        "#     i = 5 + 1 = 6\n",
        "\n",
        "# step-6(i=6,n=5)\n",
        "# while(6<=5):\n",
        "#     break\n",
        "\n",
        "# Final Output ----> 1,2,3,4,5"
      ]
    },
    {
      "cell_type": "code",
      "execution_count": null,
      "id": "b17283d4",
      "metadata": {
        "id": "b17283d4"
      },
      "outputs": [],
      "source": [
        "# Q.2 Write a program who print from 5 to 1 ?"
      ]
    },
    {
      "cell_type": "code",
      "execution_count": null,
      "id": "92d8a609",
      "metadata": {
        "id": "92d8a609",
        "outputId": "b856c3d6-1a33-42c2-ad82-9b2766f4ed42"
      },
      "outputs": [
        {
          "name": "stdout",
          "output_type": "stream",
          "text": [
            "5\n",
            "4\n",
            "3\n",
            "2\n",
            "1\n"
          ]
        }
      ],
      "source": [
        "i = 5\n",
        "n=  1\n",
        "while(i>=n):\n",
        "    print(i)\n",
        "    i = i - 1"
      ]
    },
    {
      "cell_type": "code",
      "execution_count": null,
      "id": "b9885cb6",
      "metadata": {
        "id": "b9885cb6"
      },
      "outputs": [],
      "source": [
        "# # step-1 (i = 5 , n = 1)\n",
        "# while(5>=1):\n",
        "#     print(5)\n",
        "#     i = 5-1 = 4\n",
        "\n",
        "# # stwp-2 (i=4 , n = 1)\n",
        "# while(4>=1):\n",
        "#     print(4)\n",
        "#     i = 4 - 1 = 3\n",
        "\n",
        "# # step-3 (i=3 , n =1)\n",
        "# while(3>=1):\n",
        "#     print(3)\n",
        "#     i = 3-1 = 2\n",
        "\n",
        "# # step-4(i=2 , n = 1)\n",
        "# while(2>=1):\n",
        "#     print(2)\n",
        "#     i=  2 - 1 =1\n",
        "\n",
        "# # step-5 (i = 1 , n = 1)\n",
        "# while(1>=1):\n",
        "#     print(1)\n",
        "#     i = 1 -1 = 0\n",
        "\n",
        "# # Output --> 5,4,3,2,1"
      ]
    },
    {
      "cell_type": "code",
      "execution_count": null,
      "id": "a3c6aed5",
      "metadata": {
        "id": "a3c6aed5"
      },
      "outputs": [],
      "source": [
        "# Q.3 Write a program who print sum of 1 to 5 ?\n",
        "# 1,2,3,4,5 ---> 1+2+3+4+5 = 15"
      ]
    },
    {
      "cell_type": "code",
      "execution_count": null,
      "id": "83aeca90",
      "metadata": {
        "id": "83aeca90",
        "outputId": "2e88b66d-03b5-4e9a-8c7e-4fbf266be0d0"
      },
      "outputs": [
        {
          "name": "stdout",
          "output_type": "stream",
          "text": [
            "15\n"
          ]
        }
      ],
      "source": [
        "i = 1   ##initialization\n",
        "n = 5\n",
        "sum = 0\n",
        "while(i<=n):     ##condition\n",
        "    sum = sum + i\n",
        "    i = i + 1\n",
        "print(sum)     ##increment"
      ]
    },
    {
      "cell_type": "code",
      "execution_count": null,
      "id": "2cbd354b",
      "metadata": {
        "id": "2cbd354b"
      },
      "outputs": [],
      "source": [
        "# step-1 (i =1, n =5, sum=0)\n",
        "while(1<=5):\n",
        "    sum = 0 + 1 = 1\n",
        "    i = 1 + 1 = 2\n",
        "\n",
        "# step-2(i=2, n=5, sum=1)\n",
        "while(2<=5):\n",
        "    sum = 1 + 2 = 3\n",
        "    i = 2 + 1 = 3\n",
        "\n",
        "# step-3 (i=3,n=5,sum=3)\n",
        "while(3<=5):\n",
        "    sum = 3 + 3 = 6\n",
        "    i = 3 + 1 = 4\n",
        "\n",
        "# step-4(i=4, n=5, sum = 6)\n",
        "while(4<=5):\n",
        "    sum = 6 + 4 = 10\n",
        "    i = 4 + 1 = 5\n",
        "\n",
        "# step-5(i=5,sum=10,n=5)\n",
        "while(5<=5):\n",
        "    sum = 10 + 5 = 15\n",
        "    i = 5 + 1 = 6\n",
        "\n",
        "# step-6 (i=6 ,n=5 , sum = 15)\n",
        "while(6<=5):\n",
        "    break\n",
        "\n",
        "Final Output ---> sum = 15"
      ]
    },
    {
      "cell_type": "code",
      "execution_count": null,
      "id": "12048c0c",
      "metadata": {
        "id": "12048c0c"
      },
      "outputs": [],
      "source": [
        "# Q.4  Write a program who print sum of square from 1 to 4?\n",
        "# 1**2 + 2**2 + 3**2 + 4**2 = 1+4+9+16 = 30"
      ]
    },
    {
      "cell_type": "code",
      "execution_count": null,
      "id": "c5425e03",
      "metadata": {
        "id": "c5425e03",
        "outputId": "a1840e58-e124-41c5-d9ee-55e59465f31a"
      },
      "outputs": [
        {
          "name": "stdout",
          "output_type": "stream",
          "text": [
            "30\n"
          ]
        }
      ],
      "source": [
        "i = 1\n",
        "n = 4\n",
        "sum = 0\n",
        "while(i<=n):\n",
        "    c = i**2\n",
        "    sum = sum + c\n",
        "    i = i + 1\n",
        "print(sum)"
      ]
    },
    {
      "cell_type": "code",
      "execution_count": null,
      "id": "739615f7",
      "metadata": {
        "id": "739615f7"
      },
      "outputs": [],
      "source": [
        "# # step-1 (i=1 , n = 4  , sum= 0)\n",
        "# while(1<=4):\n",
        "#     sum = 0 + (1**2) = 1\n",
        "#     i = 1+1 = 2\n",
        "\n",
        "# # step-2 (i=2 ,n=4 , sum=1)\n",
        "# while(2<=4):\n",
        "#     sum = 1 + (2**2) = 5\n",
        "#     i = 2 + 1 = 3\n",
        "\n",
        "# # step-3(i=3,n=4,sum=5)\n",
        "# while(3<=4):\n",
        "#     sum = 5 + (3**2) = 5 + 9 = 14\n",
        "#     i = 3 + 1 = 4\n",
        "\n",
        "# # step-4(i=4,n=4,sum=14)\n",
        "# while(4<=4):\n",
        "#     sum = 14 + (4**2) = 30\n",
        "#     i = 4 + 1 = 5\n",
        "\n",
        "# # step-5(i=5,n=4,sum=30)\n",
        "# while(5<=4):\n",
        "#     break\n",
        "\n",
        "# # Final Output ---> sum = 30"
      ]
    },
    {
      "cell_type": "code",
      "execution_count": null,
      "id": "77d5e266",
      "metadata": {
        "id": "77d5e266"
      },
      "outputs": [],
      "source": [
        "# Q.5 Write a program who calculate sum of cube of a given number ?"
      ]
    },
    {
      "cell_type": "code",
      "execution_count": null,
      "id": "17459579",
      "metadata": {
        "id": "17459579"
      },
      "outputs": [],
      "source": [
        "# 1,2,3 ----> 1**3+2**3+3**3 ---> 1+8+27 = 36"
      ]
    },
    {
      "cell_type": "code",
      "execution_count": null,
      "id": "63caf981",
      "metadata": {
        "id": "63caf981",
        "outputId": "ae4bb03d-7de2-4ffe-86fa-5397a006f5bd"
      },
      "outputs": [
        {
          "name": "stdout",
          "output_type": "stream",
          "text": [
            "1\n",
            "9\n",
            "36\n"
          ]
        }
      ],
      "source": [
        "i = 1\n",
        "n = 3\n",
        "sum = 0\n",
        "while(i<=n):\n",
        "    sum = sum + (i**3)\n",
        "    i = i + 1\n",
        "    print(sum)"
      ]
    },
    {
      "cell_type": "code",
      "execution_count": null,
      "id": "dbb72516",
      "metadata": {
        "id": "dbb72516"
      },
      "outputs": [],
      "source": [
        "# ArmStrong Number ---> input numpber = sum of cube\n",
        "# 153 --> 1**3 + 5**3 + 3**3 = 1+125+27 = 152+1 = 153"
      ]
    },
    {
      "cell_type": "code",
      "execution_count": null,
      "id": "f4103335",
      "metadata": {
        "id": "f4103335"
      },
      "outputs": [],
      "source": [
        "i = 153\n",
        "sum = 0\n",
        "orig = i\n",
        "while(i>0):\n",
        "    sum = sum + (i%10)**3\n",
        "    i = i//10\n",
        "print(sum)\n",
        "if(orig==sum):\n",
        "    print(\"Number is Armstrong\")\n",
        "else:\n",
        "    print(\"NotArmstrong\")"
      ]
    },
    {
      "cell_type": "code",
      "execution_count": null,
      "id": "22ebc1ff",
      "metadata": {
        "id": "22ebc1ff"
      },
      "outputs": [],
      "source": [
        "# step-1  (i = 153 , sum = 0)\n",
        "while(153>0):\n",
        "    sum = 0 + (153%10)**3 = 0 + (3)**3 = 27\n",
        "    i = 153//10 = 15\n",
        "\n",
        "# step-2 (i=15 , sum = 27)\n",
        "while(15>0):\n",
        "    sum = 27 + (15%10)**3 = 27 + (5)**3 = 27 + 125 = 152\n",
        "    i = 15//10 = 1\n",
        "\n",
        "# step-3 (i = 1 , sum = 152)\n",
        "while(1>0):\n",
        "    sum = 152 + (1%10)**3 = 152 + (1) = 153\n",
        "    i = 1//10 = 0\n",
        "\n",
        "# step-4 (i = 0 ,sum = 153)\n",
        "while(0>0):\n",
        "    break\n",
        "\n",
        "# Final Output ---> 153"
      ]
    },
    {
      "cell_type": "code",
      "source": [
        "n=int(input(\"enter a number :\"))\n",
        "i=1\n",
        "while(i<=n):\n",
        "  print(i ,end=\" \")\n",
        "  i+=1"
      ],
      "metadata": {
        "colab": {
          "base_uri": "https://localhost:8080/"
        },
        "id": "rJLsfKStc4Y9",
        "outputId": "4347999a-414d-4cfd-9533-b9caf7dc8d82"
      },
      "id": "rJLsfKStc4Y9",
      "execution_count": null,
      "outputs": [
        {
          "output_type": "stream",
          "name": "stdout",
          "text": [
            "enter a number :100\n",
            "1 2 3 4 5 6 7 8 9 10 11 12 13 14 15 16 17 18 19 20 21 22 23 24 25 26 27 28 29 30 31 32 33 34 35 36 37 38 39 40 41 42 43 44 45 46 47 48 49 50 51 52 53 54 55 56 57 58 59 60 61 62 63 64 65 66 67 68 69 70 71 72 73 74 75 76 77 78 79 80 81 82 83 84 85 86 87 88 89 90 91 92 93 94 95 96 97 98 99 100 "
          ]
        }
      ]
    },
    {
      "cell_type": "code",
      "source": [
        "n=float(input(\"enter a number : \"))\n",
        "while(n>=1):\n",
        "  print(n)\n",
        "  n=n/2"
      ],
      "metadata": {
        "colab": {
          "base_uri": "https://localhost:8080/"
        },
        "id": "fckywBb7d6Bz",
        "outputId": "729f5d4f-9ce2-470f-d8ad-1dd233885f7d"
      },
      "id": "fckywBb7d6Bz",
      "execution_count": null,
      "outputs": [
        {
          "output_type": "stream",
          "name": "stdout",
          "text": [
            "enter a number : 5\n",
            "5.0\n",
            "2.5\n",
            "1.25\n"
          ]
        }
      ]
    },
    {
      "cell_type": "code",
      "source": [
        "n=int(input(\"enter a number :\"))\n",
        "rev=0\n",
        "while(n>0):\n",
        "  digit=n%10\n",
        "  rev=0*10+digit\n",
        "  n=n//10\n",
        "  print(rev,end=\"\")"
      ],
      "metadata": {
        "colab": {
          "base_uri": "https://localhost:8080/"
        },
        "id": "MISOZjB0f3QB",
        "outputId": "16cbb175-81e9-4d98-842f-f9f0415b127c"
      },
      "id": "MISOZjB0f3QB",
      "execution_count": null,
      "outputs": [
        {
          "output_type": "stream",
          "name": "stdout",
          "text": [
            "enter a number :123\n",
            "321"
          ]
        }
      ]
    },
    {
      "cell_type": "code",
      "source": [
        "sum=0\n",
        "while True:\n",
        "  n=int(input(\"enter a positive number : \"))\n",
        "  if(n>0):\n",
        "    sum=sum+n\n",
        "  elif(n<0):\n",
        "     break\n",
        "print(f\"answer is:{sum}\")"
      ],
      "metadata": {
        "colab": {
          "base_uri": "https://localhost:8080/"
        },
        "id": "Mg2kE8MbjLO2",
        "outputId": "88ef7c15-5d8c-49d0-c9f9-7a563f858ab7"
      },
      "id": "Mg2kE8MbjLO2",
      "execution_count": null,
      "outputs": [
        {
          "output_type": "stream",
          "name": "stdout",
          "text": [
            "enter a positive number : 1\n",
            "enter a positive number : 2\n",
            "enter a positive number : 3\n",
            "enter a positive number : -1\n",
            "answer is:6\n"
          ]
        }
      ]
    },
    {
      "cell_type": "code",
      "source": [
        "n=int(input(\"enter a number : \"))\n",
        "sum=0\n",
        "while(n>0):\n",
        "      digit=n%10\n",
        "      sum=sum+digit\n",
        "      n=n//10\n",
        "print(sum)\n"
      ],
      "metadata": {
        "colab": {
          "base_uri": "https://localhost:8080/"
        },
        "id": "rNmG71gVm26L",
        "outputId": "a5b5a1bc-0929-435b-d049-03c7039258a3"
      },
      "id": "rNmG71gVm26L",
      "execution_count": null,
      "outputs": [
        {
          "output_type": "stream",
          "name": "stdout",
          "text": [
            "enter a number : 123\n",
            "6\n"
          ]
        }
      ]
    },
    {
      "cell_type": "code",
      "source": [
        "n=int(input(\"enter a number : \"))\n",
        "count=0\n",
        "while(n>0):\n",
        "  count+=1\n",
        "  n=n//10\n",
        "print(count)"
      ],
      "metadata": {
        "colab": {
          "base_uri": "https://localhost:8080/"
        },
        "id": "pM-HZj1FpfN_",
        "outputId": "2b72c95f-6922-48d0-facd-bb3a0e5eaa58"
      },
      "id": "pM-HZj1FpfN_",
      "execution_count": null,
      "outputs": [
        {
          "output_type": "stream",
          "name": "stdout",
          "text": [
            "enter a number : 123\n",
            "3\n"
          ]
        }
      ]
    },
    {
      "cell_type": "code",
      "source": [
        "n=int(input(\"enter a last number: \"))\n",
        "i=1\n",
        "while(i<=n):\n",
        "  if(i%2!=0):\n",
        "    print(i,end=\" \")\n",
        "  i+=1"
      ],
      "metadata": {
        "colab": {
          "base_uri": "https://localhost:8080/"
        },
        "id": "_xX1yOI5qYPS",
        "outputId": "8a806400-5aea-4b61-acab-e7c390b33dce"
      },
      "id": "_xX1yOI5qYPS",
      "execution_count": null,
      "outputs": [
        {
          "output_type": "stream",
          "name": "stdout",
          "text": [
            "enter a last number: 100\n",
            "1 3 5 7 9 11 13 15 17 19 21 23 25 27 29 31 33 35 37 39 41 43 45 47 49 51 53 55 57 59 61 63 65 67 69 71 73 75 77 79 81 83 85 87 89 91 93 95 97 99 "
          ]
        }
      ]
    },
    {
      "cell_type": "code",
      "source": [
        "n=int(input(\"enter a last number: \"))\n",
        "i=1\n",
        "while(i<=n):\n",
        "  if(i%2==0):\n",
        "    print(i,end=\" \")\n",
        "  i+=1"
      ],
      "metadata": {
        "colab": {
          "base_uri": "https://localhost:8080/"
        },
        "id": "8u8Is7LkrHFV",
        "outputId": "249b3714-f8c4-44b1-9833-f755f4c83948"
      },
      "id": "8u8Is7LkrHFV",
      "execution_count": null,
      "outputs": [
        {
          "output_type": "stream",
          "name": "stdout",
          "text": [
            "enter a last number: 100\n",
            "2 4 6 8 10 12 14 16 18 20 22 24 26 28 30 32 34 36 38 40 42 44 46 48 50 52 54 56 58 60 62 64 66 68 70 72 74 76 78 80 82 84 86 88 90 92 94 96 98 100 "
          ]
        }
      ]
    },
    {
      "cell_type": "code",
      "source": [
        "n=int(input(\"enter a year: \"))\n",
        "if(n%4==0):\n",
        "    print(\"leap year\")\n",
        "else:\n",
        "    print(\"not a leap year\")"
      ],
      "metadata": {
        "colab": {
          "base_uri": "https://localhost:8080/"
        },
        "id": "D2BJMHfHrza8",
        "outputId": "26381110-1337-4743-f041-95cb9f17a837"
      },
      "id": "D2BJMHfHrza8",
      "execution_count": null,
      "outputs": [
        {
          "output_type": "stream",
          "name": "stdout",
          "text": [
            "enter a year: 2021\n",
            "not a leap year\n"
          ]
        }
      ]
    },
    {
      "cell_type": "code",
      "source": [
        "#palindrome number\n",
        "n=int(input(\"enter a number: \"))\n",
        "rev=0\n",
        "temp=n\n",
        "while(n>0):\n",
        "  digit=n%10\n",
        "  rev=(rev*10)+digit\n",
        "  n=n//10\n",
        "if(rev==temp):\n",
        "  print(\"palindrome number\")\n",
        "else:\n",
        "  print(\"not palindrome\")\n"
      ],
      "metadata": {
        "id": "92Tfmq4UM00N"
      },
      "id": "92Tfmq4UM00N",
      "execution_count": null,
      "outputs": []
    }
  ],
  "metadata": {
    "kernelspec": {
      "display_name": "Python 3 (ipykernel)",
      "language": "python",
      "name": "python3"
    },
    "language_info": {
      "codemirror_mode": {
        "name": "ipython",
        "version": 3
      },
      "file_extension": ".py",
      "mimetype": "text/x-python",
      "name": "python",
      "nbconvert_exporter": "python",
      "pygments_lexer": "ipython3",
      "version": "3.9.12"
    },
    "colab": {
      "provenance": [],
      "include_colab_link": true
    }
  },
  "nbformat": 4,
  "nbformat_minor": 5
}