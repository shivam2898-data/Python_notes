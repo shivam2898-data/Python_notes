{
  "nbformat": 4,
  "nbformat_minor": 0,
  "metadata": {
    "colab": {
      "provenance": [],
      "include_colab_link": true
    },
    "kernelspec": {
      "name": "python3",
      "display_name": "Python 3"
    },
    "language_info": {
      "name": "python"
    }
  },
  "cells": [
    {
      "cell_type": "markdown",
      "metadata": {
        "id": "view-in-github",
        "colab_type": "text"
      },
      "source": [
        "<a href=\"https://colab.research.google.com/github/shivam2898-data/Python_notes/blob/main/introduction.ipynb\" target=\"_parent\"><img src=\"https://colab.research.google.com/assets/colab-badge.svg\" alt=\"Open In Colab\"/></a>"
      ]
    },
    {
      "cell_type": "code",
      "execution_count": null,
      "metadata": {
        "id": "qijOC8Y2Mxlw"
      },
      "outputs": [],
      "source": [
        "# What is Python ?\n",
        "# Python is a general-purpose , high-level , interpreted programming language which was invented in 1991 by GuidoVan Rossoum.\n",
        "# Python version 3\n",
        "\n",
        "#method - 1  If you installed python in your system and then install vs code and then install extension of pytho  in vs code .\n",
        "# python --version\n",
        "\n",
        "# method - 2 Install Anaconda ---> Launch JupyterNotebook\n",
        "\n",
        "# method-3 Go to browser ---> Google colab --> click on New Notebook .\n",
        "\n",
        "# cntrl+Enter ---> for execute current cell\n",
        "# shift+enter ---> for execute current cell and create a new cell"
      ]
    },
    {
      "cell_type": "code",
      "source": [
        "# Fundamentals of Python\n",
        "# (1). Data type --->\n",
        "# (a). Integer ----> All positive or negative values .\n",
        "# Ex. 23 , 56 , -78 , -94\n",
        "\n",
        "# (b). Float ----> All decial values .\n",
        "# Ex. 12.34 , 56.89\n",
        "\n",
        "# (c). String ----> 'single_quotes' , \"double_quotes\" , '''triple_quotes'''\n",
        "# Ex. 'sam' , \"45\" , '''45.89'''\n",
        "\n",
        "# (d). Boolean ----> TRUE , FALSE\n",
        "\n",
        "# (2). variable ----> This is a container in which we can store or assign our values .\n",
        "# Ex. a = 45 , b = 'rahul' , c = 5>4    ### here a,b,c=variable\n",
        "\n",
        "\n",
        "# (3). print() , input()\n",
        "\n",
        "# print() ----> This is a pre-defined function of python and it will execute our query on terminal .\n",
        "# Ex.\n",
        "print(45)\n",
        "print('sam')\n",
        "a = 'rahul'\n",
        "print(a)\n",
        "\n",
        "# Input() ----> This is pre-defined function of python that will ask query from users and its output is in string format .\n"
      ],
      "metadata": {
        "colab": {
          "base_uri": "https://localhost:8080/"
        },
        "id": "jwwzfs8wNAAf",
        "outputId": "f45dbc04-6ba2-4e59-dc16-49d3773a8a1b"
      },
      "execution_count": null,
      "outputs": [
        {
          "output_type": "stream",
          "name": "stdout",
          "text": [
            "45\n",
            "sam\n",
            "rahul\n"
          ]
        }
      ]
    },
    {
      "cell_type": "code",
      "source": [
        "# type() ---> Using type() , we can check datatype of element .\n",
        "# Ex.\n",
        "type(45)\n",
        "type(45.78)\n",
        "type('sam')\n",
        "type(5>4)"
      ],
      "metadata": {
        "colab": {
          "base_uri": "https://localhost:8080/"
        },
        "id": "HxHcrcggOzgA",
        "outputId": "cb5b01fc-4b7d-47b5-b1c1-aab805caefb4"
      },
      "execution_count": null,
      "outputs": [
        {
          "output_type": "execute_result",
          "data": {
            "text/plain": [
              "bool"
            ]
          },
          "metadata": {},
          "execution_count": 1
        }
      ]
    },
    {
      "cell_type": "code",
      "source": [
        "# Input()\n",
        "\n",
        "a = 1\n",
        "b = 2\n",
        "c = a + b    ## In integers , two or more values are operate .\n",
        "print(c)\n",
        "\n",
        "a = '1'\n",
        "b = '2'\n",
        "c = a + b   ### in string two or more values are concat ..\n",
        "print(c)"
      ],
      "metadata": {
        "colab": {
          "base_uri": "https://localhost:8080/"
        },
        "id": "vzYzh4saPydK",
        "outputId": "97e9832d-1be5-4ca3-c3c8-dbf5a1bc8acc"
      },
      "execution_count": null,
      "outputs": [
        {
          "output_type": "stream",
          "name": "stdout",
          "text": [
            "3\n",
            "12\n"
          ]
        }
      ]
    },
    {
      "cell_type": "code",
      "source": [
        "# Q.1 Write a user defined program who can add 2 numbers ?\n",
        "a = input(\"Enter first number:\")\n",
        "b = input(\"Enter second number:\")\n",
        "c = a + b\n",
        "print(c)"
      ],
      "metadata": {
        "colab": {
          "base_uri": "https://localhost:8080/"
        },
        "id": "6tOJvqngRq0V",
        "outputId": "eca1336b-b23e-42d3-9916-635a71dbc779"
      },
      "execution_count": null,
      "outputs": [
        {
          "output_type": "stream",
          "name": "stdout",
          "text": [
            "Enter first number:1\n",
            "Enter second number:2\n",
            "12\n"
          ]
        }
      ]
    },
    {
      "cell_type": "code",
      "source": [
        "# type-casting ====> using type-casting , we can change data type of our values .\n",
        "\n",
        "# Q.1 Write a user defined program who can add 2 numbers ?\n",
        "a = int(input(\"Enter first number:\"))\n",
        "b = int(input(\"Enter second number:\"))\n",
        "c = a + b\n",
        "print(\"sum is\",c)"
      ],
      "metadata": {
        "colab": {
          "base_uri": "https://localhost:8080/"
        },
        "id": "3X0zpdhrSYIV",
        "outputId": "98098d10-854e-43d3-e40f-edbb77079f4d"
      },
      "execution_count": null,
      "outputs": [
        {
          "output_type": "stream",
          "name": "stdout",
          "text": [
            "Enter first number:1\n",
            "Enter second number:2\n",
            "sum is 3\n"
          ]
        }
      ]
    },
    {
      "cell_type": "code",
      "source": [],
      "metadata": {
        "id": "PBV4bU_01wea"
      },
      "execution_count": null,
      "outputs": []
    },
    {
      "cell_type": "code",
      "source": [
        "num1=45\n",
        "num2=2\n",
        "ans=num1*num2\n",
        "print(ans)"
      ],
      "metadata": {
        "colab": {
          "base_uri": "https://localhost:8080/"
        },
        "id": "ecuSY1gp1wjJ",
        "outputId": "49c276a7-44c8-4754-8665-9f2cea76bc3c"
      },
      "execution_count": null,
      "outputs": [
        {
          "output_type": "stream",
          "name": "stdout",
          "text": [
            "90\n"
          ]
        }
      ]
    },
    {
      "cell_type": "code",
      "source": [
        "num1=input(\"enter number 1 :\")\n",
        "num2=input(\"enter number 2 :\")\n",
        "ans=int(num1)*int(num2)\n",
        "\n",
        "print(ans)"
      ],
      "metadata": {
        "colab": {
          "base_uri": "https://localhost:8080/"
        },
        "id": "bdGYkKWq11g0",
        "outputId": "34431559-b8a0-4269-af76-798d8149b40c"
      },
      "execution_count": null,
      "outputs": [
        {
          "output_type": "stream",
          "name": "stdout",
          "text": [
            "enter number 1 :5\n",
            "enter number 2 :8\n",
            "40\n"
          ]
        }
      ]
    },
    {
      "cell_type": "code",
      "source": [
        "# type-casting ====> using type-casting , we can change data type of our values .\n",
        "\n",
        "# Q.1 Write a user defined program who can add 2 numbers ?\n",
        "a = input(\"Enter first number:\")\n",
        "b = input(\"Enter second number:\")\n",
        "c = int(a) + int(b)\n",
        "print(c)"
      ],
      "metadata": {
        "colab": {
          "base_uri": "https://localhost:8080/"
        },
        "id": "E2DqvwEWThhi",
        "outputId": "147d38ca-3600-4f12-e080-006879e36f9d"
      },
      "execution_count": null,
      "outputs": [
        {
          "output_type": "stream",
          "name": "stdout",
          "text": [
            "Enter first number:1\n",
            "Enter second number:2\n",
            "3\n"
          ]
        }
      ]
    },
    {
      "cell_type": "code",
      "source": [
        "a = '45'\n",
        "print(a)\n",
        "print(type(a))\n",
        "b = int(a)\n",
        "print(b)\n",
        "print(type(b))\n",
        "c = float(a)\n",
        "print(c)\n",
        "print(type(c))\n"
      ],
      "metadata": {
        "colab": {
          "base_uri": "https://localhost:8080/"
        },
        "id": "0726M-4MS3ix",
        "outputId": "32eb3168-59af-4663-e795-b06b450526f8"
      },
      "execution_count": null,
      "outputs": [
        {
          "output_type": "stream",
          "name": "stdout",
          "text": [
            "45\n",
            "<class 'str'>\n",
            "45\n",
            "<class 'int'>\n",
            "45.0\n",
            "<class 'float'>\n"
          ]
        }
      ]
    },
    {
      "cell_type": "code",
      "source": [
        "a=1\n",
        "b=5\n",
        "c=a+b\n",
        "print(c)"
      ],
      "metadata": {
        "id": "hV8pFyyUS7jW",
        "colab": {
          "base_uri": "https://localhost:8080/"
        },
        "outputId": "1ace3bfb-63dd-436b-cd27-409c19db1eef"
      },
      "execution_count": null,
      "outputs": [
        {
          "output_type": "stream",
          "name": "stdout",
          "text": [
            "6\n"
          ]
        }
      ]
    }
  ]
}