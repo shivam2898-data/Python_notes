{
  "nbformat": 4,
  "nbformat_minor": 0,
  "metadata": {
    "colab": {
      "provenance": [],
      "authorship_tag": "ABX9TyMbXFdluJrbKxF71GjHJsEu",
      "include_colab_link": true
    },
    "kernelspec": {
      "name": "python3",
      "display_name": "Python 3"
    },
    "language_info": {
      "name": "python"
    }
  },
  "cells": [
    {
      "cell_type": "markdown",
      "metadata": {
        "id": "view-in-github",
        "colab_type": "text"
      },
      "source": [
        "<a href=\"https://colab.research.google.com/github/shivam2898-data/Python_notes/blob/main/args_kwargs_.ipynb\" target=\"_parent\"><img src=\"https://colab.research.google.com/assets/colab-badge.svg\" alt=\"Open In Colab\"/></a>"
      ]
    },
    {
      "cell_type": "code",
      "execution_count": null,
      "metadata": {
        "colab": {
          "base_uri": "https://localhost:8080/"
        },
        "id": "qCLrjPuOKgim",
        "outputId": "53bf648b-7a72-4868-85ee-7d84b55c751b"
      },
      "outputs": [
        {
          "output_type": "stream",
          "name": "stdout",
          "text": [
            "sum:30\n"
          ]
        }
      ],
      "source": [
        "# args(non key word arguments)\n",
        "# args allows you to pass multiple positional arguments to a function . it collects them into a tuple.\n",
        "\n",
        "\n",
        "def add_numbers(*args):\n",
        "  total= sum(args)\n",
        "  print(f\"sum:{total}\")\n",
        "add_numbers(5,10,15)"
      ]
    },
    {
      "cell_type": "code",
      "source": [
        "# kwargs\n",
        "# kwargs allows you to pass multiple keyword argument name value pairs) it collects them into a dictionary.\n",
        "\n",
        "\n",
        "def print_details(**kwargs):\n",
        "  for key,value in kwargs. items ():\n",
        "   print(f\"{key}: {value}\")\n",
        "print_details(name=\"sam\",age=25,city=\"mumbai\")\n"
      ],
      "metadata": {
        "colab": {
          "base_uri": "https://localhost:8080/"
        },
        "id": "6bCRWOrnMOwU",
        "outputId": "d8a31200-17a5-4f0e-9046-dddc827130e3"
      },
      "execution_count": 6,
      "outputs": [
        {
          "output_type": "stream",
          "name": "stdout",
          "text": [
            "name: sam\n",
            "age: 25\n",
            "city: mumbai\n"
          ]
        }
      ]
    },
    {
      "cell_type": "code",
      "source": [
        "# args and kwargs\n",
        "# you can both in the smame function but args amudst come before *kwargs.\n",
        "\n",
        "def display_info(*args,**kwargs):\n",
        "  print(\"positional arguments :\",args)\n",
        "  print(\"keyword arguments :\",kwargs)\n",
        "\n",
        "display_info(1,2,3,name=\"sam\",age=25)"
      ],
      "metadata": {
        "colab": {
          "base_uri": "https://localhost:8080/"
        },
        "id": "tIL3hZzPMv5a",
        "outputId": "b0aaaca2-3848-47a1-b414-8a2eb6c2e071"
      },
      "execution_count": null,
      "outputs": [
        {
          "output_type": "stream",
          "name": "stdout",
          "text": [
            "positional arguments : (1, 2, 3)\n",
            "keyword arguments : {'name': 'sam', 'age': 25}\n"
          ]
        }
      ]
    },
    {
      "cell_type": "code",
      "source": [
        "# required arguments (mandatory inputs)\n",
        "# these are arguments that must be passed to a function otherwise, Python throws an erroe, There is no default value for these arguments.\n",
        "\n",
        "def greet (name):\n",
        "  print(f\"hello,{name}\")\n",
        "greet(\"sam\")\n"
      ],
      "metadata": {
        "colab": {
          "base_uri": "https://localhost:8080/"
        },
        "id": "Dw8C6aRFNM-b",
        "outputId": "fcf3e3cb-8b54-42f4-a3f9-1b9e5c587476"
      },
      "execution_count": null,
      "outputs": [
        {
          "output_type": "stream",
          "name": "stdout",
          "text": [
            "hello,sam\n"
          ]
        }
      ]
    },
    {
      "cell_type": "code",
      "source": [
        "#default arguments (optional inputs)\n",
        "# these arguments have a default value assigned . if no value is provided, python usews the default.value\n",
        "\n",
        "def greet(name=\"guest\"):\n",
        "  print(f\"hello {name}\")\n",
        "greet()\n",
        "greet(\"sam\")\n"
      ],
      "metadata": {
        "colab": {
          "base_uri": "https://localhost:8080/"
        },
        "id": "haelhVwgONEy",
        "outputId": "ab0895bf-2f09-4521-9445-6fb63a1dbaba"
      },
      "execution_count": null,
      "outputs": [
        {
          "output_type": "stream",
          "name": "stdout",
          "text": [
            "hello guest\n",
            "hello sam\n"
          ]
        }
      ]
    },
    {
      "cell_type": "code",
      "source": [
        "#return keyword Output of a function\n",
        "# the return statement send a value back from a function. if return is not used the function returns none.\n",
        "def add(a,b):\n",
        "  return a+b\n",
        "result=add(5,3)\n",
        "print(result)"
      ],
      "metadata": {
        "colab": {
          "base_uri": "https://localhost:8080/"
        },
        "id": "fJ-8_kCYPG9k",
        "outputId": "bc6972e1-3029-438f-c29b-942b1254a768"
      },
      "execution_count": null,
      "outputs": [
        {
          "output_type": "stream",
          "name": "stdout",
          "text": [
            "8\n"
          ]
        }
      ]
    },
    {
      "cell_type": "code",
      "source": [
        "#Q1 find the maximum number using *args\n",
        "def find_max(*args):\n",
        "  return max(args)\n",
        "\n",
        "print(find_max(10,5,25,8,100))\n",
        "print(find_max(-1,-10,-5,0))"
      ],
      "metadata": {
        "colab": {
          "base_uri": "https://localhost:8080/"
        },
        "id": "CK5SPXipPxgm",
        "outputId": "334d0735-07ae-460d-f2f3-2beb73529337"
      },
      "execution_count": null,
      "outputs": [
        {
          "output_type": "stream",
          "name": "stdout",
          "text": [
            "100\n",
            "0\n"
          ]
        }
      ]
    },
    {
      "cell_type": "code",
      "source": [
        "#Q2 calculate the product of number using *args\n",
        "def product(*args):\n",
        "  result=1\n",
        "  for num in args:\n",
        "    result *=num\n",
        "print(product(2,3,4))\n",
        "print(product(5,5))"
      ],
      "metadata": {
        "colab": {
          "base_uri": "https://localhost:8080/"
        },
        "id": "i_xIDMjmQI5D",
        "outputId": "8627bef6-02ef-4f40-c8fd-bb15e52c45ce"
      },
      "execution_count": null,
      "outputs": [
        {
          "output_type": "stream",
          "name": "stdout",
          "text": [
            "None\n",
            "None\n"
          ]
        }
      ]
    },
    {
      "cell_type": "code",
      "source": [
        "def full_name(**kwargs):\n",
        "  return f\"{kwargs.get('first_name','unknown')} {kwargs.get('last_name','Mehta')}\"\n",
        "print(full_name(first_name=\"sam\",last_name=\"sharma\"))\n",
        "print(full_name(first_name=\"rahul\"))\n"
      ],
      "metadata": {
        "colab": {
          "base_uri": "https://localhost:8080/"
        },
        "id": "uFWSpiBmRClc",
        "outputId": "3ed84297-95c9-4296-e0a4-c11ba989cce6"
      },
      "execution_count": null,
      "outputs": [
        {
          "output_type": "stream",
          "name": "stdout",
          "text": [
            "sam sharma\n",
            "rahul Mehta\n"
          ]
        }
      ]
    },
    {
      "cell_type": "code",
      "source": [
        "# count vowels in a given string using return\n",
        "def count_vowels(string):\n",
        "  vowels=\"aeiouAEIOU\"\n",
        "  return sum(1 for char in string if char in vowels)\n",
        "\n",
        "print(count_vowels(\"hello world\"))\n",
        "print(count_vowels(\"python\"))"
      ],
      "metadata": {
        "colab": {
          "base_uri": "https://localhost:8080/"
        },
        "id": "EPeckfn-SH9k",
        "outputId": "9fb86cf2-7b8f-465f-83da-108160869cc2"
      },
      "execution_count": null,
      "outputs": [
        {
          "output_type": "stream",
          "name": "stdout",
          "text": [
            "3\n",
            "1\n"
          ]
        }
      ]
    },
    {
      "cell_type": "code",
      "source": [
        "def shopping_cart(*items,**prices):\n",
        "  total=sum(prices[item]for item in items if item in prices)\n",
        "  return total\n",
        "print(shopping_cart(\"apple\",\"banana\",\"mango\",apple=50,banana=20,mango=30))\n",
        "print(shopping_cart(\"mango\",\"grapes\",mango=30,grapes=40))\n",
        "\n",
        "\n",
        "#method2\n",
        "# def cart(*items,**price):\n",
        "#   sum=0\n",
        "#   for i in items:\n",
        "#     if i in price:\n",
        "#       sum+=price[i]\n",
        "#   return sum\n",
        "# cart('apple','mango',apple=50,mango=40)"
      ],
      "metadata": {
        "colab": {
          "base_uri": "https://localhost:8080/"
        },
        "id": "MAK-G2dKTGcv",
        "outputId": "86ce856a-ca33-4880-b7bc-4c239f899e5a"
      },
      "execution_count": null,
      "outputs": [
        {
          "output_type": "stream",
          "name": "stdout",
          "text": [
            "100\n",
            "70\n"
          ]
        }
      ]
    },
    {
      "cell_type": "code",
      "source": [
        "#functions with required and default arguments.\n",
        "def greet(name,age=18):\n",
        "  return f\"hello {name},you are {age} years old.\"\n",
        "print(greet(\"sam\"))\n",
        "print(greet(\"rahul\",25))\n"
      ],
      "metadata": {
        "colab": {
          "base_uri": "https://localhost:8080/"
        },
        "id": "bpWe_s4gUdKV",
        "outputId": "ef88714b-070b-4a86-836f-09ca6d84426d"
      },
      "execution_count": null,
      "outputs": [
        {
          "output_type": "stream",
          "name": "stdout",
          "text": [
            "hello sam,you are 18 years old.\n",
            "hello rahul,you are 25 years old.\n"
          ]
        }
      ]
    },
    {
      "cell_type": "code",
      "source": [
        "#merge two lists using *args\n",
        "def merge_lists(*args):\n",
        "  return [item for lst in args for item in lst]\n",
        "print(merge_lists([1,2,3],[4,5,6]))\n",
        "print(merge_lists(['a','b','c'],['c','d','f']))"
      ],
      "metadata": {
        "colab": {
          "base_uri": "https://localhost:8080/"
        },
        "id": "6FET_DnmU6a-",
        "outputId": "4a425fca-b491-41c7-92fc-22b0a11f33ee"
      },
      "execution_count": null,
      "outputs": [
        {
          "output_type": "stream",
          "name": "stdout",
          "text": [
            "[1, 2, 3, 4, 5, 6]\n",
            "['a', 'b', 'c', 'c', 'd', 'f']\n"
          ]
        }
      ]
    },
    {
      "cell_type": "code",
      "source": [
        "def separate_even_odd(numbers):\n",
        "  even=[num for num in numbers if num%2==0]\n",
        "  odd=[num for num in numbers if num%2!=0]\n",
        "  return even,odd\n",
        "evens,odds=separate_even_odd([1,2,3,4,5,6])\n",
        "print(\"evens\",evens)\n",
        "print(\"odds\",odds)"
      ],
      "metadata": {
        "colab": {
          "base_uri": "https://localhost:8080/"
        },
        "id": "ptnCHdCjWju4",
        "outputId": "f8dd9e99-00e0-4940-d4ef-f664a06bcabd"
      },
      "execution_count": null,
      "outputs": [
        {
          "output_type": "stream",
          "name": "stdout",
          "text": [
            "evens [2, 4, 6]\n",
            "odds [1, 3, 5]\n"
          ]
        }
      ]
    },
    {
      "cell_type": "code",
      "source": [
        "a=[1,2,3,4,5]\n",
        "even=[]\n",
        "odd=[]\n",
        "for i in range (len(a)):\n",
        "  if(a[i]%2==0):\n",
        "    even.append(a[i])\n",
        "  else:\n",
        "    odd.append(a[i])\n",
        "print(even)\n",
        "print(odd)\n",
        "\n"
      ],
      "metadata": {
        "colab": {
          "base_uri": "https://localhost:8080/"
        },
        "id": "aUu_wLvgYV6d",
        "outputId": "62683cfa-a8c4-4d8f-a543-8bbf96d7e5ba"
      },
      "execution_count": null,
      "outputs": [
        {
          "output_type": "stream",
          "name": "stdout",
          "text": [
            "[2, 4]\n",
            "[1, 3, 5]\n"
          ]
        }
      ]
    },
    {
      "cell_type": "code",
      "source": [
        "#Calculate Discounted Price Using **kwargs\n",
        "def discount_price(**kwargs):\n",
        "    price = kwargs.get(\"price\", 0)\n",
        "    discount = kwargs.get(\"discount\", 0)\n",
        "    return price - (price * discount / 100)\n",
        "\n",
        "print(discount_price(price=1000, discount=10))\n",
        "print(discount_price(price=500, discount=20))"
      ],
      "metadata": {
        "id": "8fNLw0F3hd61",
        "outputId": "b3324feb-bbf4-4fbf-e51e-b2fb793921b5",
        "colab": {
          "base_uri": "https://localhost:8080/"
        }
      },
      "execution_count": null,
      "outputs": [
        {
          "output_type": "stream",
          "name": "stdout",
          "text": [
            "900.0\n",
            "400.0\n"
          ]
        }
      ]
    },
    {
      "cell_type": "code",
      "source": [
        "def things(**kwargs):\n",
        "  price=kwargs.get('price',0)\n",
        "  discount=kwargs.get('discount',0)\n",
        "  return price-(price*discount/100)\n",
        "print(things(price=1000,discount=10))\n",
        "print(things(price=500,discount=20))"
      ],
      "metadata": {
        "colab": {
          "base_uri": "https://localhost:8080/"
        },
        "id": "pYAq3qT9YAiM",
        "outputId": "16dc9648-171e-43d2-d526-bfa297293b4c"
      },
      "execution_count": null,
      "outputs": [
        {
          "output_type": "stream",
          "name": "stdout",
          "text": [
            "900.0\n",
            "400.0\n"
          ]
        }
      ]
    }
  ]
}